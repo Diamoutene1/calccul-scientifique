{
 "cells": [
  {
   "cell_type": "markdown",
   "metadata": {},
   "source": [
    " # Calcul scientifique -- TP3 -- `numpy`"
   ]
  },
  {
   "cell_type": "markdown",
   "metadata": {},
   "source": [
    "**Nom :DIAMOUTENE &nbsp;&nbsp;&nbsp;&nbsp;   &nbsp;&ensp; &emsp;    \n",
    "**Prénom:ZANA &emsp;&emsp;  "
   ]
  },
  {
   "cell_type": "markdown",
   "metadata": {},
   "source": [
    "Attention: pour ce TP il s'agit d'utiliser numpy et ses fonctionnalités donc pas de bricoler avec des listes et des boucles.\n",
    "\n",
    "**Il n'y aura pas de boucles dans ce TP**"
   ]
  },
  {
   "cell_type": "markdown",
   "metadata": {},
   "source": [
    "### 1) Création de tableaux"
   ]
  },
  {
   "cell_type": "markdown",
   "metadata": {},
   "source": [
    "Pour commencer, on importe la librairie  `numpy`"
   ]
  },
  {
   "cell_type": "code",
   "execution_count": 1,
   "metadata": {},
   "outputs": [],
   "source": [
    "import numpy as np"
   ]
  },
  {
   "cell_type": "markdown",
   "metadata": {},
   "source": [
    "Créer une variable numpy de type `array`, nommée `a` contenant les valeurs de 1 à 20 des 3 manières  différentes :\n",
    "\n",
    "- a1: à partir d'un tableau python  t = [1,2,3,4,5,6,7,8,9,10,11,12,13,14,15,16,17,18,19,20]\n",
    "- a2: en utilisant la fonction arange de numpy\n",
    "- a3: en utilisant la fonction linspace de numpy\n",
    "\n",
    "puis afficher le contenu et le type de `a1,a2,a3` pour les 3 méthodes. On doit obtenir le même tableau qu'on appellera ensuite a pour continuer l'exercice.\n"
   ]
  },
  {
   "cell_type": "code",
   "execution_count": 42,
   "metadata": {},
   "outputs": [
    {
     "ename": "SyntaxError",
     "evalue": "invalid decimal literal (3344507126.py, line 26)",
     "output_type": "error",
     "traceback": [
      "\u001b[0;36m  File \u001b[0;32m\"/tmp/ipykernel_12003/3344507126.py\"\u001b[0;36m, line \u001b[0;32m26\u001b[0m\n\u001b[0;31m    sol1 = dicho ( x1 , x2 , f , 1e −7)\u001b[0m\n\u001b[0m                                 ^\u001b[0m\n\u001b[0;31mSyntaxError\u001b[0m\u001b[0;31m:\u001b[0m invalid decimal literal\n"
     ]
    }
   ],
   "source": [
    "t = [1,2,3,4,5,6,7,8,9,10,11,12,13,14,15,16,17,18,19,20]\n",
    "\n",
    "a1=np.array(t)\n",
    "print('a1:',a1,'type :',type(a1));a1\n",
    "\n",
    "a2=np.arange(1,21,1)\n",
    "print('a2:',a2,'type :',type(a2));\n",
    "\n",
    "# à compléter\n",
    "a3=np.linspace(1,20,20)\n",
    "print('a3:',a3,'type :',type(a3))\n",
    "import numpy as np\n",
    "import matplotlib.pyplot as plt\n",
    "\n",
    "def dicho ( xmin , xmax , f , xtol ) :\n",
    "    xm = ( xmin+xmax ) / 2\n",
    "    while np.abs ( xmin-xmax)> xtol :\n",
    "    xm = ( xmin+xmax ) / 2\n",
    "    if (f(xmin)*f(xm))>0:\n",
    "        xmax=xm\n",
    "    else :\n",
    "        xmin=xm\n",
    "    return np.array ( [ xmin , xmax ] )\n",
    "\n",
    "\n",
    "sol1 = dicho ( x1 , x2 , f , 1e −7)\n",
    "print ( ’ solution ’ , np.mean ( sol1 ) , ’ f ( sol ) ’ , f ( np.mean ( sol ) ) )\n",
    "\n",
    "\n"
   ]
  },
  {
   "cell_type": "markdown",
   "metadata": {},
   "source": [
    "Calculer puis afficher la somme des valeurs (en une ligne sans faire de boucles) :"
   ]
  },
  {
   "cell_type": "code",
   "execution_count": 3,
   "metadata": {},
   "outputs": [
    {
     "data": {
      "text/plain": [
       "210"
      ]
     },
     "metadata": {},
     "output_type": "display_data"
    }
   ],
   "source": [
    "# à compléter\n",
    "t1=np.sum(t)\n",
    "display((t1))"
   ]
  },
  {
   "cell_type": "markdown",
   "metadata": {},
   "source": [
    "Créer un tableau de taille 20 qu'on appellera b qui contient  20 nombres aléatoires compris entre 1 et 9 inclus.\n",
    "On utilisera pour cela la fonction `np.random.randint` du module numpy."
   ]
  },
  {
   "cell_type": "code",
   "execution_count": 4,
   "metadata": {},
   "outputs": [
    {
     "name": "stdout",
     "output_type": "stream",
     "text": [
      "[2 6 8 3 1 3 9 4 4 6 6 9 4 9 9 4 2 3 9 3]\n"
     ]
    }
   ],
   "source": [
    "# à compléte\n",
    "b=np.random.randint(1,10,20)\n",
    "print(b)"
   ]
  },
  {
   "cell_type": "markdown",
   "metadata": {},
   "source": [
    "Afficher les dimensions de l' `array` `a`, le nombre de valeurs selon chaque dimension (shape) ainsi que sa taille (nombre de valeurs) :"
   ]
  },
  {
   "cell_type": "code",
   "execution_count": 5,
   "metadata": {
    "scrolled": true
   },
   "outputs": [
    {
     "data": {
      "text/plain": [
       "(20,)"
      ]
     },
     "execution_count": 5,
     "metadata": {},
     "output_type": "execute_result"
    }
   ],
   "source": [
    "# à compléter\n",
    "dim = np.array(t)\n",
    "np.shape(t)\n"
   ]
  },
  {
   "cell_type": "markdown",
   "metadata": {},
   "source": [
    "En utilisant uniquement les opérateurs +, / et l'opérateur de tri de numpy (`np.sort()`) et la fonction np.sum(), calculer la moyenne ,  la mediane de `b`,ainsi que les valeurs min et max du tableau. (Ne pas utiliser de boucle)."
   ]
  },
  {
   "cell_type": "code",
   "execution_count": 6,
   "metadata": {},
   "outputs": [
    {
     "name": "stdout",
     "output_type": "stream",
     "text": [
      "5.2\n"
     ]
    },
    {
     "data": {
      "text/plain": [
       "array([1, 2, 2, 3, 3, 3, 3, 4, 4, 4, 4, 6, 6, 6, 8, 9, 9, 9, 9, 9])"
      ]
     },
     "metadata": {},
     "output_type": "display_data"
    },
    {
     "data": {
      "text/plain": [
       "4.0"
      ]
     },
     "metadata": {},
     "output_type": "display_data"
    }
   ],
   "source": [
    "# à compléter\n",
    "\n",
    "moyenne_b = np.sum(b) / np.size(b)\n",
    "print(moyenne_b)\n",
    "\n",
    "b_sorted = np.sort(b)\n",
    "display(b_sorted)\n",
    "mediane_b = np.median(b_sorted)\n",
    "display(mediane_b)"
   ]
  },
  {
   "cell_type": "markdown",
   "metadata": {},
   "source": [
    "Vérifier vos calculs en utilisant les fonctions numpy existantes."
   ]
  },
  {
   "cell_type": "code",
   "execution_count": 7,
   "metadata": {},
   "outputs": [
    {
     "name": "stdout",
     "output_type": "stream",
     "text": [
      "4.0\n",
      "9\n",
      "1\n"
     ]
    }
   ],
   "source": [
    "# à compléter\n",
    "moy=np.median(b)\n",
    "ma=np.max(b)\n",
    "mi=np.min(b)\n",
    "print(moy)\n",
    "print(ma)\n",
    "print(mi)"
   ]
  },
  {
   "cell_type": "markdown",
   "metadata": {},
   "source": [
    "Afficher le maximum et l'indice du premier maximum rencontré dans b\n",
    "Afficher le minimum et l'indice du premier minmum rencontré dans b"
   ]
  },
  {
   "cell_type": "code",
   "execution_count": 8,
   "metadata": {},
   "outputs": [
    {
     "name": "stdout",
     "output_type": "stream",
     "text": [
      "9\n",
      "1\n",
      "[2 6 8 3 1 3 9 4 4 6 6 9 4 9 9 4 2 3 9 3]\n",
      "6\n",
      "4\n"
     ]
    }
   ],
   "source": [
    "# à compléter\n",
    "print(np.max(b))\n",
    "print(np.min(b))\n",
    "print(b)\n",
    "print(np.argmax(b))\n",
    "print(np.argmin(b))"
   ]
  },
  {
   "cell_type": "markdown",
   "metadata": {},
   "source": [
    "### 2) Opérations vectorisées"
   ]
  },
  {
   "cell_type": "markdown",
   "metadata": {},
   "source": [
    "Calculer le tableau numpy qu'on appellera tab2 contenant le carré des valeurs de a, sans faire de boucle."
   ]
  },
  {
   "cell_type": "code",
   "execution_count": 9,
   "metadata": {},
   "outputs": [
    {
     "name": "stdout",
     "output_type": "stream",
     "text": [
      "[ 1  2  3  4  5  6  7  8  9 10 11 12 13 14 15 16 17 18 19 20]\n",
      "[  1   4   9  16  25  36  49  64  81 100 121 144 169 196 225 256 289 324\n",
      " 361 400]\n"
     ]
    }
   ],
   "source": [
    "# à compléter\n",
    "tab2=a1**2\n",
    "print(a1)\n",
    "print(tab2)"
   ]
  },
  {
   "cell_type": "markdown",
   "metadata": {},
   "source": [
    "Calculer le tableau tab contenant la somme terme à terme des éléments de a et de a2."
   ]
  },
  {
   "cell_type": "code",
   "execution_count": 10,
   "metadata": {},
   "outputs": [
    {
     "name": "stdout",
     "output_type": "stream",
     "text": [
      "[ 1  2  3  4  5  6  7  8  9 10 11 12 13 14 15 16 17 18 19 20]\n",
      "[ 1  2  3  4  5  6  7  8  9 10 11 12 13 14 15 16 17 18 19 20]\n",
      "[ 2  4  6  8 10 12 14 16 18 20 22 24 26 28 30 32 34 36 38 40]\n"
     ]
    }
   ],
   "source": [
    "# à compléter\n",
    "tab=a1+a2\n",
    "print(a1)\n",
    "print(a2)\n",
    "print(tab)"
   ]
  },
  {
   "cell_type": "markdown",
   "metadata": {},
   "source": [
    "### 3) tableaux multi-dimensions de numpy"
   ]
  },
  {
   "cell_type": "markdown",
   "metadata": {},
   "source": [
    "Créer un tableau a de taille 6x4 (6 lignes et 4 colonnes) rempli de valeurs aléatoires entières de 1 à 9 inclus. Vous utiliserez pour cela la fonction `np.random.randint` du module numpy.\n",
    "\n",
    "Afficher son contenu. \n",
    "\n",
    "Le résultat attendu ressemble à ce qui suit, mais les valeurs dépendent bien sûr du tirage au sort :\n",
    "\n",
    "[[5 1 7 2]\\\n",
    " [9 3 5 3]\\\n",
    " [4 9 2 4]\\\n",
    " [3 2 5 1]\\\n",
    " [6 2 6 1]\\\n",
    " [5 5 9 8]]\n",
    " \n",
    " On fera ensuite afficher dimension, size et shape. "
   ]
  },
  {
   "cell_type": "code",
   "execution_count": 11,
   "metadata": {},
   "outputs": [
    {
     "name": "stdout",
     "output_type": "stream",
     "text": [
      "[  1   4   9  16  25  36  49  64  81 100 121 144 169 196 225 256 289 324\n",
      " 361 400]\n",
      "20\n",
      "(20,)\n",
      "1\n"
     ]
    }
   ],
   "source": [
    "import numpy as np\n",
    "# à compléter\n",
    "b=np.random.randint(1,10,size=(6,4))\n",
    "print(tab2)\n",
    "size1=np.size(tab2)\n",
    "print(size1)\n",
    "shape1=np.shape(tab2)\n",
    "print(shape1)\n",
    "dim1=np.ndim(tab2)\n",
    "print(dim1)\n"
   ]
  },
  {
   "cell_type": "markdown",
   "metadata": {},
   "source": [
    "#### a) Calculs"
   ]
  },
  {
   "cell_type": "markdown",
   "metadata": {},
   "source": [
    "Créer une matrice de 3x4 contenant des entiers entre 1 et 9 inclus, puis calculer successivement :\n",
    "\n",
    "    la somme de toutes les valeurs\n",
    "    la somme de chacune des lignes\n",
    "    la somme de chacune des colonnes\n",
    "    la somme des cubes des valeurs\n",
    "    "
   ]
  },
  {
   "cell_type": "code",
   "execution_count": 12,
   "metadata": {},
   "outputs": [
    {
     "name": "stdout",
     "output_type": "stream",
     "text": [
      "[[9 3 1 6]\n",
      " [1 1 6 1]\n",
      " [6 4 9 9]]\n"
     ]
    }
   ],
   "source": [
    "# à compléter\n",
    "a=np.random.randint(1,10,size=(3,4))\n",
    "print(a)\n"
   ]
  },
  {
   "cell_type": "code",
   "execution_count": 13,
   "metadata": {},
   "outputs": [
    {
     "name": "stdout",
     "output_type": "stream",
     "text": [
      "56\n",
      "4.0\n"
     ]
    }
   ],
   "source": [
    "# à compléter\n",
    "som=np.sum(a)\n",
    "print(som)\n",
    "moy=np.mean(moy)\n",
    "print(moy)"
   ]
  },
  {
   "cell_type": "code",
   "execution_count": 14,
   "metadata": {},
   "outputs": [
    {
     "name": "stdout",
     "output_type": "stream",
     "text": [
      "[19  9 28]\n"
     ]
    }
   ],
   "source": [
    "# à compléter\n",
    "som1=np.sum(a,axis=1)\n",
    "print(som1)"
   ]
  },
  {
   "cell_type": "code",
   "execution_count": 15,
   "metadata": {},
   "outputs": [
    {
     "name": "stdout",
     "output_type": "stream",
     "text": [
      "[16  8 16 16]\n"
     ]
    }
   ],
   "source": [
    "# à compléter\n",
    "som2=np.sum(a,axis=0)\n",
    "print(som2)"
   ]
  },
  {
   "cell_type": "code",
   "execution_count": 16,
   "metadata": {},
   "outputs": [
    {
     "name": "stdout",
     "output_type": "stream",
     "text": [
      "[[729  27   1 216]\n",
      " [  1   1 216   1]\n",
      " [216  64 729 729]]\n",
      "2930\n",
      "2930\n",
      "[[729  27   1 216]\n",
      " [  1   1 216   1]\n",
      " [216  64 729 729]]\n"
     ]
    }
   ],
   "source": [
    "# à compléter\n",
    "cube=a**3\n",
    "print(cube)\n",
    "sommC=np.sum(cube)\n",
    "print(sommC)\n",
    "print(np.sum(a **3))\n",
    "print(np.power(a,3))"
   ]
  },
  {
   "cell_type": "markdown",
   "metadata": {},
   "source": [
    "Tester la commande\n",
    "a>=5\n",
    "\n",
    "En déduire le nombre de valeurs supérieures 5 et la somme des valeurs supérieures 5"
   ]
  },
  {
   "cell_type": "code",
   "execution_count": 17,
   "metadata": {},
   "outputs": [
    {
     "name": "stdout",
     "output_type": "stream",
     "text": [
      "[[9 3 1 6]\n",
      " [1 1 6 1]\n",
      " [6 4 9 9]]\n",
      "[[ True False False  True]\n",
      " [False False  True False]\n",
      " [ True False  True  True]]\n"
     ]
    }
   ],
   "source": [
    "# à compléter\n",
    "# à compléter\n",
    "print(a)\n",
    "matr=a>=5\n",
    "print(matr)"
   ]
  },
  {
   "cell_type": "code",
   "execution_count": 18,
   "metadata": {},
   "outputs": [
    {
     "name": "stdout",
     "output_type": "stream",
     "text": [
      "6\n"
     ]
    }
   ],
   "source": [
    "# à compléter\n",
    "print(np.sum(a>=5))"
   ]
  },
  {
   "cell_type": "code",
   "execution_count": 19,
   "metadata": {},
   "outputs": [
    {
     "name": "stdout",
     "output_type": "stream",
     "text": [
      "45\n"
     ]
    }
   ],
   "source": [
    "print( np.sum(a[a > 5]))"
   ]
  },
  {
   "cell_type": "markdown",
   "metadata": {},
   "source": [
    "On notera $a_ij$ le contenu de la case (i,j) du tableau a.\n",
    "\n",
    "Calculer le tableau b tel que $b_ij=a_ij^2+3a_ij -5$"
   ]
  },
  {
   "cell_type": "code",
   "execution_count": 20,
   "metadata": {},
   "outputs": [
    {
     "name": "stdout",
     "output_type": "stream",
     "text": [
      "[[103  13  -1  49]\n",
      " [ -1  -1  49  -1]\n",
      " [ 49  23 103 103]]\n"
     ]
    }
   ],
   "source": [
    "# à compléter\n",
    "b= a**2 + 3 * a - 5\n",
    "print(b)"
   ]
  },
  {
   "cell_type": "markdown",
   "metadata": {},
   "source": [
    "#### b) Indexation"
   ]
  },
  {
   "cell_type": "markdown",
   "metadata": {},
   "source": [
    "Afficher les valeurs de `tab (fin de la première partie) ` dont les **indices** sont pairs  (attention, les indices pas les valeurs). L'instruction doit être valable pour n'importe quel tableau à 1 dimension, quel que soit le nombre de valeurs."
   ]
  },
  {
   "cell_type": "code",
   "execution_count": 21,
   "metadata": {},
   "outputs": [
    {
     "name": "stdout",
     "output_type": "stream",
     "text": [
      "[ 2  6 10 14 18 22 26 30 34 38]\n"
     ]
    }
   ],
   "source": [
    "# à compléter\n",
    "valeurs = tab[::2]\n",
    "print(valeurs)"
   ]
  },
  {
   "cell_type": "markdown",
   "metadata": {},
   "source": [
    "Afficher la somme des valeurs de tab dont les **indices** sont pairs"
   ]
  },
  {
   "cell_type": "code",
   "execution_count": 22,
   "metadata": {},
   "outputs": [],
   "source": [
    "# à compléter\n",
    "somme_indices_pairs = np.sum(tab[::2])"
   ]
  },
  {
   "cell_type": "markdown",
   "metadata": {},
   "source": [
    "#### c) Modifications dans un tableau\n",
    "Créer un tableau `a` de taille 8x8 (8 lignes et 8 colonnes) rempli de valeurs aléatoires entières de 1 à 9 inclus. \n",
    "\n",
    "**Pour toutes les questions suivantes, nous travaillerons avec un tableau de taille 8x8  mais vos instructions devraient fonctionner pour un tableau de taille quelconque**\n",
    "\n",
    "On fera un nouveau tableau par question pour mieux observer les résultats produits.\n",
    "\n",
    "\n",
    "\n",
    "Au moyen du sélecteur approprié, remplacer toutes les valeurs du tableau par la valeur 0. Attention le nombre de lignes / colonnes doit être conservé. Afficher le résultat.\n",
    "On doit remplacer les valeurs, pas créer un nouveau tableau.\n"
   ]
  },
  {
   "cell_type": "code",
   "execution_count": 23,
   "metadata": {},
   "outputs": [
    {
     "name": "stdout",
     "output_type": "stream",
     "text": [
      "[[0 0 0 0 0 0 0 0]\n",
      " [0 0 0 0 0 0 0 0]\n",
      " [0 0 0 0 0 0 0 0]\n",
      " [0 0 0 0 0 0 0 0]\n",
      " [0 0 0 0 0 0 0 0]\n",
      " [0 0 0 0 0 0 0 0]\n",
      " [0 0 0 0 0 0 0 0]\n",
      " [0 0 0 0 0 0 0 0]]\n"
     ]
    }
   ],
   "source": [
    "import numpy as np\n",
    "# à compléter\n",
    "a = np.random.randint(1, 10, size=(8, 8))\n",
    "a[:, :] = 0\n",
    "print(a)\n"
   ]
  },
  {
   "cell_type": "markdown",
   "metadata": {},
   "source": [
    "Créer un tableau `a` de taille  8x8 (8 lignes et 8 colonnes) rempli de valeurs aléatoires entières de 1 à 9 inclus,  puis mettre la première ligne du tableau à 0. \n"
   ]
  },
  {
   "cell_type": "code",
   "execution_count": 24,
   "metadata": {},
   "outputs": [
    {
     "data": {
      "text/plain": [
       "array([[0, 0, 0, 0, 0, 0, 0, 0],\n",
       "       [1, 5, 5, 7, 6, 1, 5, 1],\n",
       "       [8, 9, 4, 2, 2, 8, 5, 7],\n",
       "       [4, 3, 1, 5, 1, 7, 5, 1],\n",
       "       [8, 9, 8, 6, 3, 1, 1, 5],\n",
       "       [7, 8, 7, 2, 8, 8, 6, 4],\n",
       "       [6, 5, 7, 1, 5, 3, 1, 2],\n",
       "       [4, 4, 9, 8, 5, 8, 7, 4]])"
      ]
     },
     "metadata": {},
     "output_type": "display_data"
    }
   ],
   "source": [
    "# à compléter\n",
    "a=np.random.randint(1 , 10, size=(8, 8))\n",
    "a[0, :] = 0\n",
    "display(a)\n"
   ]
  },
  {
   "cell_type": "markdown",
   "metadata": {},
   "source": [
    "Créer un tableau `a` de taille  8x8 (8 lignes et 8 colonnes) rempli de valeurs aléatoires entières de 1 à 9 inclus puis mettre la colonne numéro 2 du tableau à 0. \n"
   ]
  },
  {
   "cell_type": "code",
   "execution_count": 25,
   "metadata": {},
   "outputs": [
    {
     "data": {
      "text/plain": [
       "array([[4, 0, 1, 7, 5, 3, 4, 9],\n",
       "       [2, 0, 1, 8, 5, 9, 8, 9],\n",
       "       [2, 0, 4, 6, 6, 4, 1, 7],\n",
       "       [1, 0, 1, 9, 2, 1, 3, 1],\n",
       "       [9, 0, 7, 2, 1, 5, 1, 6],\n",
       "       [1, 0, 5, 5, 8, 4, 4, 1],\n",
       "       [6, 0, 9, 8, 1, 8, 7, 6],\n",
       "       [2, 0, 1, 7, 7, 4, 5, 4]])"
      ]
     },
     "metadata": {},
     "output_type": "display_data"
    }
   ],
   "source": [
    "# à compléter\n",
    "a=np.random.randint(1, 10, size=(8,8))\n",
    "a[:, 1] = 0\n",
    "display(a)\n"
   ]
  },
  {
   "cell_type": "markdown",
   "metadata": {},
   "source": [
    "Créer un tableau `a` de taille  8x8 (8 lignes et 8 colonnes) rempli de valeurs aléatoires entières de 1 à 9 inclus,  puis mettre la première et la dernière colonne à 0 (en une seule instruction)"
   ]
  },
  {
   "cell_type": "code",
   "execution_count": 26,
   "metadata": {},
   "outputs": [
    {
     "data": {
      "text/plain": [
       "array([[0, 2, 4, 4, 7, 3, 6, 0],\n",
       "       [0, 2, 2, 2, 1, 6, 5, 0],\n",
       "       [0, 2, 8, 9, 6, 2, 9, 0],\n",
       "       [0, 2, 7, 5, 3, 9, 2, 0],\n",
       "       [0, 6, 8, 7, 3, 3, 7, 0],\n",
       "       [0, 3, 2, 1, 4, 5, 3, 0],\n",
       "       [0, 5, 5, 2, 5, 3, 5, 0],\n",
       "       [0, 8, 9, 9, 6, 3, 4, 0]])"
      ]
     },
     "metadata": {},
     "output_type": "display_data"
    }
   ],
   "source": [
    "# à compléter\n",
    "a=np.random.randint(1,10,size=(8,8))\n",
    "a[:, [0, -1]] = 0\n",
    "display(a)"
   ]
  },
  {
   "cell_type": "markdown",
   "metadata": {},
   "source": [
    "Créer un tableau `a`de taille  8x8 (8 lignes et 8 colonnes) rempli de valeurs aléatoires entières de 1 à 9 inclus puis mettre les 9 cases de la partie supérieure gauche du tableau à 0 en une seule instruction. \n"
   ]
  },
  {
   "cell_type": "code",
   "execution_count": 27,
   "metadata": {},
   "outputs": [
    {
     "data": {
      "text/plain": [
       "array([[9, 7, 7, 5, 8, 3, 3, 8],\n",
       "       [1, 7, 6, 6, 7, 6, 8, 1],\n",
       "       [2, 8, 5, 1, 5, 2, 8, 5],\n",
       "       [5, 8, 7, 4, 6, 1, 1, 2],\n",
       "       [9, 3, 7, 7, 1, 4, 5, 5],\n",
       "       [6, 4, 8, 2, 6, 2, 9, 6],\n",
       "       [2, 5, 2, 9, 1, 6, 6, 8],\n",
       "       [4, 5, 5, 3, 1, 5, 8, 3]])"
      ]
     },
     "metadata": {},
     "output_type": "display_data"
    },
    {
     "data": {
      "text/plain": [
       "array([[0, 0, 0, 5, 8, 3, 3, 8],\n",
       "       [0, 0, 0, 6, 7, 6, 8, 1],\n",
       "       [0, 0, 0, 1, 5, 2, 8, 5],\n",
       "       [5, 8, 7, 4, 6, 1, 1, 2],\n",
       "       [9, 3, 7, 7, 1, 4, 5, 5],\n",
       "       [6, 4, 8, 2, 6, 2, 9, 6],\n",
       "       [2, 5, 2, 9, 1, 6, 6, 8],\n",
       "       [4, 5, 5, 3, 1, 5, 8, 3]])"
      ]
     },
     "metadata": {},
     "output_type": "display_data"
    }
   ],
   "source": [
    "# à compléter\n",
    "a=np.random.randint(1,10,size=(8,8))\n",
    "display(a)\n",
    "a[:3, :3] = 0\n",
    "display(a)\n"
   ]
  },
  {
   "cell_type": "markdown",
   "metadata": {},
   "source": [
    "Créer un tableau `a` de taille  8x8 (8 lignes et 8 colonnes) rempli de valeurs aléatoires entières de 1 à 9 inclus puis mettre  les cases qui sont sur des lignes **et** des colonnes paires à 0."
   ]
  },
  {
   "cell_type": "code",
   "execution_count": 28,
   "metadata": {
    "scrolled": true
   },
   "outputs": [
    {
     "data": {
      "text/plain": [
       "array([[7, 9, 7, 1, 2, 3, 1, 6],\n",
       "       [1, 7, 3, 1, 2, 6, 9, 8],\n",
       "       [8, 6, 8, 7, 8, 2, 4, 1],\n",
       "       [1, 8, 5, 2, 5, 8, 5, 2],\n",
       "       [9, 1, 3, 1, 1, 3, 6, 6],\n",
       "       [3, 6, 5, 1, 7, 6, 7, 8],\n",
       "       [6, 8, 4, 9, 5, 5, 2, 4],\n",
       "       [5, 5, 8, 8, 2, 6, 5, 4]])"
      ]
     },
     "metadata": {},
     "output_type": "display_data"
    },
    {
     "data": {
      "text/plain": [
       "array([[0, 9, 0, 1, 0, 3, 0, 6],\n",
       "       [1, 7, 3, 1, 2, 6, 9, 8],\n",
       "       [0, 6, 0, 7, 0, 2, 0, 1],\n",
       "       [1, 8, 5, 2, 5, 8, 5, 2],\n",
       "       [0, 1, 0, 1, 0, 3, 0, 6],\n",
       "       [3, 6, 5, 1, 7, 6, 7, 8],\n",
       "       [0, 8, 0, 9, 0, 5, 0, 4],\n",
       "       [5, 5, 8, 8, 2, 6, 5, 4]])"
      ]
     },
     "metadata": {},
     "output_type": "display_data"
    }
   ],
   "source": [
    "# à compléter\n",
    "a=np.random.randint(1,10,size=(8,8))\n",
    "display(a)\n",
    "a[::2, ::2] = 0\n",
    "display(a)"
   ]
  },
  {
   "cell_type": "markdown",
   "metadata": {},
   "source": [
    "Créer un tableau `a` de taille  8x8 (8 lignes et 8 colonnes) rempli de valeurs aléatoires entières de 1 à 9 inclus puis mettre les cases $[1,3]$ et $[3,2]$ à 0 (en une seule instruction). "
   ]
  },
  {
   "cell_type": "code",
   "execution_count": 29,
   "metadata": {
    "scrolled": false
   },
   "outputs": [
    {
     "data": {
      "text/plain": [
       "array([[1, 3, 9, 3, 3, 6, 3, 6],\n",
       "       [6, 9, 8, 6, 4, 9, 1, 4],\n",
       "       [8, 1, 1, 2, 9, 1, 6, 3],\n",
       "       [3, 4, 6, 5, 8, 3, 1, 2],\n",
       "       [5, 9, 3, 6, 1, 8, 2, 4],\n",
       "       [4, 5, 3, 1, 6, 1, 8, 6],\n",
       "       [7, 9, 1, 7, 7, 9, 2, 5],\n",
       "       [8, 3, 6, 5, 9, 5, 8, 4]])"
      ]
     },
     "metadata": {},
     "output_type": "display_data"
    },
    {
     "data": {
      "text/plain": [
       "array([[1, 3, 9, 3, 3, 6, 3, 6],\n",
       "       [6, 9, 8, 0, 4, 9, 1, 4],\n",
       "       [8, 1, 1, 2, 9, 1, 6, 3],\n",
       "       [3, 4, 0, 5, 8, 3, 1, 2],\n",
       "       [5, 9, 3, 6, 1, 8, 2, 4],\n",
       "       [4, 5, 3, 1, 6, 1, 8, 6],\n",
       "       [7, 9, 1, 7, 7, 9, 2, 5],\n",
       "       [8, 3, 6, 5, 9, 5, 8, 4]])"
      ]
     },
     "metadata": {},
     "output_type": "display_data"
    }
   ],
   "source": [
    "# à compléter\n",
    "a=np.random.randint(1,10,size=(8,8))\n",
    "display(a)\n",
    "a[[1, 3], [3, 2]] = 0\n",
    "display(a)\n"
   ]
  },
  {
   "cell_type": "markdown",
   "metadata": {},
   "source": [
    "Créer un tableau `a` de taille  8x8 (8 lignes et 8 colonnes) rempli de valeurs aléatoires entières de 1 à 9 inclus puis mettre à 0 toutes les lignes pour lesquelles le vecteur `vect= np.array([False, True, True, False,False, 'True',False, 'True'])` vaut `True` (en une seule instruction). "
   ]
  },
  {
   "cell_type": "code",
   "execution_count": 30,
   "metadata": {},
   "outputs": [
    {
     "data": {
      "text/plain": [
       "array([[2, 9, 9, 9, 7, 8, 5, 6],\n",
       "       [6, 9, 4, 8, 9, 2, 8, 6],\n",
       "       [9, 5, 1, 9, 3, 7, 5, 7],\n",
       "       [8, 8, 4, 8, 4, 7, 9, 9],\n",
       "       [4, 9, 4, 1, 2, 2, 9, 4],\n",
       "       [7, 2, 7, 3, 1, 9, 3, 6],\n",
       "       [4, 4, 4, 5, 6, 3, 5, 8],\n",
       "       [6, 7, 2, 9, 8, 7, 5, 1]])"
      ]
     },
     "metadata": {},
     "output_type": "display_data"
    },
    {
     "data": {
      "text/plain": [
       "array([False,  True,  True, False, False,  True, False,  True])"
      ]
     },
     "metadata": {},
     "output_type": "display_data"
    },
    {
     "data": {
      "text/plain": [
       "array([[2, 9, 9, 9, 7, 8, 5, 6],\n",
       "       [0, 0, 0, 0, 0, 0, 0, 0],\n",
       "       [0, 0, 0, 0, 0, 0, 0, 0],\n",
       "       [8, 8, 4, 8, 4, 7, 9, 9],\n",
       "       [4, 9, 4, 1, 2, 2, 9, 4],\n",
       "       [0, 0, 0, 0, 0, 0, 0, 0],\n",
       "       [4, 4, 4, 5, 6, 3, 5, 8],\n",
       "       [0, 0, 0, 0, 0, 0, 0, 0]])"
      ]
     },
     "metadata": {},
     "output_type": "display_data"
    }
   ],
   "source": [
    "# à compléter\n",
    "a=np.random.randint(1,10,size=(8,8))\n",
    "display(a)\n",
    "vect = np.array([False, True, True, False, False, True, False, True])\n",
    "display(vect)\n",
    "a[vect, :] = 0\n",
    "display(a)\n"
   ]
  },
  {
   "cell_type": "markdown",
   "metadata": {},
   "source": [
    "A l'aide de la fonction np.ones,  créer un tableau carré de taille 7 ne contenant que des 1.\n",
    "Puis en maximum deux lignes, faire un \"damier\" en remplaçant certains 1 par des 0 (voir résultat ci-dessous)"
   ]
  },
  {
   "cell_type": "code",
   "execution_count": 34,
   "metadata": {},
   "outputs": [
    {
     "data": {
      "text/plain": [
       "array([[1, 1, 1, 1, 1, 1, 1],\n",
       "       [1, 1, 1, 1, 1, 1, 1],\n",
       "       [1, 1, 1, 1, 1, 1, 1],\n",
       "       [1, 1, 1, 1, 1, 1, 1],\n",
       "       [1, 1, 1, 1, 1, 1, 1],\n",
       "       [1, 1, 1, 1, 1, 1, 1],\n",
       "       [1, 1, 1, 1, 1, 1, 1]])"
      ]
     },
     "metadata": {},
     "output_type": "display_data"
    },
    {
     "data": {
      "text/plain": [
       "array([[1, 0, 1, 0, 1, 0, 1],\n",
       "       [1, 1, 1, 1, 1, 1, 1],\n",
       "       [1, 0, 1, 0, 1, 0, 1],\n",
       "       [1, 1, 1, 1, 1, 1, 1],\n",
       "       [1, 0, 1, 0, 1, 0, 1],\n",
       "       [1, 1, 1, 1, 1, 1, 1],\n",
       "       [1, 0, 1, 0, 1, 0, 1]])"
      ]
     },
     "metadata": {},
     "output_type": "display_data"
    },
    {
     "data": {
      "text/plain": [
       "array([[1, 0, 1, 0, 1, 0, 1],\n",
       "       [0, 1, 0, 1, 0, 1, 0],\n",
       "       [1, 0, 1, 0, 1, 0, 1],\n",
       "       [0, 1, 0, 1, 0, 1, 0],\n",
       "       [1, 0, 1, 0, 1, 0, 1],\n",
       "       [0, 1, 0, 1, 0, 1, 0],\n",
       "       [1, 0, 1, 0, 1, 0, 1]])"
      ]
     },
     "metadata": {},
     "output_type": "display_data"
    }
   ],
   "source": [
    "# à compléter\n",
    "a = np.ones((7, 7), dtype=int)\n",
    "display(a)\n",
    "a[::2, 1::2] = 0 \n",
    "display(a)\n",
    "a[1::2, ::2] = 0 \n",
    "display(a)"
   ]
  },
  {
   "cell_type": "markdown",
   "metadata": {},
   "source": [
    "### 4. Partage de  valeurs dans un tableau"
   ]
  },
  {
   "cell_type": "markdown",
   "metadata": {},
   "source": [
    "#### a ) \" Vues\"   (extrait avec des slices) "
   ]
  },
  {
   "cell_type": "markdown",
   "metadata": {},
   "source": [
    "Créer un tableau `a` de taille 4x4 rempli de valeurs aléatoires entières de 1 à 9 inclus que l'on nommera a.\n",
    "\n",
    "Créer ensuite une vue (appelée `b`) de la matrice `a` correspondant aux sélecteurs précédents en prenant pas ar exemple :\n",
    "\n",
    "    b = a[0,:] \n",
    "    \n",
    "    \n",
    "Modifier le contenu de `b` et regarder l'effet sur `a`. Puis modifier `a` et regarder l'effet sur `b`\n",
    "\n",
    "Exemple de ce qui est attendu :\n",
    "\n",
    "    a= [[6 3 8 1]\n",
    "     [3 9 4 4]\n",
    "     [9 5 4 5]\n",
    "     [4 2 9 8]] \n",
    "     b= [6 3 8 1]\n",
    "    Après modification de la case 0,3 de a (mise à -1) et la case 0,0 de b (mise à 0)     on obtient :\n",
    "    a= [[ 0  3  8 -1]\n",
    "     [ 3  9  4  4]\n",
    "     [ 9  5  4  5]\n",
    "     [ 4  2  9  8]] \n",
    "     b= [ 0  3  8 -1]    "
   ]
  },
  {
   "cell_type": "code",
   "execution_count": 35,
   "metadata": {},
   "outputs": [
    {
     "data": {
      "text/plain": [
       "array([[4, 4, 2, 1],\n",
       "       [7, 1, 7, 1],\n",
       "       [9, 5, 4, 1],\n",
       "       [7, 7, 5, 9]])"
      ]
     },
     "metadata": {},
     "output_type": "display_data"
    },
    {
     "data": {
      "text/plain": [
       "array([4, 4, 2, 1])"
      ]
     },
     "metadata": {},
     "output_type": "display_data"
    },
    {
     "data": {
      "text/plain": [
       "array([[ 4,  4,  2, -1],\n",
       "       [ 7,  1,  7,  1],\n",
       "       [ 9,  5,  4,  1],\n",
       "       [ 7,  7,  5,  9]])"
      ]
     },
     "metadata": {},
     "output_type": "display_data"
    },
    {
     "data": {
      "text/plain": [
       "array([ 0,  4,  2, -1])"
      ]
     },
     "metadata": {},
     "output_type": "display_data"
    }
   ],
   "source": [
    "# à compléter\n",
    "a=np.random.randint(1,10,size=(4,4))\n",
    "display(a)\n",
    "b = a[0, :]\n",
    "display(b)\n",
    "b[3] = -1\n",
    "b[3] = -1\n",
    "display(a)\n",
    "a[0, 0] = 0\n",
    "display(b)"
   ]
  },
  {
   "cell_type": "markdown",
   "metadata": {},
   "source": [
    "#### b) Copies\n",
    "Reproduire la même expérience, mais cette fois-ci en définissant `b` comme une copie de `a` (et non plus une vue) à l'aide de la fonction copy avec l'instruction a[0,:].copy().\n",
    "Comparer les résultats."
   ]
  },
  {
   "cell_type": "code",
   "execution_count": 37,
   "metadata": {},
   "outputs": [
    {
     "name": "stdout",
     "output_type": "stream",
     "text": [
      "a = [[9 2 2 5]\n",
      " [6 5 5 2]\n",
      " [4 4 5 2]\n",
      " [4 2 7 1]]\n",
      "b = [9 2 2 5]\n",
      "Après modification de la case 0,3 de b (mise à -1), a devient :\n",
      " [[9 2 2 5]\n",
      " [6 5 5 2]\n",
      " [4 4 5 2]\n",
      " [4 2 7 1]]\n",
      "Après modification de la case 0,0 de a (mise à 0), b devient :\n",
      " [ 9  2  2 -1]\n"
     ]
    }
   ],
   "source": [
    "# à compléter\n",
    "\n",
    "# Créer un tableau 4x4 rempli de valeurs aléatoires entières de 1 à 9 inclus\n",
    "a = np.random.randint(1, 10, (4, 4))\n",
    "\n",
    "# Afficher le tableau a\n",
    "print(\"a =\", a)\n",
    "\n",
    "# Créer une copie b de la première ligne de a\n",
    "b = a[0, :].copy()\n",
    "\n",
    "# Afficher la copie b\n",
    "print(\"b =\", b)\n",
    "\n",
    "# Modifier la première valeur de b et afficher a\n",
    "b[3] = -1\n",
    "print(\"Après modification de la case 0,3 de b (mise à -1), a devient :\\n\", a)\n",
    "\n",
    "# Modifier la première valeur de a et afficher b\n",
    "a[0, 0] = 0\n",
    "print(\"Après modification de la case 0,0 de a (mise à 0), b devient :\\n\", b)\n"
   ]
  },
  {
   "cell_type": "markdown",
   "metadata": {},
   "source": [
    "### 5) Tableaux de tailles différentes"
   ]
  },
  {
   "cell_type": "markdown",
   "metadata": {},
   "source": [
    "Créer un array numpy nommé `a` de taille 3x3 contenant des valeurs aléatoires entières entre 1 et 9 compris. \n",
    "\n",
    "Créer un second array nommé `b` de taille 1x3 également rempli de valeurs aléatoires entières entre 1 et 9 compris.\n",
    "\n",
    "Créer un troisième array nommé `c` de taille 3x1 également rempli de valeurs aléatoires entières entre 1 et 9 compris."
   ]
  },
  {
   "cell_type": "code",
   "execution_count": 45,
   "metadata": {},
   "outputs": [
    {
     "data": {
      "text/plain": [
       "array([[9, 1, 4],\n",
       "       [6, 6, 8],\n",
       "       [9, 1, 4]])"
      ]
     },
     "metadata": {},
     "output_type": "display_data"
    },
    {
     "data": {
      "text/plain": [
       "array([[7, 2, 6]])"
      ]
     },
     "metadata": {},
     "output_type": "display_data"
    },
    {
     "data": {
      "text/plain": [
       "array([[0],\n",
       "       [0],\n",
       "       [0]])"
      ]
     },
     "metadata": {},
     "output_type": "display_data"
    }
   ],
   "source": [
    "# à compléter\n",
    "a=np.random.randint(1,10,size=(3,3))\n",
    "display(a)\n",
    "b=np.random.randint(1,10,size=(1,3))\n",
    "display(b)\n",
    "c=np.random.randint(1.10,size=(3,1))\n",
    "display(c)"
   ]
  },
  {
   "cell_type": "markdown",
   "metadata": {},
   "source": [
    "Ajouter la constante 5 à a, afficher le résultat :"
   ]
  },
  {
   "cell_type": "code",
   "execution_count": 46,
   "metadata": {},
   "outputs": [
    {
     "data": {
      "text/plain": [
       "array([[14,  6,  9],\n",
       "       [11, 11, 13],\n",
       "       [14,  6,  9]])"
      ]
     },
     "metadata": {},
     "output_type": "display_data"
    }
   ],
   "source": [
    "# à compléter\n",
    "a=a+5\n",
    "display(a)"
   ]
  },
  {
   "cell_type": "markdown",
   "metadata": {},
   "source": [
    "Calculer (a+b). Que représente ce calcul?\n",
    "\n",
    "Calculer (a+c). Que représente ce calcul?\n",
    "\n",
    "Afficher b.T\n",
    "\n",
    "En déduire une façon d'ajouter b à chaque colonne de a"
   ]
  },
  {
   "cell_type": "code",
   "execution_count": 55,
   "metadata": {},
   "outputs": [
    {
     "data": {
      "text/plain": [
       "array([[21,  8, 15],\n",
       "       [18, 13, 19],\n",
       "       [21,  8, 15]])"
      ]
     },
     "metadata": {},
     "output_type": "display_data"
    },
    {
     "data": {
      "text/plain": [
       "array([[14,  6,  9],\n",
       "       [11, 11, 13],\n",
       "       [14,  6,  9]])"
      ]
     },
     "metadata": {},
     "output_type": "display_data"
    },
    {
     "name": "stdout",
     "output_type": "stream",
     "text": [
      "[[7]\n",
      " [2]\n",
      " [6]]\n",
      "[[21 13 16]\n",
      " [13 13 15]\n",
      " [20 12 15]]\n"
     ]
    }
   ],
   "source": [
    "# à compléter\n",
    "cal1=a+b\n",
    "display(cal1)\n",
    "cal2=a+c\n",
    "display(cal2)\n",
    "print( b.T)\n",
    "resultat = a + b.T\n",
    "print(resultat)"
   ]
  },
  {
   "cell_type": "markdown",
   "metadata": {},
   "source": [
    "Calculer la somme b+c, afficher le résultat et le commenter."
   ]
  },
  {
   "cell_type": "code",
   "execution_count": 56,
   "metadata": {},
   "outputs": [
    {
     "data": {
      "text/plain": [
       "array([[7, 2, 6],\n",
       "       [7, 2, 6],\n",
       "       [7, 2, 6]])"
      ]
     },
     "metadata": {},
     "output_type": "display_data"
    }
   ],
   "source": [
    "# à compléter\n",
    "resu=b+c\n",
    "display(resu)"
   ]
  },
  {
   "cell_type": "code",
   "execution_count": null,
   "metadata": {},
   "outputs": [],
   "source": []
  }
 ],
 "metadata": {
  "kernelspec": {
   "display_name": "Python 3 (ipykernel)",
   "language": "python",
   "name": "python3"
  },
  "language_info": {
   "codemirror_mode": {
    "name": "ipython",
    "version": 3
   },
   "file_extension": ".py",
   "mimetype": "text/x-python",
   "name": "python",
   "nbconvert_exporter": "python",
   "pygments_lexer": "ipython3",
   "version": "3.10.12"
  },
  "latex_envs": {
   "LaTeX_envs_menu_present": false,
   "autoclose": false,
   "autocomplete": false,
   "bibliofile": "biblio.bib",
   "cite_by": "apalike",
   "current_citInitial": 1,
   "eqLabelWithNumbers": false,
   "eqNumInitial": 1,
   "hotkeys": {
    "equation": "Ctrl-E",
    "itemize": "Ctrl-I"
   },
   "labels_anchors": false,
   "latex_user_defs": false,
   "report_style_numbering": false,
   "user_envs_cfg": false
  },
  "toc": {
   "base_numbering": 1,
   "nav_menu": {},
   "number_sections": true,
   "sideBar": true,
   "skip_h1_title": false,
   "title_cell": "Table of Contents",
   "title_sidebar": "Contents",
   "toc_cell": false,
   "toc_position": {},
   "toc_section_display": true,
   "toc_window_display": false
  },
  "vscode": {
   "interpreter": {
    "hash": "a2f5a4e5cb9685a704f3797f6942b9eb6ca9983296f40a6a598da917a934f46a"
   }
  }
 },
 "nbformat": 4,
 "nbformat_minor": 2
}
