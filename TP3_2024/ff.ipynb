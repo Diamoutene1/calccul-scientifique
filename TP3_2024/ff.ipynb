{
 "cells": [
  {
   "cell_type": "markdown",
   "metadata": {},
   "source": [
    " # Calcul scientifique -- TP3 -- `numpy`"
   ]
  },
  {
   "cell_type": "markdown",
   "metadata": {},
   "source": [
    "**Nom :DIAMOUTENE &nbsp;&nbsp;&nbsp;&nbsp;   &nbsp;&ensp; &emsp;    \n",
    "**Prénom:ZANA &emsp;&emsp;  "
   ]
  },
  {
   "cell_type": "markdown",
   "metadata": {},
   "source": [
    "Attention: pour ce TP il s'agit d'utiliser numpy et ses fonctionnalités donc pas de bricoler avec des listes et des boucles.\n",
    "\n",
    "**Il n'y aura pas de boucles dans ce TP**"
   ]
  },
  {
   "cell_type": "markdown",
   "metadata": {},
   "source": [
    "### 1) Création de tableaux"
   ]
  },
  {
   "cell_type": "markdown",
   "metadata": {},
   "source": [
    "Pour commencer, on importe la librairie  `numpy`"
   ]
  },
  {
   "cell_type": "code",
   "execution_count": 1,
   "metadata": {},
   "outputs": [],
   "source": [
    "import numpy as np"
   ]
  },
  {
   "cell_type": "markdown",
   "metadata": {},
   "source": [
    "Créer une variable numpy de type `array`, nommée `a` contenant les valeurs de 1 à 20 des 3 manières  différentes :\n",
    "\n",
    "- a1: à partir d'un tableau python  t = [1,2,3,4,5,6,7,8,9,10,11,12,13,14,15,16,17,18,19,20]\n",
    "- a2: en utilisant la fonction arange de numpy\n",
    "- a3: en utilisant la fonction linspace de numpy\n",
    "\n",
    "puis afficher le contenu et le type de `a1,a2,a3` pour les 3 méthodes. On doit obtenir le même tableau qu'on appellera ensuite a pour continuer l'exercice.\n"
   ]
  },
  {
   "cell_type": "code",
   "execution_count": 2,
   "metadata": {},
   "outputs": [
    {
     "name": "stdout",
     "output_type": "stream",
     "text": [
      "a1: [ 1  2  3  4  5  6  7  8  9 10 11 12 13 14 15 16 17 18 19 20] type : <class 'numpy.ndarray'>\n",
      "a2: [ 1  2  3  4  5  6  7  8  9 10 11 12 13 14 15 16 17 18 19] type : <class 'numpy.ndarray'>\n",
      "a3: [ 1.  2.  3.  4.  5.  6.  7.  8.  9. 10. 11. 12. 13. 14. 15. 16. 17. 18.\n",
      " 19. 20.] type : <class 'numpy.ndarray'>\n"
     ]
    }
   ],
   "source": [
    "t = [1,2,3,4,5,6,7,8,9,10,11,12,13,14,15,16,17,18,19,20]\n",
    "\n",
    "a1=np.array(t)\n",
    "print('a1:',a1,'type :',type(a1));a1\n",
    "\n",
    "a2=np.arange(1,20,1)\n",
    "print('a2:',a2,'type :',type(a2));\n",
    "\n",
    "# à compléter\n",
    "a3=np.linspace(1,20,20)\n",
    "print('a3:',a3,'type :',type(a3))\n",
    "\n"
   ]
  },
  {
   "cell_type": "markdown",
   "metadata": {},
   "source": [
    "Calculer puis afficher la somme des valeurs (en une ligne sans faire de boucles) :"
   ]
  },
  {
   "cell_type": "code",
   "execution_count": 3,
   "metadata": {},
   "outputs": [
    {
     "data": {
      "text/plain": [
       "210"
      ]
     },
     "metadata": {},
     "output_type": "display_data"
    }
   ],
   "source": [
    "# à compléter\n",
    "t1=np.sum(t)\n",
    "display((t1))"
   ]
  },
  {
   "cell_type": "markdown",
   "metadata": {},
   "source": [
    "Créer un tableau de taille 20 qu'on appellera b qui contient  20 nombres aléatoires compris entre 1 et 9 inclus.\n",
    "On utilisera pour cela la fonction `np.random.randint` du module numpy."
   ]
  },
  {
   "cell_type": "code",
   "execution_count": 10,
   "metadata": {},
   "outputs": [
    {
     "name": "stdout",
     "output_type": "stream",
     "text": [
      "[1 6 6 6 3 2 3 6 7 2 7 2 5 7 1 6 4 6 5 6]\n"
     ]
    }
   ],
   "source": [
    "# à compléte\n",
    "b=np.random.randint(1,9,20)\n",
    "print(b)"
   ]
  },
  {
   "cell_type": "markdown",
   "metadata": {},
   "source": [
    "Afficher les dimensions de l' `array` `a`, le nombre de valeurs selon chaque dimension (shape) ainsi que sa taille (nombre de valeurs) :"
   ]
  },
  {
   "cell_type": "code",
   "execution_count": 11,
   "metadata": {
    "scrolled": true
   },
   "outputs": [
    {
     "data": {
      "text/plain": [
       "(20,)"
      ]
     },
     "execution_count": 11,
     "metadata": {},
     "output_type": "execute_result"
    }
   ],
   "source": [
    "# à compléter\n",
    "dim = np.array(t)\n",
    "np.shape(t)\n"
   ]
  },
  {
   "cell_type": "markdown",
   "metadata": {},
   "source": [
    "En utilisant uniquement les opérateurs +, / et l'opérateur de tri de numpy (`np.sort()`) et la fonction np.sum(), calculer la moyenne ,  la mediane de `b`,ainsi que les valeurs min et max du tableau. (Ne pas utiliser de boucle)."
   ]
  },
  {
   "cell_type": "code",
   "execution_count": 12,
   "metadata": {},
   "outputs": [
    {
     "name": "stdout",
     "output_type": "stream",
     "text": [
      "4.55\n"
     ]
    }
   ],
   "source": [
    "# à compléter\n",
    "\n",
    "moyenne_b = np.sum(b) / np.size(b)\n",
    "print(moyenne_b)"
   ]
  },
  {
   "cell_type": "markdown",
   "metadata": {},
   "source": [
    "Vérifier vos calculs en utilisant les fonctions numpy existantes."
   ]
  },
  {
   "cell_type": "code",
   "execution_count": 13,
   "metadata": {},
   "outputs": [
    {
     "name": "stdout",
     "output_type": "stream",
     "text": [
      "5.5\n",
      "7\n",
      "1\n"
     ]
    }
   ],
   "source": [
    "# à compléter\n",
    "moy=np.median(b)\n",
    "ma=np.max(b)\n",
    "mi=np.min(b)\n",
    "print(moy)\n",
    "print(ma)\n",
    "print(mi)"
   ]
  },
  {
   "cell_type": "markdown",
   "metadata": {},
   "source": [
    "Afficher le maximum et l'indice du premier maximum rencontré dans b\n",
    "Afficher le minimum et l'indice du premier minmum rencontré dans b"
   ]
  },
  {
   "cell_type": "code",
   "execution_count": 21,
   "metadata": {},
   "outputs": [
    {
     "name": "stdout",
     "output_type": "stream",
     "text": [
      "7\n",
      "1\n",
      "[1 6 6 6 3 2 3 6 7 2 7 2 5 7 1 6 4 6 5 6]\n",
      "(array([0]),)\n",
      "(array([0]),)\n"
     ]
    }
   ],
   "source": [
    "# à compléter\n",
    "print(np.max(b))\n",
    "print(np.min(b))\n",
    "print(b)\n",
    "print(np.where(1))\n",
    "print(np.where(np.min(b)))"
   ]
  },
  {
   "cell_type": "markdown",
   "metadata": {},
   "source": [
    "### 2) Opérations vectorisées"
   ]
  },
  {
   "cell_type": "markdown",
   "metadata": {},
   "source": [
    "Calculer le tableau numpy qu'on appellera tab2 contenant le carré des valeurs de a, sans faire de boucle."
   ]
  },
  {
   "cell_type": "code",
   "execution_count": 9,
   "metadata": {},
   "outputs": [
    {
     "name": "stdout",
     "output_type": "stream",
     "text": [
      "t2 : [  1   4   9  16  25  36  49  64  81 100 121 144 169 196 225 256 289 324\n",
      " 361 400]\n"
     ]
    }
   ],
   "source": [
    "# à compléter"
   ]
  },
  {
   "cell_type": "markdown",
   "metadata": {},
   "source": [
    "Calculer le tableau tab contenant la somme terme à terme des éléments de a et de a2."
   ]
  },
  {
   "cell_type": "code",
   "execution_count": 10,
   "metadata": {},
   "outputs": [
    {
     "name": "stdout",
     "output_type": "stream",
     "text": [
      "tab : [  1   4   9  16  25  36  49  64  81 100 121 144 169 196 225 256 289 324\n",
      " 361 400]\n"
     ]
    }
   ],
   "source": [
    "# à compléter"
   ]
  },
  {
   "cell_type": "markdown",
   "metadata": {},
   "source": [
    "### 3) tableaux multi-dimensions de numpy"
   ]
  },
  {
   "cell_type": "markdown",
   "metadata": {},
   "source": [
    "Créer un tableau a de taille 6x4 (6 lignes et 4 colonnes) rempli de valeurs aléatoires entières de 1 à 9 inclus. Vous utiliserez pour cela la fonction `np.random.randint` du module numpy.\n",
    "\n",
    "Afficher son contenu. \n",
    "\n",
    "Le résultat attendu ressemble à ce qui suit, mais les valeurs dépendent bien sûr du tirage au sort :\n",
    "\n",
    "[[5 1 7 2]\\\n",
    " [9 3 5 3]\\\n",
    " [4 9 2 4]\\\n",
    " [3 2 5 1]\\\n",
    " [6 2 6 1]\\\n",
    " [5 5 9 8]]\n",
    " \n",
    " On fera ensuite afficher dimension, size et shape. "
   ]
  },
  {
   "cell_type": "code",
   "execution_count": 11,
   "metadata": {},
   "outputs": [
    {
     "name": "stdout",
     "output_type": "stream",
     "text": [
      "[[6 8 1 1]\n",
      " [6 2 7 2]\n",
      " [8 6 8 8]\n",
      " [6 7 8 3]\n",
      " [7 5 1 6]\n",
      " [5 1 3 9]]\n",
      "ndim= 2 shape= (6, 4) size= 24\n"
     ]
    }
   ],
   "source": [
    "import numpy as np\n",
    "# à compléter"
   ]
  },
  {
   "cell_type": "markdown",
   "metadata": {},
   "source": [
    "#### a) Calculs"
   ]
  },
  {
   "cell_type": "markdown",
   "metadata": {},
   "source": [
    "Créer une matrice de 3x4 contenant des entiers entre 1 et 9 inclus, puis calculer successivement :\n",
    "\n",
    "    la somme de toutes les valeurs\n",
    "    la somme de chacune des lignes\n",
    "    la somme de chacune des colonnes\n",
    "    la somme des cubes des valeurs\n",
    "    "
   ]
  },
  {
   "cell_type": "code",
   "execution_count": 12,
   "metadata": {},
   "outputs": [
    {
     "name": "stdout",
     "output_type": "stream",
     "text": [
      "Tableau a\n",
      " [[1 3 7 7]\n",
      " [2 6 3 1]\n",
      " [7 9 3 2]]\n"
     ]
    }
   ],
   "source": [
    "# à compléter"
   ]
  },
  {
   "cell_type": "code",
   "execution_count": 13,
   "metadata": {},
   "outputs": [
    {
     "name": "stdout",
     "output_type": "stream",
     "text": [
      "somme des valeurs : 51\n",
      "moyenne des valeurs : 4.25\n"
     ]
    }
   ],
   "source": [
    "# à compléter"
   ]
  },
  {
   "cell_type": "code",
   "execution_count": 14,
   "metadata": {},
   "outputs": [
    {
     "name": "stdout",
     "output_type": "stream",
     "text": [
      "somme par ligne : [10 18 13 10]\n"
     ]
    }
   ],
   "source": [
    "# à compléter"
   ]
  },
  {
   "cell_type": "code",
   "execution_count": 15,
   "metadata": {},
   "outputs": [
    {
     "name": "stdout",
     "output_type": "stream",
     "text": [
      "somme par colonnes : [18 12 21]\n"
     ]
    }
   ],
   "source": [
    "# à compléter"
   ]
  },
  {
   "cell_type": "code",
   "execution_count": 16,
   "metadata": {},
   "outputs": [
    {
     "name": "stdout",
     "output_type": "stream",
     "text": [
      "somme des cubes des nombres : 2073\n"
     ]
    }
   ],
   "source": [
    "# à compléter"
   ]
  },
  {
   "cell_type": "markdown",
   "metadata": {},
   "source": [
    "Tester la commande\n",
    "a>=5\n",
    "\n",
    "En déduire le nombre de valeurs supérieures 5 et la somme des valeurs supérieures 5"
   ]
  },
  {
   "cell_type": "code",
   "execution_count": 17,
   "metadata": {},
   "outputs": [
    {
     "name": "stdout",
     "output_type": "stream",
     "text": [
      "test a>5: \n",
      " [[False False  True  True]\n",
      " [False  True False False]\n",
      " [ True  True False False]]\n"
     ]
    }
   ],
   "source": [
    "# à compléter"
   ]
  },
  {
   "cell_type": "code",
   "execution_count": 18,
   "metadata": {},
   "outputs": [
    {
     "name": "stdout",
     "output_type": "stream",
     "text": [
      "nombre de valeurs supérieures à 5 : 5\n"
     ]
    }
   ],
   "source": [
    "# à compléter"
   ]
  },
  {
   "cell_type": "code",
   "execution_count": 19,
   "metadata": {},
   "outputs": [
    {
     "name": "stdout",
     "output_type": "stream",
     "text": [
      "somme des valeurs supérieures à 5 : 36\n"
     ]
    }
   ],
   "source": [
    "# à compléter)"
   ]
  },
  {
   "cell_type": "markdown",
   "metadata": {},
   "source": [
    "On notera $a_ij$ le contenu de la case (i,j) du tableau a.\n",
    "\n",
    "Calculer le tableau b tel que $b_ij=a_ij^2+3a_ij -5$"
   ]
  },
  {
   "cell_type": "code",
   "execution_count": 20,
   "metadata": {},
   "outputs": [
    {
     "name": "stdout",
     "output_type": "stream",
     "text": [
      "on obtient \n",
      "  [[ -1  13  65  65]\n",
      " [  5  49  13  -1]\n",
      " [ 65 103  13   5]]\n"
     ]
    }
   ],
   "source": [
    "# à compléter"
   ]
  },
  {
   "cell_type": "markdown",
   "metadata": {},
   "source": [
    "#### b) Indexation"
   ]
  },
  {
   "cell_type": "markdown",
   "metadata": {},
   "source": [
    "Afficher les valeurs de `tab (fin de la première partie) ` dont les **indices** sont pairs  (attention, les indices pas les valeurs). L'instruction doit être valable pour n'importe quel tableau à 1 dimension, quel que soit le nombre de valeurs."
   ]
  },
  {
   "cell_type": "code",
   "execution_count": 21,
   "metadata": {},
   "outputs": [
    {
     "name": "stdout",
     "output_type": "stream",
     "text": [
      "tab [  2   6  12  20  30  42  56  72  90 110 132 156 182 210 240 272 306 342\n",
      " 380 420]\n",
      "val indices pairs : [ 1  3  5  7  9 11 13 15 17 19]\n"
     ]
    }
   ],
   "source": [
    "# à compléter"
   ]
  },
  {
   "cell_type": "markdown",
   "metadata": {},
   "source": [
    "Afficher la somme des valeurs de tab dont les **indices** sont pairs"
   ]
  },
  {
   "cell_type": "code",
   "execution_count": 22,
   "metadata": {},
   "outputs": [
    {
     "name": "stdout",
     "output_type": "stream",
     "text": [
      "val indices pairs : 100\n"
     ]
    }
   ],
   "source": [
    "# à compléter"
   ]
  },
  {
   "cell_type": "markdown",
   "metadata": {},
   "source": [
    "#### c) Modifications dans un tableau\n",
    "Créer un tableau `a` de taille 8x8 (8 lignes et 8 colonnes) rempli de valeurs aléatoires entières de 1 à 9 inclus. \n",
    "\n",
    "**Pour toutes les questions suivantes, nous travaillerons avec un tableau de taille 8x8  mais vos instructions devraient fonctionner pour un tableau de taille quelconque**\n",
    "\n",
    "On fera un nouveau tableau par question pour mieux observer les résultats produits.\n",
    "\n",
    "\n",
    "\n",
    "Au moyen du sélecteur approprié, remplacer toutes les valeurs du tableau par la valeur 0. Attention le nombre de lignes / colonnes doit être conservé. Afficher le résultat.\n",
    "On doit remplacer les valeurs, pas créer un nouveau tableau.\n"
   ]
  },
  {
   "cell_type": "code",
   "execution_count": 23,
   "metadata": {},
   "outputs": [
    {
     "name": "stdout",
     "output_type": "stream",
     "text": [
      "[[9 7 9 1 3 6 9 9]\n",
      " [4 6 9 1 4 6 9 8]\n",
      " [2 4 4 9 2 3 7 7]\n",
      " [5 7 6 4 2 3 1 6]\n",
      " [1 6 3 3 7 1 2 7]\n",
      " [1 7 2 6 4 5 7 8]\n",
      " [6 9 7 4 6 1 7 2]\n",
      " [1 6 4 8 6 5 9 8]]\n",
      "\n",
      "résultat après modifications\n",
      " [[0 0 0 0 0 0 0 0]\n",
      " [0 0 0 0 0 0 0 0]\n",
      " [0 0 0 0 0 0 0 0]\n",
      " [0 0 0 0 0 0 0 0]\n",
      " [0 0 0 0 0 0 0 0]\n",
      " [0 0 0 0 0 0 0 0]\n",
      " [0 0 0 0 0 0 0 0]\n",
      " [0 0 0 0 0 0 0 0]]\n"
     ]
    }
   ],
   "source": [
    "import numpy as np\n",
    "# à compléter"
   ]
  },
  {
   "cell_type": "markdown",
   "metadata": {},
   "source": [
    "Créer un tableau `a` de taille  8x8 (8 lignes et 8 colonnes) rempli de valeurs aléatoires entières de 1 à 9 inclus,  puis mettre la première ligne du tableau à 0. \n"
   ]
  },
  {
   "cell_type": "code",
   "execution_count": 24,
   "metadata": {},
   "outputs": [
    {
     "name": "stdout",
     "output_type": "stream",
     "text": [
      "[[0 0 0 0 0 0 0 0]\n",
      " [8 2 2 7 1 6 2 8]\n",
      " [7 9 8 6 3 5 6 5]\n",
      " [4 9 1 3 1 1 5 2]\n",
      " [8 4 3 4 2 1 9 7]\n",
      " [6 3 8 6 2 5 4 1]\n",
      " [8 9 8 5 1 8 7 5]\n",
      " [8 3 2 1 5 4 7 9]]\n"
     ]
    }
   ],
   "source": [
    "# à compléter"
   ]
  },
  {
   "cell_type": "markdown",
   "metadata": {},
   "source": [
    "Créer un tableau `a` de taille  8x8 (8 lignes et 8 colonnes) rempli de valeurs aléatoires entières de 1 à 9 inclus puis mettre la colonne numéro 2 du tableau à 0. \n"
   ]
  },
  {
   "cell_type": "code",
   "execution_count": 25,
   "metadata": {},
   "outputs": [
    {
     "name": "stdout",
     "output_type": "stream",
     "text": [
      "[[8 1 0 9 6 9 2 2]\n",
      " [2 5 0 4 5 1 5 4]\n",
      " [1 6 0 3 8 1 7 3]\n",
      " [8 5 0 8 8 4 1 8]\n",
      " [5 8 0 2 1 2 6 2]\n",
      " [2 8 0 8 2 9 6 9]\n",
      " [3 4 0 9 4 1 3 9]\n",
      " [8 6 0 2 9 1 5 4]]\n"
     ]
    }
   ],
   "source": [
    "# à compléter"
   ]
  },
  {
   "cell_type": "markdown",
   "metadata": {},
   "source": [
    "Créer un tableau `a` de taille  8x8 (8 lignes et 8 colonnes) rempli de valeurs aléatoires entières de 1 à 9 inclus,  puis mettre la première et la dernière colonne à 0 (en une seule instruction)"
   ]
  },
  {
   "cell_type": "code",
   "execution_count": 26,
   "metadata": {},
   "outputs": [
    {
     "name": "stdout",
     "output_type": "stream",
     "text": [
      "[[0 7 2 7 9 8 9 0]\n",
      " [0 1 8 1 8 8 8 0]\n",
      " [0 5 2 9 8 9 4 0]\n",
      " [0 8 3 8 2 2 3 0]\n",
      " [0 5 2 8 2 2 9 0]\n",
      " [0 9 6 6 7 8 9 0]\n",
      " [0 8 7 8 9 5 5 0]\n",
      " [0 3 2 1 3 1 8 0]]\n"
     ]
    }
   ],
   "source": [
    "# à compléter"
   ]
  },
  {
   "cell_type": "markdown",
   "metadata": {},
   "source": [
    "Créer un tableau `a`de taille  8x8 (8 lignes et 8 colonnes) rempli de valeurs aléatoires entières de 1 à 9 inclus puis mettre les 9 cases de la partie supérieure gauche du tableau à 0 en une seule instruction. \n"
   ]
  },
  {
   "cell_type": "code",
   "execution_count": 27,
   "metadata": {},
   "outputs": [
    {
     "name": "stdout",
     "output_type": "stream",
     "text": [
      "[[0 0 0 9 8 4 2 9]\n",
      " [0 0 0 5 8 9 5 2]\n",
      " [0 0 0 3 5 4 8 7]\n",
      " [9 4 9 1 2 6 1 5]\n",
      " [5 9 3 9 8 9 5 2]\n",
      " [4 7 5 1 1 4 5 4]\n",
      " [4 7 4 6 9 1 2 6]\n",
      " [5 2 7 6 8 3 2 3]]\n"
     ]
    }
   ],
   "source": [
    "# à compléter"
   ]
  },
  {
   "cell_type": "markdown",
   "metadata": {},
   "source": [
    "Créer un tableau `a` de taille  8x8 (8 lignes et 8 colonnes) rempli de valeurs aléatoires entières de 1 à 9 inclus puis mettre  les cases qui sont sur des lignes **et** des colonnes paires à 0."
   ]
  },
  {
   "cell_type": "code",
   "execution_count": 28,
   "metadata": {
    "scrolled": true
   },
   "outputs": [
    {
     "name": "stdout",
     "output_type": "stream",
     "text": [
      "[[0 6 0 5 0 7 0 2]\n",
      " [5 3 6 8 5 6 6 3]\n",
      " [0 7 0 3 0 3 0 6]\n",
      " [3 4 5 7 5 4 5 4]\n",
      " [0 8 0 4 0 8 0 6]\n",
      " [5 1 9 9 3 6 9 3]\n",
      " [0 6 0 7 0 9 0 1]\n",
      " [4 1 4 7 4 8 2 1]]\n"
     ]
    }
   ],
   "source": [
    "# à compléter"
   ]
  },
  {
   "cell_type": "markdown",
   "metadata": {},
   "source": [
    "Créer un tableau `a` de taille  8x8 (8 lignes et 8 colonnes) rempli de valeurs aléatoires entières de 1 à 9 inclus puis mettre les cases $[1,3]$ et $[3,2]$ à 0 (en une seule instruction). "
   ]
  },
  {
   "cell_type": "code",
   "execution_count": 29,
   "metadata": {
    "scrolled": false
   },
   "outputs": [
    {
     "name": "stdout",
     "output_type": "stream",
     "text": [
      "[[6 4 3 9 5 3 1 1]\n",
      " [3 7 4 0 6 9 4 9]\n",
      " [2 3 8 3 9 7 8 6]\n",
      " [2 4 0 8 3 7 1 6]\n",
      " [5 6 3 4 3 3 1 3]\n",
      " [7 6 9 4 6 3 2 8]\n",
      " [5 3 8 4 9 5 7 7]\n",
      " [6 7 5 2 9 4 8 3]]\n"
     ]
    }
   ],
   "source": [
    "# à compléter"
   ]
  },
  {
   "cell_type": "markdown",
   "metadata": {},
   "source": [
    "Créer un tableau `a` de taille  8x8 (8 lignes et 8 colonnes) rempli de valeurs aléatoires entières de 1 à 9 inclus puis mettre à 0 toutes les lignes pour lesquelles le vecteur `vect= np.array([False, True, True, False,False, 'True',False, 'True'])` vaut `True` (en une seule instruction). "
   ]
  },
  {
   "cell_type": "code",
   "execution_count": 30,
   "metadata": {},
   "outputs": [
    {
     "name": "stdout",
     "output_type": "stream",
     "text": [
      "[False  True  True False False  True False  True]\n",
      "[[3 1 9 5 9 5 9 5]\n",
      " [0 0 0 0 0 0 0 0]\n",
      " [0 0 0 0 0 0 0 0]\n",
      " [3 5 4 2 7 6 3 6]\n",
      " [9 9 5 4 8 6 1 3]\n",
      " [0 0 0 0 0 0 0 0]\n",
      " [5 2 6 1 6 2 9 1]\n",
      " [0 0 0 0 0 0 0 0]]\n"
     ]
    }
   ],
   "source": [
    "# à compléter"
   ]
  },
  {
   "cell_type": "markdown",
   "metadata": {},
   "source": [
    "A l'aide de la fonction np.ones,  créer un tableau carré de taille 7 ne contenant que des 1.\n",
    "Puis en maximum deux lignes, faire un \"damier\" en remplaçant certains 1 par des 0 (voir résultat ci-dessous)"
   ]
  },
  {
   "cell_type": "code",
   "execution_count": 31,
   "metadata": {},
   "outputs": [
    {
     "name": "stdout",
     "output_type": "stream",
     "text": [
      "creation de  a \n",
      " [[1. 1. 1. 1. 1. 1. 1.]\n",
      " [1. 1. 1. 1. 1. 1. 1.]\n",
      " [1. 1. 1. 1. 1. 1. 1.]\n",
      " [1. 1. 1. 1. 1. 1. 1.]\n",
      " [1. 1. 1. 1. 1. 1. 1.]\n",
      " [1. 1. 1. 1. 1. 1. 1.]\n",
      " [1. 1. 1. 1. 1. 1. 1.]]\n",
      "apres transformation \n",
      " [[0. 1. 0. 1. 0. 1. 0.]\n",
      " [1. 0. 1. 0. 1. 0. 1.]\n",
      " [0. 1. 0. 1. 0. 1. 0.]\n",
      " [1. 0. 1. 0. 1. 0. 1.]\n",
      " [0. 1. 0. 1. 0. 1. 0.]\n",
      " [1. 0. 1. 0. 1. 0. 1.]\n",
      " [0. 1. 0. 1. 0. 1. 0.]]\n"
     ]
    }
   ],
   "source": [
    "# à compléter"
   ]
  },
  {
   "cell_type": "markdown",
   "metadata": {},
   "source": [
    "### 4. Partage de  valeurs dans un tableau"
   ]
  },
  {
   "cell_type": "markdown",
   "metadata": {},
   "source": [
    "#### a ) \" Vues\"   (extrait avec des slices) "
   ]
  },
  {
   "cell_type": "markdown",
   "metadata": {},
   "source": [
    "Créer un tableau `a` de taille 4x4 rempli de valeurs aléatoires entières de 1 à 9 inclus que l'on nommera a.\n",
    "\n",
    "Créer ensuite une vue (appelée `b`) de la matrice `a` correspondant aux sélecteurs précédents en prenant pas ar exemple :\n",
    "\n",
    "    b = a[0,:] \n",
    "    \n",
    "    \n",
    "Modifier le contenu de `b` et regarder l'effet sur `a`. Puis modifier `a` et regarder l'effet sur `b`\n",
    "\n",
    "Exemple de ce qui est attendu :\n",
    "\n",
    "    a= [[6 3 8 1]\n",
    "     [3 9 4 4]\n",
    "     [9 5 4 5]\n",
    "     [4 2 9 8]] \n",
    "     b= [6 3 8 1]\n",
    "    Après modification de la case 0,3 de a (mise à -1) et la case 0,0 de b (mise à 0)     on obtient :\n",
    "    a= [[ 0  3  8 -1]\n",
    "     [ 3  9  4  4]\n",
    "     [ 9  5  4  5]\n",
    "     [ 4  2  9  8]] \n",
    "     b= [ 0  3  8 -1]    "
   ]
  },
  {
   "cell_type": "code",
   "execution_count": 32,
   "metadata": {},
   "outputs": [
    {
     "name": "stdout",
     "output_type": "stream",
     "text": [
      "a= [[5 4 2 4]\n",
      " [1 5 4 2]\n",
      " [7 3 9 4]\n",
      " [4 7 9 2]] \n",
      "première ligne b= [5 4 2 4]\n",
      "Après modification de la case 0,3 de a (mise à -1) et la case 0,0 de b (mise à 0) on obtient :\n",
      "a= [[ 0  4  2 -1]\n",
      " [ 1  5  4  2]\n",
      " [ 7  3  9  4]\n",
      " [ 4  7  9  2]] \n",
      "b= [ 0  4  2 -1]\n"
     ]
    }
   ],
   "source": [
    "# à compléter"
   ]
  },
  {
   "cell_type": "markdown",
   "metadata": {},
   "source": [
    "#### b) Copies\n",
    "Reproduire la même expérience, mais cette fois-ci en définissant `b` comme une copie de `a` (et non plus une vue) à l'aide de la fonction copy avec l'instruction a[0,:].copy().\n",
    "Comparer les résultats."
   ]
  },
  {
   "cell_type": "code",
   "execution_count": 33,
   "metadata": {},
   "outputs": [
    {
     "name": "stdout",
     "output_type": "stream",
     "text": [
      "a= [[8 8 9 5]\n",
      " [7 5 9 2]\n",
      " [4 6 8 9]\n",
      " [3 2 3 9]] \n",
      "b= [8 8 9 5]\n",
      "Après modification de la case 0,3 de a (mise à -1) et la case 0,0 de b (mise à 0) on obtient :\n",
      "a= [[ 8  8  9 -1]\n",
      " [ 7  5  9  2]\n",
      " [ 4  6  8  9]\n",
      " [ 3  2  3  9]] \n",
      "b= [0 8 9 5]\n"
     ]
    }
   ],
   "source": [
    "# à compléter"
   ]
  },
  {
   "cell_type": "markdown",
   "metadata": {},
   "source": [
    "### 5) Tableaux de tailles différentes"
   ]
  },
  {
   "cell_type": "markdown",
   "metadata": {},
   "source": [
    "Créer un array numpy nommé `a` de taille 3x3 contenant des valeurs aléatoires entières entre 1 et 9 compris. \n",
    "\n",
    "Créer un second array nommé `b` de taille 1x3 également rempli de valeurs aléatoires entières entre 1 et 9 compris.\n",
    "\n",
    "Créer un troisième array nommé `c` de taille 3x1 également rempli de valeurs aléatoires entières entre 1 et 9 compris."
   ]
  },
  {
   "cell_type": "code",
   "execution_count": 34,
   "metadata": {},
   "outputs": [
    {
     "name": "stdout",
     "output_type": "stream",
     "text": [
      "a = [[9 9 6]\n",
      " [9 4 9]\n",
      " [2 5 1]] \n",
      "b = [[4 4 3]] \n",
      "c= [[1]\n",
      " [9]\n",
      " [5]]\n"
     ]
    }
   ],
   "source": [
    "# à compléter"
   ]
  },
  {
   "cell_type": "markdown",
   "metadata": {},
   "source": [
    "Ajouter la constante 5 à a, afficher le résultat :"
   ]
  },
  {
   "cell_type": "code",
   "execution_count": 35,
   "metadata": {},
   "outputs": [
    {
     "name": "stdout",
     "output_type": "stream",
     "text": [
      "[[14 14 11]\n",
      " [14  9 14]\n",
      " [ 7 10  6]]\n"
     ]
    }
   ],
   "source": [
    "# à compléter"
   ]
  },
  {
   "cell_type": "markdown",
   "metadata": {},
   "source": [
    "Calculer (a+b). Que représente ce calcul?\n",
    "\n",
    "Calculer (a+c). Que représente ce calcul?\n",
    "\n",
    "Afficher b.T\n",
    "\n",
    "En déduire une façon d'ajouter b à chaque colonne de a"
   ]
  },
  {
   "cell_type": "code",
   "execution_count": 36,
   "metadata": {},
   "outputs": [
    {
     "name": "stdout",
     "output_type": "stream",
     "text": [
      "a = [[9 9 6]\n",
      " [9 4 9]\n",
      " [2 5 1]] \n",
      "b = [[4 4 3]] \n",
      "c= [[1]\n",
      " [9]\n",
      " [5]]\n",
      "a+b [[13 13  9]\n",
      " [13  8 12]\n",
      " [ 6  9  4]]\n",
      "a+c [[10 10  7]\n",
      " [18 13 18]\n",
      " [ 7 10  6]]\n",
      "b.T [[4]\n",
      " [4]\n",
      " [3]]\n",
      "a+b.T [[13 13 10]\n",
      " [13  8 13]\n",
      " [ 5  8  4]]\n",
      "a = [[9 9 6]\n",
      " [9 4 9]\n",
      " [2 5 1]] \n",
      "b = [[4 4 3]] \n",
      "c= [[1]\n",
      " [9]\n",
      " [5]]\n"
     ]
    }
   ],
   "source": [
    "# à compléter"
   ]
  },
  {
   "cell_type": "markdown",
   "metadata": {},
   "source": [
    "Calculer la somme b+c, afficher le résultat et le commenter."
   ]
  },
  {
   "cell_type": "code",
   "execution_count": 37,
   "metadata": {},
   "outputs": [
    {
     "name": "stdout",
     "output_type": "stream",
     "text": [
      "\n",
      "b:\n",
      " [[4 4 3]] \n",
      "c:\n",
      " [[1]\n",
      " [9]\n",
      " [5]] \n",
      "b+c:\n",
      " [[ 5  5  4]\n",
      " [13 13 12]\n",
      " [ 9  9  8]]\n"
     ]
    }
   ],
   "source": [
    "# à compléter"
   ]
  }
 ],
 "metadata": {
  "kernelspec": {
   "display_name": "Python 3 (ipykernel)",
   "language": "python",
   "name": "python3"
  },
  "language_info": {
   "codemirror_mode": {
    "name": "ipython",
    "version": 3
   },
   "file_extension": ".py",
   "mimetype": "text/x-python",
   "name": "python",
   "nbconvert_exporter": "python",
   "pygments_lexer": "ipython3",
   "version": "3.10.12"
  },
  "latex_envs": {
   "LaTeX_envs_menu_present": false,
   "autoclose": false,
   "autocomplete": false,
   "bibliofile": "biblio.bib",
   "cite_by": "apalike",
   "current_citInitial": 1,
   "eqLabelWithNumbers": false,
   "eqNumInitial": 1,
   "hotkeys": {
    "equation": "Ctrl-E",
    "itemize": "Ctrl-I"
   },
   "labels_anchors": false,
   "latex_user_defs": false,
   "report_style_numbering": false,
   "user_envs_cfg": false
  },
  "toc": {
   "base_numbering": 1,
   "nav_menu": {},
   "number_sections": true,
   "sideBar": true,
   "skip_h1_title": false,
   "title_cell": "Table of Contents",
   "title_sidebar": "Contents",
   "toc_cell": false,
   "toc_position": {},
   "toc_section_display": true,
   "toc_window_display": false
  },
  "vscode": {
   "interpreter": {
    "hash": "a2f5a4e5cb9685a704f3797f6942b9eb6ca9983296f40a6a598da917a934f46a"
   }
  }
 },
 "nbformat": 4,
 "nbformat_minor": 2
}
