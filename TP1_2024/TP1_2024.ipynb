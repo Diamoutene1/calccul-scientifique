{
 "cells": [
  {
   "cell_type": "markdown",
   "metadata": {
    "deletable": false,
    "run_control": {
     "frozen": true
    }
   },
   "source": [
    "## L1 informatique -- Calcul scientifique\n",
    "## TP 1:  prise en main du jupyter notebook et premiers pas avec sympy"
   ]
  },
  {
   "cell_type": "markdown",
   "metadata": {},
   "source": [
    "### NOM : Diamoutene\n",
    "### Prénom :zana"
   ]
  },
  {
   "cell_type": "markdown",
   "metadata": {},
   "source": [
    "**Objectifs du TP** : \n",
    "\n",
    "- Savoir exécuter jupyter notebook, lancer/sauvegarder un notebook,importer une librairie.\n",
    "- Introduction à sympy , quelques calculs et graphes de base\n",
    "\n",
    "**Ce TP est à finir** (même s'il n'est pas à rendre); ce sera très utile pour les exos noté et le TP noté.\n",
    "\n",
    "**Quelques conseils de base** : Pour chaque fiche de TP, nous utiliserons un calepin jupyter            notebook. Il est conseillé de créer un répertoire CalculScientifique, puis un sous-répertoire pour chaque TP (e.g., TP1, TP2, TP3....). En général, une archive, que vous pouvez télécharger sur ecampus, est composée du fichier TP_X.ipynb qui contient les commandes (pratiquement) pré-remplies correspondant au TP X ainsi que les ressources nécessaires. Il faut *renommer* le fichier .ipynb sous  la forme <u>TP_X_Nom_Prenom.ipynb</u>. Dans un répertoire TP1, vous stockerez donc : \n",
    "    - Le fichier TP_1_Nom_Prenom.ipynb\n",
    "    - Le fichier TP_1_Nom_Prenom au format PDF \n",
    "    - Les fichiers de données (qui y seront téléchargés)"
   ]
  },
  {
   "cell_type": "markdown",
   "metadata": {},
   "source": [
    "## I) Jupyter Notebook\n",
    "\n",
    "### Mise en forme\n",
    "Ajoutez une nouvelle cellule tout en haut du jupyter notebook sous le titre.  Puis, vous ajouter votre nom et votre prénom  dans cette cellule sous format `Markdown`. Votre nom doit être en gras. On pourra cliquer sur une cellule pour voir le \"code\"  pour mettre différents niveaux de titres."
   ]
  },
  {
   "cell_type": "markdown",
   "metadata": {},
   "source": [
    "## II) Utilisation de Sympy\n"
   ]
  },
  {
   "cell_type": "markdown",
   "metadata": {},
   "source": [
    "Il s'agit de \"faire faire\" des maths à python grâce à sympy. Il s'agit pour cette première expérience de travailler avec de polynômes et des systèmes , comme en algèbre au semestre 1.\n",
    "\n",
    "Quelques outils à utiliser: display, pprint, factor, expand, subs, eq, solve, diff, div\n",
    "et à retenir...."
   ]
  },
  {
   "cell_type": "markdown",
   "metadata": {},
   "source": [
    "## Exercice 1 - premiers calculs avec sympy\n"
   ]
  },
  {
   "cell_type": "markdown",
   "metadata": {},
   "source": [
    "Ne pas oublier de commencer par importer sympy"
   ]
  },
  {
   "cell_type": "code",
   "execution_count": 2,
   "metadata": {},
   "outputs": [],
   "source": [
    "import sympy as sp"
   ]
  },
  {
   "cell_type": "markdown",
   "metadata": {},
   "source": [
    "Exemple: on définit $\\sqrt {2}$ puis on l'affiche de plusieurs manières (print, sp.pprint, display)"
   ]
  },
  {
   "cell_type": "code",
   "execution_count": 3,
   "metadata": {},
   "outputs": [
    {
     "name": "stdout",
     "output_type": "stream",
     "text": [
      "avec print :\n",
      "e= sqrt(2)\n",
      "\n",
      "avec sp.pprint :\n",
      "√2\n",
      "\n",
      "avec display :\n"
     ]
    },
    {
     "data": {
      "text/latex": [
       "$\\displaystyle \\sqrt{2}$"
      ],
      "text/plain": [
       "sqrt(2)"
      ]
     },
     "metadata": {},
     "output_type": "display_data"
    }
   ],
   "source": [
    "e= sp.sqrt(2)\n",
    "print(\"avec print :\")\n",
    "print(\"e=\",e)\n",
    "\n",
    "print(\"\\navec sp.pprint :\")\n",
    "sp.pprint(e)\n",
    "\n",
    "print(\"\\navec display :\")\n",
    "display(e)"
   ]
  },
  {
   "cell_type": "markdown",
   "metadata": {},
   "source": [
    "<hr/>\n",
    "1. Définir le symbole x puis les expressions:\n",
    "\n",
    "$e_1=x^3-8$ \n",
    "\n",
    "$e_2=(x-2)(x^2-8)$\n",
    "\n",
    "On essayera plusieurs affichage ( print, sp.pprint et display)"
   ]
  },
  {
   "cell_type": "code",
   "execution_count": 4,
   "metadata": {},
   "outputs": [
    {
     "name": "stdout",
     "output_type": "stream",
     "text": [
      "Avec print :\n",
      "x**3 - 8\n",
      "(x - 2)*(x**2 - 8)\n",
      "\n",
      "Avec sp.pprint :\n",
      " 3    \n",
      "x  - 8\n",
      "        ⎛ 2    ⎞\n",
      "(x - 2)⋅⎝x  - 8⎠\n",
      "\n",
      "Avec display :\n"
     ]
    },
    {
     "data": {
      "text/latex": [
       "$\\displaystyle x^{3} - 8$"
      ],
      "text/plain": [
       "x**3 - 8"
      ]
     },
     "metadata": {},
     "output_type": "display_data"
    },
    {
     "data": {
      "text/latex": [
       "$\\displaystyle \\left(x - 2\\right) \\left(x^{2} - 8\\right)$"
      ],
      "text/plain": [
       "(x - 2)*(x**2 - 8)"
      ]
     },
     "metadata": {},
     "output_type": "display_data"
    }
   ],
   "source": [
    "# Définir le symbole x\n",
    "import sympy as sp \n",
    "# A compléter ...\n",
    "x= sp.symbols(\"x\")\n",
    "\n",
    "# Définir les expressions e1, e2 et e3 \n",
    "# A compléter ...\n",
    "\n",
    "e1= x**3 - 8\n",
    "e2= (x - 2)*(x**2 -8)\n",
    "\n",
    "\n",
    "\n",
    "print(\"Avec print :\")\n",
    "print(e1)\n",
    "print(e2)\n",
    "\n",
    "\n",
    "print(\"\\nAvec sp.pprint :\")\n",
    "sp.pprint(e1)\n",
    "sp.pprint(e2)\n",
    "\n",
    "\n",
    "print(\"\\nAvec display :\")\n",
    "display(e1)\n",
    "display(e2)\n",
    "\n"
   ]
  },
  {
   "cell_type": "markdown",
   "metadata": {},
   "source": [
    "<hr/>\n",
    "2. calculer la valeur de $e_1$  pour x=2 et pour x=-2."
   ]
  },
  {
   "cell_type": "code",
   "execution_count": 5,
   "metadata": {},
   "outputs": [
    {
     "data": {
      "text/latex": [
       "$\\displaystyle 16$"
      ],
      "text/plain": [
       "16"
      ]
     },
     "execution_count": 5,
     "metadata": {},
     "output_type": "execute_result"
    }
   ],
   "source": [
    "# A compléter ...\n",
    "x=sp.symbols(\"x\")\n",
    "e1.subs({x:2})\n",
    "e2.subs({x:-2})"
   ]
  },
  {
   "cell_type": "markdown",
   "metadata": {},
   "source": [
    "<hr/>\n",
    "3. Factoriser $e_1$ et développer $e_2$."
   ]
  },
  {
   "cell_type": "code",
   "execution_count": 6,
   "metadata": {},
   "outputs": [
    {
     "data": {
      "text/latex": [
       "$\\displaystyle \\left(x - 2\\right) \\left(x^{2} + 2 x + 4\\right)$"
      ],
      "text/plain": [
       "(x - 2)*(x**2 + 2*x + 4)"
      ]
     },
     "metadata": {},
     "output_type": "display_data"
    },
    {
     "data": {
      "text/latex": [
       "$\\displaystyle x^{3} - 2 x^{2} - 8 x + 16$"
      ],
      "text/plain": [
       "x**3 - 2*x**2 - 8*x + 16"
      ]
     },
     "metadata": {},
     "output_type": "display_data"
    }
   ],
   "source": [
    "# A compléter ...\n",
    "e1=x**3-8\n",
    "e1=e1.factor()\n",
    "display(e1)\n",
    "e2=(x - 2)*(x**2 -8)\n",
    "e2=e2.expand()\n",
    "display(e2)\n"
   ]
  },
  {
   "cell_type": "markdown",
   "metadata": {},
   "source": [
    "<hr>\n",
    "4. Simplifiez les expressions suivantes :\n",
    "\n",
    "\\begin{equation*}\n",
    "\\frac{x^2 + 2x + 1}{x + 1}\n",
    "\\end{equation*}\n",
    "\n",
    "\\begin{equation*}\n",
    "sin^2(x)+cos^2(x)\n",
    "\\end{equation*}\n",
    "\n"
   ]
  },
  {
   "cell_type": "code",
   "execution_count": 7,
   "metadata": {},
   "outputs": [
    {
     "name": "stdout",
     "output_type": "stream",
     "text": [
      "Expression simplifiée 1 : x**2 + 2*x + 1 + 1/x\n",
      "Expression simplifiée 2 : 1\n"
     ]
    }
   ],
   "source": [
    "# A compléter ...\n",
    "import sympy as sp \n",
    "x=sp.symbols(\"x\")\n",
    "expression1 = x**2+2*x+1/x+1\n",
    "\n",
    "expression_simplifiee1 = expression1.simplify()\n",
    "print(\"Expression simplifiée 1 :\", expression_simplifiee1)\n",
    "\n",
    "expression2 = sp.sin(x)**2 + sp.cos(x)**2\n",
    "\n",
    "expression_simplifiee2 = sp.simplify(expression2)\n",
    "print(\"Expression simplifiée 2 :\", expression_simplifiee2)"
   ]
  },
  {
   "cell_type": "markdown",
   "metadata": {},
   "source": [
    "<hr/>\n",
    "5. Calculer et factoriser $e=e_1+e_2$  et $ee=e_1-e_2$"
   ]
  },
  {
   "cell_type": "code",
   "execution_count": 8,
   "metadata": {},
   "outputs": [
    {
     "name": "stdout",
     "output_type": "stream",
     "text": [
      "x**3 + (x - 2)*(x**2 - 8) - 8 2*(x - 2)*(x - 1)*(x + 2)\n",
      "x**3 - (x - 2)*(x**2 - 8) - 8 2*(x - 2)*(x + 6)\n"
     ]
    }
   ],
   "source": [
    "# A compléter ...\n",
    "e1=x**3-8\n",
    "e2= (x - 2)*(x**2 -8)\n",
    "\n",
    "e=e1+e2\n",
    "print(e,e.factor())\n",
    "ee=e1-e2\n",
    "print(ee,ee.factor())\n"
   ]
  },
  {
   "cell_type": "markdown",
   "metadata": {},
   "source": [
    "<hr/>\n",
    "6. Déterminer les racines de e et ee"
   ]
  },
  {
   "cell_type": "code",
   "execution_count": 9,
   "metadata": {},
   "outputs": [
    {
     "data": {
      "text/latex": [
       "$\\displaystyle x^{3} + \\left(x - 2\\right) \\left(x^{2} - 8\\right) - 8$"
      ],
      "text/plain": [
       "x**3 + (x - 2)*(x**2 - 8) - 8"
      ]
     },
     "metadata": {},
     "output_type": "display_data"
    }
   ],
   "source": [
    "# A compléter ...\n",
    "display(e)"
   ]
  },
  {
   "cell_type": "code",
   "execution_count": 10,
   "metadata": {},
   "outputs": [
    {
     "data": {
      "text/latex": [
       "$\\displaystyle x^{3} - \\left(x - 2\\right) \\left(x^{2} - 8\\right) - 8$"
      ],
      "text/plain": [
       "x**3 - (x - 2)*(x**2 - 8) - 8"
      ]
     },
     "metadata": {},
     "output_type": "display_data"
    }
   ],
   "source": [
    "# A compléter ...\n",
    "display(ee)\n"
   ]
  },
  {
   "cell_type": "markdown",
   "metadata": {},
   "source": [
    "<hr/>\n",
    "7. Créer les équations e=0 et ee=0"
   ]
  },
  {
   "cell_type": "code",
   "execution_count": 11,
   "metadata": {},
   "outputs": [
    {
     "name": "stdout",
     "output_type": "stream",
     "text": [
      "Equation 1 :\n"
     ]
    },
    {
     "data": {
      "text/latex": [
       "$\\displaystyle x^{3} + \\left(x - 2\\right) \\left(x^{2} - 8\\right) - 8 = 0$"
      ],
      "text/plain": [
       "Eq(x**3 + (x - 2)*(x**2 - 8) - 8, 0)"
      ]
     },
     "metadata": {},
     "output_type": "display_data"
    },
    {
     "name": "stdout",
     "output_type": "stream",
     "text": [
      "Equation 2 :\n"
     ]
    },
    {
     "data": {
      "text/latex": [
       "$\\displaystyle x^{3} - \\left(x - 2\\right) \\left(x^{2} - 8\\right) - 8 = 0$"
      ],
      "text/plain": [
       "Eq(x**3 - (x - 2)*(x**2 - 8) - 8, 0)"
      ]
     },
     "metadata": {},
     "output_type": "display_data"
    }
   ],
   "source": [
    "# A compléter ...\n",
    "eq1= sp.Eq(e,0)\n",
    "eq2= sp.Eq(ee,0)\n",
    "\n",
    "print(\"Equation 1 :\")\n",
    "display(eq1)\n",
    "print(\"Equation 2 :\")\n",
    "display(eq2)"
   ]
  },
  {
   "cell_type": "markdown",
   "metadata": {},
   "source": [
    "<hr/>\n",
    "8. Résoudre le système \n"
   ]
  },
  {
   "cell_type": "markdown",
   "metadata": {},
   "source": [
    "$$\n",
    "\\begin{cases}\n",
    "    e = 0 \\\\\n",
    "    ee = 0\n",
    "\\end{cases}\n",
    "$$\n"
   ]
  },
  {
   "cell_type": "code",
   "execution_count": 12,
   "metadata": {
    "scrolled": true
   },
   "outputs": [
    {
     "name": "stdout",
     "output_type": "stream",
     "text": [
      "Solution :\n"
     ]
    },
    {
     "data": {
      "text/plain": [
       "{x**3 + (x - 2)*(x**2 - 8) - 8: 0, x**3 - (x - 2)*(x**2 - 8) - 8: 0}"
      ]
     },
     "metadata": {},
     "output_type": "display_data"
    }
   ],
   "source": [
    "print (\"Solution :\")\n",
    "# A compléter ...\n",
    "\n",
    "sol=sp.solve((eq1, eq2), (x, e, ee))\n",
    "display(sol)\n",
    "\n"
   ]
  },
  {
   "cell_type": "markdown",
   "metadata": {},
   "source": [
    "## Exercice 2 - résolution de systèmes avec sympy"
   ]
  },
  {
   "cell_type": "markdown",
   "metadata": {},
   "source": [
    " A) Résoudre avec sympy les systèmes suivants :\n",
    "\n",
    "$$\n",
    "1)\\begin{cases}\n",
    "       5x+2y+3z=-2\\\\\n",
    "       2x-2y+5z=0\\\\\n",
    "       3x+4y+2z=10\n",
    "\\end{cases}\n",
    "$$\n",
    "\n",
    "$$\n",
    "2)\\begin{cases}\n",
    "       2x-y+3z=9\\\\\n",
    "       3x-5y+z=-4\\\\\n",
    "       4x-7y+z=5\n",
    "\\end{cases}\n",
    "$$\n",
    "\n",
    "$$\n",
    "3)\\begin{cases}\n",
    "       x+y-z=2\\\\\n",
    "       2x+3y+2z=1\\\\\n",
    "       x+2y+3z=-1\n",
    "\\end{cases}\n",
    "$$\n",
    "<hr>\n"
   ]
  },
  {
   "cell_type": "code",
   "execution_count": 13,
   "metadata": {
    "scrolled": true
   },
   "outputs": [],
   "source": [
    "# Définir les variables symboliques\n",
    "# A compléter ...\n",
    "import sympy as sp \n",
    "x,y,z=sp.symbols(\"x,y,z\")\n",
    "\n",
    "\n",
    "\n",
    "# Définir les systèmes d'équations\n",
    "# A compléter ...\n",
    "eq1=sp.Eq(5*x+2*y+3*z,-2)\n",
    "eq2=sp.Eq(2*x-2*y+5*z,0)\n",
    "eq3=sp.Eq(3*x+4*y+2*z,10)\n",
    "\n"
   ]
  },
  {
   "cell_type": "code",
   "execution_count": 14,
   "metadata": {},
   "outputs": [
    {
     "name": "stdout",
     "output_type": "stream",
     "text": [
      "Solution du système 1:\n",
      "{x: -26/7, y: 53/14, z: 3}\n"
     ]
    }
   ],
   "source": [
    "# A compléter ...\n",
    "\n",
    "# Afficher les solutions\n",
    "print(\"Solution du système 1:\")\n",
    "solution1=sp.solve((eq1,eq2,eq3),(x,y,z))\n",
    "print(solution1)\n"
   ]
  },
  {
   "cell_type": "code",
   "execution_count": 15,
   "metadata": {},
   "outputs": [
    {
     "name": "stdout",
     "output_type": "stream",
     "text": [
      "\n",
      "Solution du système 2:\n",
      "[]\n"
     ]
    }
   ],
   "source": [
    "# A compléter ...\n",
    "eq4=sp.Eq(2*x-y+3*z,9)\n",
    "eq5=sp.Eq(3*x-5*y+z,-4)\n",
    "eq6=sp.Eq(4*x-7*y+z,5)\n",
    "solution2=sp.solve((eq4,eq5,eq6),(x,y,z))\n",
    "print(\"\\nSolution du système 2:\")\n",
    "print(solution2)\n"
   ]
  },
  {
   "cell_type": "code",
   "execution_count": 16,
   "metadata": {},
   "outputs": [
    {
     "name": "stdout",
     "output_type": "stream",
     "text": [
      "solution du systeme 2 \n"
     ]
    },
    {
     "data": {
      "text/plain": [
       "{x: -26/7, y: 53/14, z: 3}"
      ]
     },
     "execution_count": 16,
     "metadata": {},
     "output_type": "execute_result"
    }
   ],
   "source": [
    "# A compléter ...\n",
    "\n",
    "print(\"solution du systeme 2 \")\n",
    "sp.solve([eq1,eq2,eq3])"
   ]
  },
  {
   "cell_type": "code",
   "execution_count": 17,
   "metadata": {},
   "outputs": [
    {
     "name": "stdout",
     "output_type": "stream",
     "text": [
      "\n",
      "Solution du système 3:\n",
      "{x: 5*z + 5, y: -4*z - 3}\n"
     ]
    }
   ],
   "source": [
    "# A compléter ...\n",
    "eq7=sp.Eq(x+y-z,2)\n",
    "eq8=sp.Eq(2*x+3*y+2*z,1)\n",
    "eq9=sp.Eq(x+2*y+3*z,-1)\n",
    "solution3=sp.solve((eq7,eq8,eq9),(x,y,z))\n",
    "\n",
    "print(\"\\nSolution du système 3:\")\n",
    "print(solution3)"
   ]
  },
  {
   "cell_type": "markdown",
   "metadata": {},
   "source": [
    "<hr/>\n",
    "B) On considère le système:\n",
    "\n",
    "$$\n",
    "  \\begin{cases}\n",
    "       x+my = -3\\\\\n",
    "       mx+4y= 6      \n",
    "  \\end{cases}\n",
    "$$\n",
    "\n",
    "\n",
    "où m est un paramètre.\n",
    "\n",
    "\n",
    "Résoudre ce système avec sympy et remarquer que la solution donnée est la solution la plus générale mais qu'il n'y a pas de discussion selon les valeurs de m.\n",
    "\n",
    "Remarque: attention à bien avoir les solutions pour x et y en fonction de m ."
   ]
  },
  {
   "cell_type": "code",
   "execution_count": 18,
   "metadata": {},
   "outputs": [
    {
     "data": {
      "text/plain": [
       "{x: 6/(m - 2), y: -3/(m - 2)}"
      ]
     },
     "execution_count": 18,
     "metadata": {},
     "output_type": "execute_result"
    }
   ],
   "source": [
    "# A compléter ...\n",
    "import sympy as sp\n",
    "x,y,m=sp.symbols(\"x,y,m\")\n",
    "eq1=sp.Eq(x+m*y,-3)\n",
    "eq2=sp.Eq(m*x+4*y,6)\n",
    "sp.solve((eq1,eq2,),(x,y,))\n",
    "\n",
    "\n"
   ]
  },
  {
   "cell_type": "markdown",
   "metadata": {},
   "source": [
    "## Exercice 3 - polynômes avec sympy"
   ]
  },
  {
   "cell_type": "markdown",
   "metadata": {},
   "source": [
    "On considère le polynome $Q(x)=x^5-4x^4+4x^3+2x^2-5x+2$\n",
    "\n",
    "<hr/>\n",
    "1) Définir et afficher q."
   ]
  },
  {
   "cell_type": "code",
   "execution_count": 19,
   "metadata": {},
   "outputs": [
    {
     "name": "stdout",
     "output_type": "stream",
     "text": [
      " 5      4      3      2          \n",
      "x  - 4⋅x  + 4⋅x  + 2⋅x  - 5⋅x + 2\n"
     ]
    }
   ],
   "source": [
    "# A compléter ...\n",
    "x=sp.symbols(\"x\")\n",
    "q=x**5-4*x**4+4*x**3+2*x**2-5*x+2\n",
    "sp.pprint(q)\n",
    "\n",
    "\n"
   ]
  },
  {
   "cell_type": "markdown",
   "metadata": {},
   "source": [
    "<hr/>\n",
    "2)Calculer les derivées première , seconde et troisième et quatrième  de q pour x=1.\n",
    "\n",
    "On en déduit que $(x-1)^3$ divise Q . Calculer le quotient (avec sp.div)\n"
   ]
  },
  {
   "cell_type": "code",
   "execution_count": 20,
   "metadata": {
    "scrolled": true
   },
   "outputs": [
    {
     "name": "stdout",
     "output_type": "stream",
     "text": [
      "Les 4 valeurs :  0 0 0 0\n",
      "Le quotient :\n"
     ]
    },
    {
     "data": {
      "text/plain": [
       "(0, Q)"
      ]
     },
     "metadata": {},
     "output_type": "display_data"
    }
   ],
   "source": [
    "# A compléter ...\n",
    "x,Q=sp.symbols(\"x,Q\")\n",
    "der1 = sp.diff(Q, x, 1)\n",
    "der2 = sp.diff(Q, x, 2)\n",
    "der3 = sp.diff(Q, x, 3)\n",
    "der4 = sp.diff(Q, x, 4)\n",
    "\n",
    "r1 = der1.subs(x, 1)\n",
    "r2 = der2.subs(x, 1)\n",
    "r3 = der3.subs(x, 1)\n",
    "r4 = der4.subs(x, 1)\n",
    "\n",
    "print(\"Les 4 valeurs : \", r1,r2,r3,r4)\n",
    "\n",
    "# A compléter ...\n",
    "\n",
    "quotient=sp.div(Q, (x - 1)**3)\n",
    "print(\"Le quotient :\")\n",
    "display(quotient)"
   ]
  },
  {
   "cell_type": "markdown",
   "metadata": {},
   "source": [
    "<hr/>\n",
    "3) On remarque que 2 est une racine. Faire la division du quotient par x-2"
   ]
  },
  {
   "cell_type": "code",
   "execution_count": 72,
   "metadata": {},
   "outputs": [
    {
     "data": {
      "text/plain": [
       "(0, 0)"
      ]
     },
     "metadata": {},
     "output_type": "display_data"
    }
   ],
   "source": [
    "# A compléter ...\n",
    "\n",
    "quotient2=sp.div(quotient[0], x - 2)\n",
    "display(quotient2)"
   ]
  },
  {
   "cell_type": "markdown",
   "metadata": {},
   "source": [
    "<hr/>\n",
    "4) On a donc factorisé Q. Afficher le résultat.\n",
    "\n",
    "Retrouver ce résultat avec factor"
   ]
  },
  {
   "cell_type": "code",
   "execution_count": 78,
   "metadata": {},
   "outputs": [],
   "source": [
    "# A compléter ...\n",
    "factored_Q = sp.expand((x - 1)**3 * (x - 2) * quotient2[0])\n",
    "\n",
    "\n"
   ]
  },
  {
   "cell_type": "markdown",
   "metadata": {},
   "source": [
    "Remarque: sympy ne peut pas factoriser n'importe quel polynôme:\n",
    "Par exemple pour $R(X)=4X^4+4X^3-29X+21$, on n'obtient pas une factorisation complète (alors qu'en théorie c'est possible)."
   ]
  },
  {
   "cell_type": "code",
   "execution_count": 83,
   "metadata": {},
   "outputs": [],
   "source": [
    "x=sp.symbols(\"x\")\n",
    "r=4*x**4+4*x**3-29*x+21\n",
    "factored_r= sp.factor(r)"
   ]
  },
  {
   "cell_type": "code",
   "execution_count": 84,
   "metadata": {},
   "outputs": [
    {
     "name": "stdout",
     "output_type": "stream",
     "text": [
      "   4      3            \n",
      "4⋅x  + 4⋅x  - 29⋅x + 21\n"
     ]
    }
   ],
   "source": [
    "sp.pprint(r)"
   ]
  },
  {
   "cell_type": "code",
   "execution_count": null,
   "metadata": {},
   "outputs": [],
   "source": []
  }
 ],
 "metadata": {
  "celltoolbar": "Format de la Cellule Texte Brut",
  "kernelspec": {
   "display_name": "Python 3 (ipykernel)",
   "language": "python",
   "name": "python3"
  },
  "language_info": {
   "codemirror_mode": {
    "name": "ipython",
    "version": 3
   },
   "file_extension": ".py",
   "mimetype": "text/x-python",
   "name": "python",
   "nbconvert_exporter": "python",
   "pygments_lexer": "ipython3",
   "version": "3.10.12"
  },
  "latex_envs": {
   "LaTeX_envs_menu_present": true,
   "autoclose": true,
   "autocomplete": true,
   "bibliofile": "biblio.bib",
   "cite_by": "apalike",
   "current_citInitial": 1,
   "eqLabelWithNumbers": true,
   "eqNumInitial": 1,
   "hotkeys": {
    "equation": "Ctrl-E",
    "itemize": "Ctrl-I"
   },
   "labels_anchors": true,
   "latex_user_defs": true,
   "report_style_numbering": true,
   "user_envs_cfg": true
  },
  "nb.metadata.authors": {
   "name": "Youssef CHAHIR"
  },
  "toc": {
   "base_numbering": 1,
   "nav_menu": {
    "height": "211px",
    "width": "339px"
   },
   "number_sections": false,
   "sideBar": true,
   "skip_h1_title": false,
   "title_cell": "Table of Contents",
   "title_sidebar": "Contents",
   "toc_cell": false,
   "toc_position": {},
   "toc_section_display": true,
   "toc_window_display": false
  },
  "varInspector": {
   "cols": {
    "lenName": 16,
    "lenType": 16,
    "lenVar": 40
   },
   "kernels_config": {
    "python": {
     "delete_cmd_postfix": "",
     "delete_cmd_prefix": "del ",
     "library": "var_list.py",
     "varRefreshCmd": "print(var_dic_list())"
    },
    "r": {
     "delete_cmd_postfix": ") ",
     "delete_cmd_prefix": "rm(",
     "library": "var_list.r",
     "varRefreshCmd": "cat(var_dic_list()) "
    }
   },
   "types_to_exclude": [
    "module",
    "function",
    "builtin_function_or_method",
    "instance",
    "_Feature"
   ],
   "window_display": false
  }
 },
 "nbformat": 4,
 "nbformat_minor": 4
}
