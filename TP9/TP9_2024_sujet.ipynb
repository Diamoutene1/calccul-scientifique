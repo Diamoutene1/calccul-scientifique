{
 "cells": [
  {
   "cell_type": "markdown",
   "metadata": {},
   "source": [
    "# TP9 -- Retour sur la logique -- Matrices avec numpy ou sympy"
   ]
  },
  {
   "cell_type": "markdown",
   "metadata": {},
   "source": [
    "## Partie Logique"
   ]
  },
  {
   "cell_type": "markdown",
   "metadata": {},
   "source": [
    "Les valeurs Booléennes qui représentent le vrai et le faux sont True et False. Les opérations logiques\n",
    "utilisées sont :  \n",
    "- AND  &  : a & b\n",
    "- OR  | :  a | b\n",
    "- NOT  ~  : ~a\n",
    "- => : a >> b"
   ]
  },
  {
   "cell_type": "markdown",
   "metadata": {},
   "source": [
    "1) Représentez la formule:  $F = ((p \\to q) \\vee(r \\wedge \\neg p)) \\wedge \\neg(q \\wedge r)$ \n",
    "\n",
    "où p,q,r sont des variables propositionnelles donc des symboles"
   ]
  },
  {
   "cell_type": "code",
   "execution_count": 1,
   "metadata": {},
   "outputs": [
    {
     "name": "stdout",
     "output_type": "stream",
     "text": [
      "q ∧ r ∧ ((r ∧ ¬p) ∨ (p → q))\n"
     ]
    },
    {
     "data": {
      "text/latex": [
       "$\\displaystyle q \\wedge r \\wedge \\left(\\left(r \\wedge \\neg p\\right) \\vee \\left(p \\Rightarrow q\\right)\\right)$"
      ],
      "text/plain": [
       "q & r & ((Implies(p, q)) | (r & ~p))"
      ]
     },
     "metadata": {},
     "output_type": "display_data"
    },
    {
     "name": "stdout",
     "output_type": "stream",
     "text": [
      "q & r & ((Implies(p, q)) | (r & ~p))\n"
     ]
    }
   ],
   "source": [
    "import sympy as sy\n",
    "# à compléter\n",
    "p,q,r=sy.symbols('p,q,r')\n",
    "f=((p>>q)|(r&~p))&(q&r)\n",
    "sy.pprint(f)\n",
    "display(f)\n",
    "print(f)"
   ]
  },
  {
   "cell_type": "markdown",
   "metadata": {},
   "source": [
    "2) Que vaut F quand p est vrai, q aussi et r faux? Et quand p est vrai, q et r sont faux?"
   ]
  },
  {
   "cell_type": "code",
   "execution_count": 2,
   "metadata": {},
   "outputs": [
    {
     "name": "stdout",
     "output_type": "stream",
     "text": [
      "False\n",
      "False\n"
     ]
    }
   ],
   "source": [
    "# à compléter\n",
    "premier=f.subs({p:True,q:True,r:False})\n",
    "print(premier)\n",
    "deuxieme=f.subs({p:True,q:False,r:False})\n",
    "print(deuxieme)"
   ]
  },
  {
   "cell_type": "markdown",
   "metadata": {},
   "source": [
    "3) On peut aussi mélanger valuation et variables: Que sera le résultat de $f$ si on substitue FAUX à la variable q ?"
   ]
  },
  {
   "cell_type": "code",
   "execution_count": 3,
   "metadata": {},
   "outputs": [
    {
     "data": {
      "text/latex": [
       "$\\displaystyle \\text{False}$"
      ],
      "text/plain": [
       "False"
      ]
     },
     "execution_count": 3,
     "metadata": {},
     "output_type": "execute_result"
    }
   ],
   "source": [
    "# à compléter\n",
    "f.subs({q:False})\n"
   ]
  },
  {
   "cell_type": "markdown",
   "metadata": {},
   "source": [
    "4) Faire la table de vérité de F  (on écrira une boucle)"
   ]
  },
  {
   "cell_type": "code",
   "execution_count": 4,
   "metadata": {},
   "outputs": [
    {
     "name": "stdout",
     "output_type": "stream",
     "text": [
      "True True True True\n",
      "True True False False\n",
      "True False True False\n",
      "True False False False\n",
      "False True True True\n",
      "False True False False\n",
      "False False True False\n",
      "False False False False\n"
     ]
    }
   ],
   "source": [
    "# à compléter\n",
    "for (a,b,c) in [(i,j,k)for i in(True,False) for j in (True,False) for k in(True,False)]:\n",
    "    print(a,b,c,f.subs({p:a,q:b,r:c}))"
   ]
  },
  {
   "cell_type": "markdown",
   "metadata": {},
   "source": [
    "5. Mise sous forme normale: toute expression peut être mise sous forme normale\n",
    "- d'une conjonction de disjonctions (FN conjonctive)\n",
    "- d'une disjonction de conjonctions (FN disjonctive)\n",
    "\n",
    "Pour trouver la FN conjonctive (resp. disjonctive) de F, on fait appel à la fonction to_cnf (resp.\n",
    "to_dnf ) de sympy\n",
    "\n",
    " Donner les FNC et FND de F"
   ]
  },
  {
   "cell_type": "code",
   "execution_count": 5,
   "metadata": {},
   "outputs": [
    {
     "name": "stdout",
     "output_type": "stream",
     "text": [
      "q & r & (q | ~p) & (q | r | ~p)\n",
      "(q & r) | (q & r & ~p)\n"
     ]
    }
   ],
   "source": [
    "# à compléter\n",
    "fnc=sy.to_cnf(f)\n",
    "print(fnc)\n",
    "fnd=sy.to_dnf(f)\n",
    "print(fnd)"
   ]
  },
  {
   "cell_type": "markdown",
   "metadata": {},
   "source": [
    "6) Simplifier F"
   ]
  },
  {
   "cell_type": "code",
   "execution_count": 6,
   "metadata": {},
   "outputs": [
    {
     "name": "stdout",
     "output_type": "stream",
     "text": [
      "q & r\n"
     ]
    }
   ],
   "source": [
    "# à compléter\n",
    "simpli=sy.simplify(f)\n",
    "print(simpli)"
   ]
  },
  {
   "cell_type": "markdown",
   "metadata": {},
   "source": [
    "7. On considère la formule $F$ donnée par sa table de vérité dont la dernière colonne est dans l'ortdre usuel\n",
    "\n",
    "10101100\n",
    "\n",
    "Donner deux formules qui ont cette table de vérité (une conjonctive et une disjonctive)"
   ]
  },
  {
   "cell_type": "code",
   "execution_count": 7,
   "metadata": {},
   "outputs": [],
   "source": [
    "# à compléter\n",
    "min=[[0,0,0],[0,1,0],[0,0,1],[1.01]]"
   ]
  },
  {
   "cell_type": "markdown",
   "metadata": {},
   "source": [
    "## Calcul matriciel"
   ]
  },
  {
   "cell_type": "markdown",
   "metadata": {},
   "source": [
    "Ce TP présente l'objet spécifique matrix, défini dans NumPy et SymPy pour supporter les matrices et les opérations associées. On y voit également en quoi ces modules sont adaptés à l'algèbre linéaire, en facilitant la résolution de systèmes d'équations linéaires, par exemple, grâce aux opérations efficaces sur les matrices.\n"
   ]
  },
  {
   "cell_type": "code",
   "execution_count": 8,
   "metadata": {},
   "outputs": [],
   "source": [
    "import numpy as np\n",
    "import sympy as sp\n",
    "import warnings\n",
    "warnings.filterwarnings('ignore')\n"
   ]
  },
  {
   "cell_type": "markdown",
   "metadata": {},
   "source": [
    "## Création de matrices\n",
    "\n",
    "Une matrice se représente en NumPy à l'aide d'un objet matrix. Il s'agit en fait d'une sous-classe de ndarray, c'est-à-dire que tout ce que l'on a vu sur les atableaux (arrays) s'applique également aux objets matrix. La manière la plus immédiate de créer une matrice consiste à utiliser la fonction **np.matrix**. Une autre façon de créer une matrice consiste à transformer un tableau multidimensionnel à l'aide de la fonction **np.mat**\n",
    "\n",
    "Le résultat attendu est un objet matrix, ou plus précisément un objet numpy.matrixlib.defmatrix.matrix, qui est également une instance de la classe ndarray."
   ]
  },
  {
   "cell_type": "markdown",
   "metadata": {},
   "source": [
    "1. Créer les matrices suivantes (en utilisant np.mat et en utilisant matrix):\n",
    "\n",
    "$A = \\begin{bmatrix}1 & 0 & 0\\\\\n",
    "2 & -2 & 1\\\\\n",
    "0& -3 & 3\n",
    "\\end{bmatrix}\n",
    "\\;\\;\\;    \n",
    "B = \\begin{bmatrix}1 & 2 & 0\\\\\n",
    "0 & -2 & 2\\\\\n",
    "1& -1 & 1\n",
    "\\end{bmatrix}\n",
    "\\;\\;\\;\n",
    "C = \\begin{bmatrix}1 & 2 & 3\\\\\n",
    "1& -1 & 1\n",
    "\\end{bmatrix}\n",
    "\\;\\;\\;et\\;\\;\\;\\; \n",
    "D = \\begin{bmatrix}1 & 2 & 3\\\\\n",
    "2 & 4 & 6\\\\\n",
    "3& 6 & 9\n",
    "\\end{bmatrix}\n",
    "$"
   ]
  },
  {
   "cell_type": "code",
   "execution_count": 41,
   "metadata": {},
   "outputs": [
    {
     "name": "stdout",
     "output_type": "stream",
     "text": [
      "Matrice A:\n",
      "[[ 1  2  0]\n",
      " [-2 -3  0]\n",
      " [ 1  3  0]]\n",
      "\n",
      "Matrice B:\n",
      "[[ 1  0  1]\n",
      " [ 2 -2 -1]\n",
      " [ 0  2  1]]\n",
      "\n",
      "Matrice C:\n",
      "[[ 1  1  2]\n",
      " [-1 -3  3]]\n",
      "\n",
      "Matrice D:\n",
      "[[1 2 3]\n",
      " [4 6 9]\n",
      " [3 6 9]]\n"
     ]
    }
   ],
   "source": [
    "# à compléter\n",
    "\n",
    "import numpy as np\n",
    "# Création de la matrice A\n",
    "A = np.mat([[1, 2, 0], [-2, -3, 0], [1, 3, 0]])\n",
    "\n",
    "# Création de la matrice B\n",
    "B = np.mat([[1, 0, 1], [2, -2, -1], [0, 2, 1]])\n",
    "\n",
    "# Création de la matrice C\n",
    "C = np.mat([[1, 1, 2], [-1, -3, 3]])\n",
    "\n",
    "# Création de la matrice D\n",
    "D = np.mat([[1, 2, 3], [4, 6, 9], [3, 6, 9]])\n",
    "\n",
    "print(\"Matrice A:\")\n",
    "print(A)\n",
    "print(\"\\nMatrice B:\")\n",
    "print(B)\n",
    "print(\"\\nMatrice C:\")\n",
    "print(C)\n",
    "print(\"\\nMatrice D:\")\n",
    "print(D)\n"
   ]
  },
  {
   "cell_type": "code",
   "execution_count": 42,
   "metadata": {
    "scrolled": true
   },
   "outputs": [],
   "source": [
    "# à compléter\n",
    "A=np.matrix([[1, 2, 0], [-2, -3, 0], [1, 3, 0]])\n",
    "B=np.matrix([[1, 0, 1], [2, -2, -1], [0, 2, 1]])\n",
    "C=np.matrix([[1, 1, 2], [-1, -3, 3]])\n",
    "D=np.matrix([[1, 2, 3], [4, 6, 9], [3, 6, 9]])\n",
    "\n",
    "\n"
   ]
  },
  {
   "cell_type": "markdown",
   "metadata": {},
   "source": [
    "On peut créer facilement des matrices particulières comme les matrices identité ou des matrices nulles.\n",
    "Créer les matrices identité de taille  3 et la matrice nulle à 3 lignes et 4  colonnes.\n",
    "On affichera le type obtenu."
   ]
  },
  {
   "cell_type": "code",
   "execution_count": 43,
   "metadata": {},
   "outputs": [
    {
     "name": "stdout",
     "output_type": "stream",
     "text": [
      "Matrice nulle de 3 lignes et 4 colonnes :\n",
      "[[0. 0. 0. 0.]\n",
      " [0. 0. 0. 0.]\n",
      " [0. 0. 0. 0.]]\n",
      "Type de la matrice nulle : <class 'numpy.ndarray'>\n",
      "Matrice identité de taille 3 :\n",
      "[[1. 0. 0.]\n",
      " [0. 1. 0.]\n",
      " [0. 0. 1.]]\n",
      "Type de la matrice identité : <class 'numpy.ndarray'>\n"
     ]
    }
   ],
   "source": [
    "# à compléter\n",
    "import numpy as np\n",
    "\n",
    "# Création de la matrice nulle de 3 lignes et 4 colonnes\n",
    "matrice_nulle_3_4 = np.zeros((3, 4))\n",
    "\n",
    "# Affichage de la matrice nulle\n",
    "print(\"Matrice nulle de 3 lignes et 4 colonnes :\")\n",
    "print(matrice_nulle_3_4)\n",
    "\n",
    "# Affichage du type\n",
    "print(\"Type de la matrice nulle :\", type(matrice_nulle_3_4))\n",
    "\n",
    "import numpy as np\n",
    "\n",
    "# Création de la matrice identité de taille 3\n",
    "matrice_identite_3 = np.eye(3)\n",
    "\n",
    "# Affichage de la matrice identité\n",
    "print(\"Matrice identité de taille 3 :\")\n",
    "print(matrice_identite_3)\n",
    "\n",
    "# Affichage du type\n",
    "print(\"Type de la matrice identité :\", type(matrice_identite_3))\n",
    "\n"
   ]
  },
  {
   "cell_type": "markdown",
   "metadata": {},
   "source": [
    "## Propriétés: \n",
    "#### Taille \n",
    "- Afficher la taille de la matrice A (sa dimension) et vérifier que la matrice A est bien une matrice carrée"
   ]
  },
  {
   "cell_type": "code",
   "execution_count": 44,
   "metadata": {},
   "outputs": [
    {
     "name": "stdout",
     "output_type": "stream",
     "text": [
      "Taille de la matrice A : (3, 3)\n",
      "La matrice A est une matrice carrée.\n"
     ]
    }
   ],
   "source": [
    "# à compléter\n",
    "taille_A = A.shape\n",
    "print(\"Taille de la matrice A :\", taille_A)\n",
    "\n",
    "# Vérifier si la matrice A est carrée\n",
    "est_carree = A.shape[0] == A.shape[1]\n",
    "if est_carree:\n",
    "    print(\"La matrice A est une matrice carrée.\")\n",
    "    \n",
    "else:\n",
    "    print(\"La matrice A n'est pas une matrice carrée.\")\n",
    "   "
   ]
  },
  {
   "cell_type": "markdown",
   "metadata": {},
   "source": [
    "#### Diagonale principale\n",
    "- Afficher la diagonale principale de la matrice A (c'est-à-dire les éléments (a)ij tels que i=j). \n",
    "- Afficher ensuite les autres diagonales au-dessus et en-dessous de la diagonale principale\n"
   ]
  },
  {
   "cell_type": "code",
   "execution_count": 45,
   "metadata": {},
   "outputs": [
    {
     "name": "stdout",
     "output_type": "stream",
     "text": [
      "Diagonale principale de la matrice A :\n",
      " [ 1 -3  0]\n",
      "Diagonales au-dessus de la diagonale principale de la matrice A :\n",
      " [array([2, 0]), array([0])]\n",
      "Diagonales en-dessous de la diagonale principale de la matrice A :\n",
      " [array([-2,  3]), array([1])]\n"
     ]
    }
   ],
   "source": [
    "# à compléter\n",
    "# Afficher la diagonale principale\n",
    "diagonale_principale = np.diag(A)\n",
    "print(\"Diagonale principale de la matrice A :\\n\", diagonale_principale)\n",
    "\n",
    "# Afficher les diagonales au-dessus de la diagonale principale\n",
    "diagonales_au_dessus = [np.diag(A, k=i) for i in range(1, A.shape[0])]\n",
    "print(\"Diagonales au-dessus de la diagonale principale de la matrice A :\\n\", diagonales_au_dessus)\n",
    "\n",
    "# Afficher les diagonales en-dessous de la diagonale principale\n",
    "diagonales_en_dessous = [np.diag(A, k=-i) for i in range(1, A.shape[0])]\n",
    "print(\"Diagonales en-dessous de la diagonale principale de la matrice A :\\n\", diagonales_en_dessous)"
   ]
  },
  {
   "cell_type": "markdown",
   "metadata": {},
   "source": [
    "### Trace\n",
    "\n",
    "- Calculer la trace de la matrice carrée A (avec **np.trace**) et vérifier qu'elle est égale à la somme des éléments de sa diagonale principale."
   ]
  },
  {
   "cell_type": "code",
   "execution_count": 46,
   "metadata": {},
   "outputs": [
    {
     "name": "stdout",
     "output_type": "stream",
     "text": [
      "Trace de A : -2\n",
      "Vérification : True\n"
     ]
    }
   ],
   "source": [
    "# à compléter\n",
    "\n",
    "\n",
    "# Calculer la trace de la matrice A\n",
    "trace_A = np.trace(A)\n",
    "\n",
    "# Calculer la somme des éléments de la diagonale principale\n",
    "somme_diagonale_principale = np.sum(np.diag(A))\n",
    "\n",
    "# Vérifier si la trace est égale à la somme des éléments de la diagonale principale\n",
    "verification = trace_A == somme_diagonale_principale\n",
    "\n",
    "# Afficher la trace de A et la vérification\n",
    "print(\"Trace de A :\", trace_A)\n",
    "print(\"Vérification :\", verification)\n"
   ]
  },
  {
   "cell_type": "markdown",
   "metadata": {},
   "source": [
    "### Rang\n",
    "- Le rang d'une matrice s'obtient avec la fonction **np.linalg.matrix_rank** qui représente notamment le nombre de lignes linéairement indépendantes d'une matrice. Calculer le rang des trois matrices B,C et D :"
   ]
  },
  {
   "cell_type": "code",
   "execution_count": 47,
   "metadata": {},
   "outputs": [
    {
     "name": "stdout",
     "output_type": "stream",
     "text": [
      "Rang de la matrice B : 3\n",
      "Rang de la matrice C : 2\n",
      "Rang de la matrice D : 2\n"
     ]
    }
   ],
   "source": [
    "# à compléter\n",
    "# Création de la matrice A\n",
    "# Calculer le rang de la matrice B\n",
    "rang_B = np.linalg.matrix_rank(B)\n",
    "\n",
    "# Calculer le rang de la matrice C\n",
    "rang_C = np.linalg.matrix_rank(C)\n",
    "\n",
    "# Calculer le rang de la matrice D\n",
    "rang_D = np.linalg.matrix_rank(D)\n",
    "\n",
    "# Afficher les rangs\n",
    "print(\"Rang de la matrice B :\", rang_B)\n",
    "print(\"Rang de la matrice C :\", rang_C)\n",
    "print(\"Rang de la matrice D :\", rang_D)"
   ]
  },
  {
   "cell_type": "markdown",
   "metadata": {},
   "source": [
    "### Déterminant\n",
    "- Le calcul du déterminant, uniquement défini sur les matrices carrées, intervient notamment dans la résolution de systèmes d'équations linéaires. On l'obtient avec la fonction **np.linalg.det**. \n",
    "\n",
    "Calculer les déterminants des matrices A et B:"
   ]
  },
  {
   "cell_type": "code",
   "execution_count": 48,
   "metadata": {},
   "outputs": [
    {
     "name": "stdout",
     "output_type": "stream",
     "text": [
      "Déterminant de la matrice A : 0.0\n",
      "Déterminant de la matrice B : 4.0\n"
     ]
    }
   ],
   "source": [
    "# à compléter\n",
    " \n",
    "determinant_A = np.linalg.det(A)\n",
    "\n",
    "# Afficher le déterminant\n",
    "print(\"Déterminant de la matrice A :\", determinant_A)\n",
    "\n",
    "\n",
    "determinant_B= np.linalg.det(B)\n",
    "\n",
    "# Afficher le déterminant\n",
    "print(\"Déterminant de la matrice B :\", determinant_B)"
   ]
  },
  {
   "cell_type": "markdown",
   "metadata": {},
   "source": [
    "### Transposée\n",
    "- Calculer la transposée d'une matrice revient à construire une nouvelle matrice dont les lignes sont les colonnes de la matrice originale, et vice-versa. Calculer la transposée de la matrice A :"
   ]
  },
  {
   "cell_type": "code",
   "execution_count": 51,
   "metadata": {},
   "outputs": [
    {
     "name": "stdout",
     "output_type": "stream",
     "text": [
      "Transposée de la matrice A :\n",
      " [[ 1 -2  1]\n",
      " [ 2 -3  3]\n",
      " [ 0  0  0]]\n",
      "Transposée de la matrice B :\n",
      " [[ 1  2  0]\n",
      " [ 0 -2  2]\n",
      " [ 1 -1  1]]\n"
     ]
    }
   ],
   "source": [
    "# à compléter\n",
    "# Supposons que A soit votre matrice\n",
    "A_transpose = A.transpose()\n",
    "\n",
    "# Afficher la transposée de la matrice A\n",
    "print(\"Transposée de la matrice A :\\n\", A_transpose)\n",
    "\n",
    "# Supposons que A soit votre matrice\n",
    "B_transpose = B.transpose()\n",
    "\n",
    "# Afficher la transposée de la matrice A\n",
    "print(\"Transposée de la matrice B :\\n\", B_transpose)"
   ]
  },
  {
   "cell_type": "markdown",
   "metadata": {},
   "source": [
    "### Produit\n",
    "\n",
    "Tout comme pour les vecteurs, différentes possibilités existent pour le produit de matrices. Ces différentes opérations sont évidemment supportées par Numpy.\n",
    "\n",
    "\n",
    "#### Produit matriciel\n",
    "- Étant donné deux matrices compatibles, c'est-à-dire que le nombre de colonnes de la première est égal au nombre de lignes de la seconde, on peut effectuer un produit matriciel entre ces deux matrices. "
   ]
  },
  {
   "cell_type": "markdown",
   "metadata": {},
   "source": [
    "Attention à ne pas confondre A*B pour les tableaux et np.dot(A,B)"
   ]
  },
  {
   "cell_type": "code",
   "execution_count": 53,
   "metadata": {},
   "outputs": [
    {
     "data": {
      "text/plain": [
       "matrix([[ 5, -4, -1],\n",
       "        [-8,  6,  1],\n",
       "        [ 7, -6, -2]])"
      ]
     },
     "metadata": {},
     "output_type": "display_data"
    },
    {
     "data": {
      "text/plain": [
       "matrix([[ 5, -4, -1],\n",
       "        [-8,  6,  1],\n",
       "        [ 7, -6, -2]])"
      ]
     },
     "metadata": {},
     "output_type": "display_data"
    }
   ],
   "source": [
    "# à compléter\n",
    "produit=A*B\n",
    "display(produit)\n",
    "\n",
    "dot=np.dot(A,B)\n",
    "display(dot)"
   ]
  },
  {
   "cell_type": "markdown",
   "metadata": {},
   "source": [
    "Calculer le produit matriciel entre les différentes matrices si elles sont de tailles compatibles et voir ce qui se produit si les matrices ne sont pas de tailles compatibles."
   ]
  },
  {
   "cell_type": "code",
   "execution_count": 55,
   "metadata": {},
   "outputs": [
    {
     "name": "stdout",
     "output_type": "stream",
     "text": [
      "Produit matriciel entre C et A :\n",
      " [[ 1  5  0]\n",
      " [ 8 16  0]]\n"
     ]
    }
   ],
   "source": [
    "# à compléter\n",
    "#print(A[:,:2]*C)\n",
    "#print (\"si on demande CA qui n'est pas calculable il se produira une erreur  \")\n",
    "#np.dot(A,C) \n",
    "\n",
    "# Vérifier si le produit matriciel entre C et A est possible\n",
    "if C.shape[1] == A.shape[0]:\n",
    "    product_CA = np.dot(C, A)\n",
    "    print(\"Produit matriciel entre C et A :\\n\", product_CA)\n",
    "else:\n",
    "    print(\"Le produit matriciel entre C et A n'est pas possible car le nombre de colonnes de C n'est pas égal au nombre de lignes de A.\")\n",
    "\n",
    "\n"
   ]
  },
  {
   "cell_type": "markdown",
   "metadata": {},
   "source": [
    "### Inverse\n",
    "\n",
    "- Une autre opération très importante en algèbre linéaire, notamment pour résoudre des systèmes d'équations linéaires, consiste à calculer l'inverse d'une matrice carrée. Si la matrice est inversible, alors on peut obtenir son inverse avec l'attribut I. \n",
    "\n",
    "\n",
    "Vérifier si la matrice A est inversible, afficher son inverse et vérifier que le produit de A avec son inverse donne la matrice identité"
   ]
  },
  {
   "cell_type": "code",
   "execution_count": 56,
   "metadata": {},
   "outputs": [
    {
     "name": "stdout",
     "output_type": "stream",
     "text": [
      "La matrice A n'est pas inversible.\n"
     ]
    }
   ],
   "source": [
    "# à compléter\n",
    "# Vérifier si la matrice A est inversible\n",
    "if np.linalg.det(A) != 0:\n",
    "    # Calculer l'inverse de A\n",
    "    A_inv = np.linalg.inv(A)\n",
    "    \n",
    "    # Afficher l'inverse de A\n",
    "    print(\"Inverse de A :\\n\", A_inv)\n",
    "    \n",
    "    # Calculer le produit de A avec son inverse\n",
    "    product_A_A_inv = np.dot(A, A_inv)\n",
    "    \n",
    "    # Afficher le produit de A avec son inverse\n",
    "    print(\"Produit A * A.I :\\n\", product_A_A_inv)\n",
    "    \n",
    "    # Vérifier si le produit est proche de la matrice identité\n",
    "    verification = np.allclose(product_A_A_inv, np.eye(A.shape[0]))\n",
    "    \n",
    "    # Afficher le résultat de la vérification\n",
    "    print(\"Vérification  :\\n\", verification)\n",
    "else:\n",
    "    print(\"La matrice A n'est pas inversible.\")\n",
    "\n"
   ]
  },
  {
   "cell_type": "markdown",
   "metadata": {},
   "source": [
    "Pour s'en sortir lorsque l'on fait des calculs en nombres flottants, il ne faut jamais comparer deux valeurs avec l'opérateur d'égalité. Une solution pour comparer deux matrices de float consiste à utiliser la fonction allclose qui permet de faire une égalité approximative :"
   ]
  },
  {
   "cell_type": "code",
   "execution_count": 21,
   "metadata": {},
   "outputs": [
    {
     "name": "stdout",
     "output_type": "stream",
     "text": [
      "Vérification avec np.allclose:\n",
      "True\n"
     ]
    }
   ],
   "source": [
    "print(\"Vérification avec np.allclose:\")\n",
    "print(np.allclose(A * A.I, np.identity(3)))"
   ]
  },
  {
   "cell_type": "markdown",
   "metadata": {},
   "source": [
    "#### Changement de base :\n",
    "Si A est la matrice d'origine et P la matrice de passage on peut calculer B matrice dans la nouvelle base avec $B=P^{-1}AP$"
   ]
  },
  {
   "cell_type": "code",
   "execution_count": 57,
   "metadata": {},
   "outputs": [
    {
     "name": "stdout",
     "output_type": "stream",
     "text": [
      "Matrice B dans la nouvelle base :\n",
      " [[ 0.  0.  0.  0.]\n",
      " [ 0.  0.  0.  0.]\n",
      " [ 0.  0.  1.  0.]\n",
      " [ 0.  0.  0. -1.]]\n"
     ]
    }
   ],
   "source": [
    "A=np.matrix([[1,0,0,-2],[2,-2,2,0],[0,-3,3,6],[1,0,0,-2]])\n",
    "P = np.matrix([[2,0,0,1],[4,1,2,2],[2,1,3,0],[1,0,0,1]])\n",
    "\n",
    "# à compléter\n",
    "# Calculer l'inverse de P\n",
    "P_inv = np.linalg.inv(P)\n",
    "\n",
    "\n",
    "# Calculer B dans la nouvelle base\n",
    "B = np.dot(P_inv, np.dot(A, P))\n",
    "\n",
    "# Afficher la matrice B\n",
    "print(\"Matrice B dans la nouvelle base :\\n\", B)"
   ]
  },
  {
   "cell_type": "markdown",
   "metadata": {},
   "source": [
    "# Systèmes d'équations linéaires\n",
    "\n",
    "Résoudre un système d'équations linéaires revient à résoudre une équation de la forme $A\\cdot X=B$ où $A$ est la matrice du systeme et $X$ et $B$ deux matrices colonnes. On déduit que la solution est simplement $X= A^{−1} \\cdot B $ sous certaines conditions."
   ]
  },
  {
   "cell_type": "markdown",
   "metadata": {},
   "source": [
    "- Résoudre le système suivant :\n",
    "\n",
    "\\begin{cases}\n",
    "3x+y-z  &=2 \\\\\n",
    "-x-y +z&=0\\\\\n",
    "2x+y +z&=3\\\\\n",
    "\\end{cases}\n",
    "\n",
    "Le systeme devient $A\\cdot X=B$ "
   ]
  },
  {
   "cell_type": "code",
   "execution_count": 23,
   "metadata": {},
   "outputs": [
    {
     "name": "stdout",
     "output_type": "stream",
     "text": [
      "\n",
      "sans  arrondi  x= 1.0  y= 1.6653345369377346e-16  z= 1.0\n",
      "\n",
      "avec arrondi : x= 1.0  y= 0.0  z= 1.0\n"
     ]
    }
   ],
   "source": [
    "# à compléter"
   ]
  },
  {
   "cell_type": "code",
   "execution_count": 24,
   "metadata": {},
   "outputs": [
    {
     "name": "stdout",
     "output_type": "stream",
     "text": [
      "matrice A \n",
      " [[ 3  1 -1]\n",
      " [-1 -1  1]\n",
      " [ 2  1  1]]\n",
      "\n",
      "matrice B \n",
      " [[2]\n",
      " [0]\n",
      " [3]]\n",
      "\n",
      "matrice C \n",
      " [2 0 3]\n",
      "\n",
      "solve A,B\n",
      "  [[1.00000000e+00]\n",
      " [1.66533454e-16]\n",
      " [1.00000000e+00]]\n",
      "\n",
      "avec arrondi : \n",
      "  [[1.]\n",
      " [0.]\n",
      " [1.]]\n",
      "\n",
      "solve A, C \n",
      " [1.00000000e+00 1.66533454e-16 1.00000000e+00]\n",
      "\n",
      "avec arrondi \n",
      "  [1. 0. 1.]\n"
     ]
    }
   ],
   "source": [
    "A=np.array([[3,1,-1],[-1,-1,1],[2,1,1]])\n",
    "B=np.array([[2],[0],[3]])\n",
    "C=np.array([2,0,3])\n",
    "# à compléter"
   ]
  },
  {
   "cell_type": "markdown",
   "metadata": {},
   "source": [
    "Résoudre l'équation suivante : (Résolution approximative)\n",
    "\\begin{cases}\n",
    "x+2y  &=1 \\\\\n",
    "2x+4y &=0\n",
    "\\end{cases}"
   ]
  },
  {
   "cell_type": "code",
   "execution_count": 25,
   "metadata": {},
   "outputs": [
    {
     "name": "stdout",
     "output_type": "stream",
     "text": [
      "Determinant de A: 0.0\n"
     ]
    }
   ],
   "source": [
    "# à compléter"
   ]
  },
  {
   "cell_type": "markdown",
   "metadata": {},
   "source": [
    "Heureusement, tout n'est pas perdu. On peut, en effet, obtenir une solution approximative, qui va faire en sorte que Ax soit le plus proche possible de b, c'est-à-dire une solution qui va minimiser b−Ax. Pour cela, il suffit d'utiliser la fonction lstsq du module scipy.linalg, à qui on passe en paramètres les matrices A et b, comme ci-dessous :"
   ]
  },
  {
   "cell_type": "code",
   "execution_count": 26,
   "metadata": {},
   "outputs": [
    {
     "name": "stdout",
     "output_type": "stream",
     "text": [
      "Solutions proches :\n",
      "x= 0.04  y= 0.08\n"
     ]
    }
   ],
   "source": [
    "# à compléter"
   ]
  },
  {
   "cell_type": "markdown",
   "metadata": {},
   "source": [
    "Résoudre l'équation suivante : x +y =2\n",
    "\n",
    "On va, en fait, obtenir une des solutions acceptables pour le système :"
   ]
  },
  {
   "cell_type": "code",
   "execution_count": 27,
   "metadata": {},
   "outputs": [
    {
     "name": "stdout",
     "output_type": "stream",
     "text": [
      "Une solution acceptable :\n",
      "[[1.]\n",
      " [1.]]\n"
     ]
    }
   ],
   "source": [
    "# à compléter"
   ]
  },
  {
   "cell_type": "markdown",
   "metadata": {},
   "source": [
    "# Matrices avec sympy"
   ]
  },
  {
   "cell_type": "markdown",
   "metadata": {},
   "source": [
    "On peut aussi utiliser sympy pour travailler avec les matrices.\n",
    "Ceci permet en plus d'utiliser des symboles et de calculer avec des symboles."
   ]
  },
  {
   "cell_type": "markdown",
   "metadata": {},
   "source": [
    "1. Créer les  matices suivantes  puis calculer les déterminants.\n",
    "On pourra utiliser factor pour factoriser les déterminants.\n",
    "\n",
    "$A = \\begin{bmatrix}-1-a & 4 & 2\\\\\n",
    "2& 1-a & -1\\\\\n",
    "-2 & 0 & 2-a\n",
    "\\end{bmatrix}\n",
    "\\;\\;\\;\n",
    "B = \\begin{bmatrix}-1 & 3 & a\\\\\n",
    "-2 & 4 & a\\\\\n",
    "2& -2 & -1\n",
    "\\end{bmatrix}\n",
    "\\;\\;\\;et\\;\\;\\;\\; \n",
    "C = \\begin{bmatrix}1 & 1 & 1\\\\\n",
    "1 & a & a\\\\\n",
    "1& 1 & a\n",
    "\\end{bmatrix}\n",
    "$\n"
   ]
  },
  {
   "cell_type": "code",
   "execution_count": 28,
   "metadata": {},
   "outputs": [],
   "source": [
    "a# à compléter"
   ]
  },
  {
   "cell_type": "code",
   "execution_count": 29,
   "metadata": {},
   "outputs": [
    {
     "data": {
      "text/latex": [
       "$\\displaystyle \\left[\\begin{matrix}- a - 1 & 4 & 2\\\\2 & 1 - a & -1\\\\-2 & 0 & 2 - a\\end{matrix}\\right]$"
      ],
      "text/plain": [
       "Matrix([\n",
       "[-a - 1,     4,     2],\n",
       "[     2, 1 - a,    -1],\n",
       "[    -2,     0, 2 - a]])"
      ]
     },
     "metadata": {},
     "output_type": "display_data"
    },
    {
     "name": "stdout",
     "output_type": "stream",
     "text": [
      "determinant de la matrice  -a**3 + 2*a**2 + 5*a - 6\n",
      "determinant de la matrice  -(a - 3)*(a - 1)*(a + 2)\n"
     ]
    }
   ],
   "source": [
    "# à compléter"
   ]
  },
  {
   "cell_type": "code",
   "execution_count": 30,
   "metadata": {},
   "outputs": [
    {
     "data": {
      "text/latex": [
       "$\\displaystyle \\left[\\begin{matrix}-1 & 3 & a\\\\-2 & 4 & a\\\\2 & -2 & -1\\end{matrix}\\right]$"
      ],
      "text/plain": [
       "Matrix([\n",
       "[-1,  3,  a],\n",
       "[-2,  4,  a],\n",
       "[ 2, -2, -1]])"
      ]
     },
     "metadata": {},
     "output_type": "display_data"
    },
    {
     "name": "stdout",
     "output_type": "stream",
     "text": [
      "determinant de la matrice B  -2\n"
     ]
    }
   ],
   "source": [
    "B=sp.Matrix([[-1,3,a],[-2,4,a],[2,-2,-1]])\n",
    "display(B)\n",
    "da=B.det()\n",
    "print(\"determinant de la matrice B \",da)\n",
    "# à compléter"
   ]
  },
  {
   "cell_type": "code",
   "execution_count": 31,
   "metadata": {},
   "outputs": [
    {
     "data": {
      "text/latex": [
       "$\\displaystyle \\left[\\begin{matrix}1 & 1 & 1\\\\1 & a & a\\\\1 & 1 & a\\end{matrix}\\right]$"
      ],
      "text/plain": [
       "Matrix([\n",
       "[1, 1, 1],\n",
       "[1, a, a],\n",
       "[1, 1, a]])"
      ]
     },
     "metadata": {},
     "output_type": "display_data"
    },
    {
     "name": "stdout",
     "output_type": "stream",
     "text": [
      "determinant de la matrice  a**2 - 2*a + 1\n",
      "determinant de la matrice  (a - 1)**2\n"
     ]
    }
   ],
   "source": [
    "# à compléter"
   ]
  },
  {
   "cell_type": "code",
   "execution_count": 32,
   "metadata": {},
   "outputs": [
    {
     "name": "stdout",
     "output_type": "stream",
     "text": [
      "inverse de C quand c'est possible \n"
     ]
    },
    {
     "data": {
      "text/latex": [
       "$\\displaystyle \\left[\\begin{matrix}\\frac{a}{a - 1} & - \\frac{1}{a - 1} & 0\\\\0 & \\frac{1}{a - 1} & - \\frac{1}{a - 1}\\\\- \\frac{1}{a - 1} & 0 & \\frac{1}{a - 1}\\end{matrix}\\right]$"
      ],
      "text/plain": [
       "Matrix([\n",
       "[ a/(a - 1), -1/(a - 1),          0],\n",
       "[         0,  1/(a - 1), -1/(a - 1)],\n",
       "[-1/(a - 1),          0,  1/(a - 1)]])"
      ]
     },
     "metadata": {},
     "output_type": "display_data"
    }
   ],
   "source": [
    "# à compléter"
   ]
  },
  {
   "cell_type": "markdown",
   "metadata": {},
   "source": [
    "## Résolution de systèmes linéaires"
   ]
  },
  {
   "cell_type": "markdown",
   "metadata": {},
   "source": [
    "- Résoudre le système suivant : (avec une solution)\n",
    "\n",
    "\\begin{cases}\n",
    "2x-3y+z  &=-1 \\\\\n",
    "x-y +2z&=-3\\\\\n",
    "3x+y -z&=9\\\\\n",
    "\\end{cases}\n",
    "\n",
    "\n",
    "Remarque : Avec l’aide de la méthode sp.Matrix().rref() , nous pouvons mettre une matrice sous forme d’échelon de ligne réduit . Matrix().rref() renvoie un tuple de deux éléments. La première est la forme d’échelon de ligne réduite et la seconde est un tuple d’indices des colonnes pivot."
   ]
  },
  {
   "cell_type": "code",
   "execution_count": null,
   "metadata": {},
   "outputs": [],
   "source": []
  },
  {
   "cell_type": "markdown",
   "metadata": {},
   "source": [
    "# Des exercices d'algèbre 2\n",
    "\n",
    "## Exercice A\n",
    "Soit $E$ l'espace vectoriel $\\mathbb{R}^3$ . On considère l'application linéaire $f$ de $E$ dans $E$ dont la matrice dans la base canonique ${\\cal E}$ de $E$ est\n",
    "$$ A = \\left(\\begin{array}{rrr}\n",
    "            1 &0& 2\\\\\n",
    "            0& 1 &0\\\\\n",
    "            2&0 & 1\n",
    "           \\end{array}\\right).\n",
    "$$\n",
    "1. Soit $v$ le vecteur de $E$ de coordonnées $(x, y, z)$ dans la base ${\\cal E}$ . Calculer $f (v)$.\n",
    "2. Calculer le rang de $A$. L'endomorphisme $f$ est-il injectif, surjectif, bijectif?\n",
    "3.  On pose $v_1 = (0, 1, 0)$ , $v_2 = (1, 0,- 1)$ et $v_3 = (1, 0, 1)$. Montrer que ${\\cal V} = (v_1 , v_2 , v_3 )$ est une\n",
    "base de $E$.\n",
    "4.  Calculer $f (v_1 )$ , $f (v_2 )$ et $f (v_3 )$ en fonction des éléments de ${\\cal V}$.\n",
    "5.  Déterminer la matrice $B$ de $f$ dans la base ${\\cal V}$.\n",
    "6.  Ecrire la matrice de passage $P$ de la base ${\\cal E}$ \\`a  la base ${\\cal V}$.\n",
    "7. Calculer $P^{-1}$.\n",
    "8.  Donner la relation qui lie les matrices $A$, $B$, $P$ et $P^{-1}$ . Comment peut -on calculer $A^n$? \n",
    "\n",
    "## Exercice B\n",
    "On considère la matrice $A$ suivante, où $m$ désigne un nombre réel : \n",
    "$$A=\\left(\\begin{array}{ccc}\n",
    "m & (1+m^2) & 2m \\\\\\\\\n",
    "(2-m^2) & m & 1 \\\\\\\\\n",
    "4 & 2m & 4 \n",
    "\\end{array}\n",
    "\\right).$$ \n",
    "\n",
    "1. Montrer que le déterminant de la matrice $A$ est égal à  $2m^2-4$. \n",
    "Pour quelles valeurs du réel $m$, la matrice $A$ est-elle inversible?\n",
    "2. On se place dans le cas où $A$ est inversible. Déterminer la comatrice de $A$ puis la matrice inverse de $A$.\n",
    "3. Soit $f$ l'endomorphisme de $R^3$ dont la matrice associée dans la base canonique de $R^3$ est $A$. Pour quelles valeurs de $m$, l'application $f$ est un isomorphisme de $R^3$ dans $R^3$ ? \n",
    "\n",
    "## Exercice C\n",
    "\n",
    "Pour $m\\in \\mathbb{R}$, on note $A_m = \\begin{pmatrix}\n",
    "3 & 1 & -2 \\\\ 2+m & 2 & -2 \\\\ 4 & 2+m & -3 \\end{pmatrix}$ et $f_m : \\mathbb{R}^3 \\to \\mathbb{R}^3$ l'endomorphisme de $\\mathbb{R}^3$ ayant pour matrice $A_m$ dans la base canonique de $\\mathbb{R}^3$.\n",
    "\n",
    "1. Calculer $\\det(A_{m})$.  \n",
    " Pour quelles valeurs de $m$ a-t-on $f_m$ bijectif ? Injectif ?\n",
    "\n",
    "2. Calculer $\\ker(f_m)$ en distinguant suivant les valeurs de $m$.\n",
    "3. Dans cette question, on s'intéresse à    $A_1$ et $f_1$  (c'est-à-dire qu'on fixe $m=1$ dans la matrice $A_{m}$).\n",
    "\n",
    "a. Calculer $A_1^{-1}$.\n",
    "\n",
    "b. En déduire, pour $(x,y,z)\\in \\mathbb{R}^3$, une expression de $f_1^{-1}(x,y,z)$.\n",
    "\n",
    "\n",
    "4. On fixe maintenant $m=0$ et on note $f=f_0$.\n",
    "\n",
    "a. Donner une base de $\\text{Im}(f)$.\n",
    "\n",
    "b. Montrer que $f$ est la projection sur un sous-espace vectoriel $F$  parallèlement à    un sous-espace vectoriel $G$ (à préciser).\n",
    "\n",
    "c. Donner une base $\\mathcal{B}$ de $\\mathbb{R}^3$ dans laquelle la matrice de $f$ est $D = \\begin{pmatrix} 0 & 0 & 0 \\\\ 0 & 1 & 0 \\\\ 0 & 0 & 1 \\end{pmatrix}.$\n",
    "\n"
   ]
  },
  {
   "cell_type": "markdown",
   "metadata": {},
   "source": [
    "## A l'aide de numpy et sympy,  obtenez un maximum de resultats avec Python !"
   ]
  },
  {
   "cell_type": "code",
   "execution_count": null,
   "metadata": {},
   "outputs": [],
   "source": []
  }
 ],
 "metadata": {
  "kernelspec": {
   "display_name": "Python 3 (ipykernel)",
   "language": "python",
   "name": "python3"
  },
  "language_info": {
   "codemirror_mode": {
    "name": "ipython",
    "version": 3
   },
   "file_extension": ".py",
   "mimetype": "text/x-python",
   "name": "python",
   "nbconvert_exporter": "python",
   "pygments_lexer": "ipython3",
   "version": "3.10.12"
  },
  "latex_envs": {
   "LaTeX_envs_menu_present": false,
   "autoclose": false,
   "autocomplete": false,
   "bibliofile": "biblio.bib",
   "cite_by": "apalike",
   "current_citInitial": 1,
   "eqLabelWithNumbers": false,
   "eqNumInitial": 1,
   "hotkeys": {
    "equation": "Ctrl-E",
    "itemize": "Ctrl-I"
   },
   "labels_anchors": false,
   "latex_user_defs": false,
   "report_style_numbering": false,
   "user_envs_cfg": false
  },
  "toc": {
   "base_numbering": 1,
   "nav_menu": {},
   "number_sections": true,
   "sideBar": true,
   "skip_h1_title": false,
   "title_cell": "Table of Contents",
   "title_sidebar": "Contents",
   "toc_cell": false,
   "toc_position": {
    "height": "calc(100% - 180px)",
    "left": "10px",
    "top": "150px",
    "width": "165px"
   },
   "toc_section_display": true,
   "toc_window_display": true
  }
 },
 "nbformat": 4,
 "nbformat_minor": 2
}
