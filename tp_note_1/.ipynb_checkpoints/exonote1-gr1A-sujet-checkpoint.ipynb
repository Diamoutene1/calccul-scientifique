{
 "cells": [
  {
   "cell_type": "markdown",
   "metadata": {},
   "source": [
    "# Exercice   Noté 1 -- groupe 1A -- 14 février 2024"
   ]
  },
  {
   "cell_type": "markdown",
   "metadata": {},
   "source": [
    "Double-cliquez sur la cellule pour indiquer votre nom  et prénom.\n",
    "\n",
    "A la fin du temps vous devez rendre le fichier ipynb (sans zip ou dossier). Le nom du fichier doit porter votre nom  et prénom.\n",
    "\n",
    "\n",
    "**Nom :DIAMOUTENE \n",
    "**Prénom:ZANA"
   ]
  },
  {
   "cell_type": "markdown",
   "metadata": {},
   "source": [
    "Pour tout ce TP, il n'y a aucune boucle à écrire"
   ]
  },
  {
   "cell_type": "markdown",
   "metadata": {},
   "source": [
    "## Question 1 :  sympy "
   ]
  },
  {
   "cell_type": "markdown",
   "metadata": {},
   "source": [
    "<hr/>\n",
    "Résoudre le système suivant:\n",
    "\n",
    "$$\n",
    "\\begin{cases}\n",
    "\\begin{matrix} \n",
    "2x & + y & -z & =-5 \\\\ \n",
    "-x& +4y & -7z & =4 \\\\ \n",
    "3x & +5y & +3z & =4\n",
    "\\end{matrix}\n",
    "\\end{cases}\n",
    "$$ \n",
    "\n",
    "\n"
   ]
  },
  {
   "cell_type": "code",
   "execution_count": 3,
   "metadata": {},
   "outputs": [
    {
     "data": {
      "text/plain": [
       "{x: -3, y: 2, z: 1}"
      ]
     },
     "metadata": {},
     "output_type": "display_data"
    }
   ],
   "source": [
    "import sympy as sp\n",
    "x,y,z=sp.symbols('x,y,z')\n",
    "eq1=sp.Eq(2*x+y-z,-5)\n",
    "eq2=sp.Eq(-x+4*y-7*z,4)\n",
    "eq3=sp.Eq(3*x+5*y+3*z,4)\n",
    "\n",
    "sol=sp.solve((eq1,eq2,eq3),(x,y,z))\n",
    "display(sol)\n",
    "\n",
    "\n",
    "#à compléter"
   ]
  },
  {
   "cell_type": "markdown",
   "metadata": {},
   "source": [
    "## Question 2 -- numpy"
   ]
  },
  {
   "cell_type": "code",
   "execution_count": 10,
   "metadata": {},
   "outputs": [],
   "source": [
    "import numpy as np"
   ]
  },
  {
   "cell_type": "code",
   "execution_count": 11,
   "metadata": {},
   "outputs": [],
   "source": [
    "image=[[ 82,  21,  59, 206,  43,  93, 237,  80,  44,  52, 253, 133],\n",
    "       [160, 186,  35, 209, 145, 232, 224,  56,  32, 119,  40,  86],\n",
    "       [ 16,  21, 156,  34, 231,  85,  68, 113,   9, 146, 186,  96],\n",
    "       [ 82, 129, 127, 157,  85, 235,  62, 107,  16, 148, 190, 127],\n",
    "       [116,  16, 113, 137, 125, 102, 142,  90, 164, 216, 212, 127],\n",
    "       [107, 157, 104, 243,  13, 152, 193, 211,  56,  44,  35, 194],\n",
    "       [107, 159,  41, 206, 141,  59, 118,   6,  91, 192,  55,  52],\n",
    "       [ 39, 238, 104, 226, 201,  49,   2,  17, 241, 171, 134,   6],\n",
    "       [116, 211, 203,  18, 198, 132, 170, 201, 166, 135, 221, 252],\n",
    "       [ 56,  39,   9,  47,  52, 179,  38, 165,  49,  18,  34, 170],\n",
    "       [ 66, 218, 152, 160, 196, 123, 180, 179, 234, 166, 186, 236],\n",
    "       [ 32,  16, 136, 221, 122, 143,  59,  71,  77, 111, 247, 123],\n",
    "       [ 18,  65,   6, 202, 178,  74, 119, 168,  93, 117, 136,  31],\n",
    "       [  2, 230, 163,  66, 238,  29, 225, 224,  41, 201,  83,   0],\n",
    "       [172, 153, 130, 220,   2, 190, 134,  51, 148, 241,  80, 200],\n",
    "       [170, 236, 112, 150, 139,   9, 175, 166, 164, 129, 194, 106],\n",
    "       [156, 215, 149,  58,  56,  15, 162, 190,   7,  92, 244, 224],\n",
    "       [ 58, 172, 124, 222, 100,  59,  17, 125, 231, 162, 132,   9]]\n"
   ]
  },
  {
   "cell_type": "markdown",
   "metadata": {},
   "source": [
    "On considère la liste de listes nommée image qui est une grille à 18 lignes et 12 colonnes contenant des entiers entre 0 et 255 compris.\n",
    "\n",
    "\n",
    "A. Créer un tableau numpy à partir de image puis écrire les instructions pour:\n",
    "\n",
    "\n",
    "1) afficher la somme et la moyenne de toutes les valeurs\n",
    "\n",
    "2) afficher les sommes par ligne\n",
    "\n",
    "3) afficher les moyennes par colonne"
   ]
  },
  {
   "cell_type": "code",
   "execution_count": 12,
   "metadata": {},
   "outputs": [
    {
     "data": {
      "text/plain": [
       "26669"
      ]
     },
     "metadata": {},
     "output_type": "display_data"
    },
    {
     "data": {
      "text/plain": [
       "array([1303, 1524, 1161, 1465, 1560, 1509, 1227, 1428, 2023,  856, 2096,\n",
       "       1358, 1207, 1502, 1721, 1750, 1568, 1411])"
      ]
     },
     "metadata": {},
     "output_type": "display_data"
    },
    {
     "data": {
      "text/plain": [
       "array([1555, 2482, 1923, 2782, 2265, 1960, 2325, 2220, 1863, 2460, 2662,\n",
       "       2172])"
      ]
     },
     "metadata": {},
     "output_type": "display_data"
    }
   ],
   "source": [
    "#à compléter\n",
    "somme=np.sum(image)\n",
    "display(somme)\n",
    "somme2=np.sum(image,axis=1)\n",
    "display(somme2)\n",
    "somme3=np.sum(image,axis=0)\n",
    "display(somme3)"
   ]
  },
  {
   "cell_type": "markdown",
   "metadata": {},
   "source": [
    "B. Calculer et afficher le nombre de valeurs inférieures à 100 dans le tableau"
   ]
  },
  {
   "cell_type": "code",
   "execution_count": 13,
   "metadata": {},
   "outputs": [
    {
     "ename": "TypeError",
     "evalue": "'>' not supported between instances of 'list' and 'int'",
     "output_type": "error",
     "traceback": [
      "\u001b[0;31m---------------------------------------------------------------------------\u001b[0m",
      "\u001b[0;31mTypeError\u001b[0m                                 Traceback (most recent call last)",
      "\u001b[0;32m/tmp/ipykernel_38619/2342501906.py\u001b[0m in \u001b[0;36m<module>\u001b[0;34m\u001b[0m\n\u001b[1;32m      1\u001b[0m \u001b[0;31m#à compléter\u001b[0m\u001b[0;34m\u001b[0m\u001b[0;34m\u001b[0m\u001b[0m\n\u001b[0;32m----> 2\u001b[0;31m \u001b[0minf\u001b[0m\u001b[0;34m=\u001b[0m\u001b[0mimage\u001b[0m\u001b[0;34m>\u001b[0m\u001b[0;36m100\u001b[0m\u001b[0;34m\u001b[0m\u001b[0;34m\u001b[0m\u001b[0m\n\u001b[0m\u001b[1;32m      3\u001b[0m \u001b[0msomme4\u001b[0m\u001b[0;34m=\u001b[0m\u001b[0mnp\u001b[0m\u001b[0;34m.\u001b[0m\u001b[0msum\u001b[0m\u001b[0;34m(\u001b[0m\u001b[0minf\u001b[0m\u001b[0;34m)\u001b[0m\u001b[0;34m\u001b[0m\u001b[0;34m\u001b[0m\u001b[0m\n",
      "\u001b[0;31mTypeError\u001b[0m: '>' not supported between instances of 'list' and 'int'"
     ]
    }
   ],
   "source": [
    "#à compléter\n",
    "inf=image>100\n",
    "somme4=np.sum(inf)"
   ]
  },
  {
   "cell_type": "markdown",
   "metadata": {},
   "source": [
    "C) Ecrire une instruction pour tester s'il y a des chiffres 0 situés sur une colonne de numero impair de la dernière ligne"
   ]
  },
  {
   "cell_type": "code",
   "execution_count": 6,
   "metadata": {},
   "outputs": [
    {
     "name": "stdout",
     "output_type": "stream",
     "text": [
      "False\n"
     ]
    }
   ],
   "source": [
    "#à compléter"
   ]
  },
  {
   "cell_type": "markdown",
   "metadata": {},
   "source": [
    "D. Remplacer toutes les valeurs supérieures strictement à 75 par 255 et par 0 toutes celles inférieures ou égales à 75"
   ]
  },
  {
   "cell_type": "code",
   "execution_count": 7,
   "metadata": {},
   "outputs": [
    {
     "name": "stdout",
     "output_type": "stream",
     "text": [
      "[[255   0   0 255   0 255 255 255   0   0 255 255]\n",
      " [255 255   0 255 255 255 255   0   0 255   0 255]\n",
      " [  0   0 255   0 255 255   0 255   0 255 255 255]\n",
      " [255 255 255 255 255 255   0 255   0 255 255 255]\n",
      " [255   0 255 255 255 255 255 255 255 255 255 255]\n",
      " [255 255 255 255   0 255 255 255   0   0   0 255]\n",
      " [255 255   0 255 255   0 255   0 255 255   0   0]\n",
      " [  0 255 255 255 255   0   0   0 255 255 255   0]\n",
      " [255 255 255   0 255 255 255 255 255 255 255 255]\n",
      " [  0   0   0   0   0 255   0 255   0   0   0 255]\n",
      " [  0 255 255 255 255 255 255 255 255 255 255 255]\n",
      " [  0   0 255 255 255 255   0   0 255 255 255 255]\n",
      " [  0   0   0 255 255   0 255 255 255 255 255   0]\n",
      " [  0 255 255   0 255   0 255 255   0 255 255   0]\n",
      " [255 255 255 255   0 255 255   0 255 255 255 255]\n",
      " [255 255 255 255 255   0 255 255 255 255 255 255]\n",
      " [255 255 255   0   0   0 255 255   0 255 255 255]\n",
      " [  0 255 255 255 255   0   0 255 255 255 255   0]]\n"
     ]
    }
   ],
   "source": [
    "#à compléter"
   ]
  },
  {
   "cell_type": "markdown",
   "metadata": {},
   "source": [
    "## Question 3 - sympy \n"
   ]
  },
  {
   "cell_type": "code",
   "execution_count": 28,
   "metadata": {},
   "outputs": [],
   "source": [
    "import sympy as sp"
   ]
  },
  {
   "cell_type": "markdown",
   "metadata": {},
   "source": [
    "<hr/>\n",
    "1) Soit $k$ un réel; on considère les deux fonctions $$f_{k}(x)= -1.4(x^3 + 3x^2 - 7x + k)$$    et $$g(x)= \\frac{\\sin(x)-x}{x}+1.5$$ \n",
    "\n",
    "\n",
    "Définir à l'aide de sympy les deux expressions littérales correspondantes (on pourra utiliser la fonction sin de sympy)"
   ]
  },
  {
   "cell_type": "code",
   "execution_count": 29,
   "metadata": {},
   "outputs": [
    {
     "name": "stderr",
     "output_type": "stream",
     "text": [
      "<>:3: SyntaxWarning: 'int' object is not callable; perhaps you missed a comma?\n",
      "<>:3: SyntaxWarning: 'int' object is not callable; perhaps you missed a comma?\n",
      "/tmp/ipykernel_38619/600625835.py:3: SyntaxWarning: 'int' object is not callable; perhaps you missed a comma?\n",
      "  f=(-14(x**3+3*x**2-7*x+k))\n"
     ]
    },
    {
     "ename": "TypeError",
     "evalue": "'int' object is not callable",
     "output_type": "error",
     "traceback": [
      "\u001b[0;31m---------------------------------------------------------------------------\u001b[0m",
      "\u001b[0;31mTypeError\u001b[0m                                 Traceback (most recent call last)",
      "\u001b[0;32m/tmp/ipykernel_38619/600625835.py\u001b[0m in \u001b[0;36m<module>\u001b[0;34m\u001b[0m\n\u001b[1;32m      1\u001b[0m \u001b[0;31m#à compléter\u001b[0m\u001b[0;34m\u001b[0m\u001b[0;34m\u001b[0m\u001b[0m\n\u001b[1;32m      2\u001b[0m \u001b[0mx\u001b[0m\u001b[0;34m,\u001b[0m\u001b[0mk\u001b[0m\u001b[0;34m=\u001b[0m\u001b[0msp\u001b[0m\u001b[0;34m.\u001b[0m\u001b[0msymbols\u001b[0m\u001b[0;34m(\u001b[0m\u001b[0;34m\"x,k\"\u001b[0m\u001b[0;34m)\u001b[0m\u001b[0;34m\u001b[0m\u001b[0;34m\u001b[0m\u001b[0m\n\u001b[0;32m----> 3\u001b[0;31m \u001b[0mf\u001b[0m\u001b[0;34m=\u001b[0m\u001b[0;34m(\u001b[0m\u001b[0;34m-\u001b[0m\u001b[0;36m14\u001b[0m\u001b[0;34m(\u001b[0m\u001b[0mx\u001b[0m\u001b[0;34m**\u001b[0m\u001b[0;36m3\u001b[0m\u001b[0;34m+\u001b[0m\u001b[0;36m3\u001b[0m\u001b[0;34m*\u001b[0m\u001b[0mx\u001b[0m\u001b[0;34m**\u001b[0m\u001b[0;36m2\u001b[0m\u001b[0;34m-\u001b[0m\u001b[0;36m7\u001b[0m\u001b[0;34m*\u001b[0m\u001b[0mx\u001b[0m\u001b[0;34m+\u001b[0m\u001b[0mk\u001b[0m\u001b[0;34m)\u001b[0m\u001b[0;34m)\u001b[0m\u001b[0;34m\u001b[0m\u001b[0;34m\u001b[0m\u001b[0m\n\u001b[0m\u001b[1;32m      4\u001b[0m \u001b[0mdisplay\u001b[0m\u001b[0;34m(\u001b[0m\u001b[0mf\u001b[0m\u001b[0;34m)\u001b[0m\u001b[0;34m\u001b[0m\u001b[0;34m\u001b[0m\u001b[0m\n\u001b[1;32m      5\u001b[0m \u001b[0mg\u001b[0m\u001b[0;34m=\u001b[0m\u001b[0;34m(\u001b[0m\u001b[0msp\u001b[0m\u001b[0;34m.\u001b[0m\u001b[0msin\u001b[0m\u001b[0;34m(\u001b[0m\u001b[0mx\u001b[0m\u001b[0;34m)\u001b[0m\u001b[0;34m/\u001b[0m\u001b[0mx\u001b[0m\u001b[0;34m+\u001b[0m\u001b[0;36m1.5\u001b[0m\u001b[0;34m)\u001b[0m\u001b[0;34m\u001b[0m\u001b[0;34m\u001b[0m\u001b[0m\n",
      "\u001b[0;31mTypeError\u001b[0m: 'int' object is not callable"
     ]
    }
   ],
   "source": [
    "#à compléter\n",
    "x,k=sp.symbols(\"x,k\")\n",
    "f = -1.4 * (x**3 + 3*x**2 - 7*x + k\n",
    "display(f)\n",
    "g = (sp.sin(x)/x + 1.5)\n",
    "display(g)"
   ]
  },
  {
   "cell_type": "markdown",
   "metadata": {},
   "source": [
    "<hr/>\n",
    "2) Calculer la dérivée de fk par rapport à x.\n",
    "Determiner les zéros de la dérivée."
   ]
  },
  {
   "cell_type": "code",
   "execution_count": 26,
   "metadata": {},
   "outputs": [
    {
     "ename": "NameError",
     "evalue": "name 'f' is not defined",
     "output_type": "error",
     "traceback": [
      "\u001b[0;31m---------------------------------------------------------------------------\u001b[0m",
      "\u001b[0;31mNameError\u001b[0m                                 Traceback (most recent call last)",
      "\u001b[0;32m/tmp/ipykernel_38619/3637940897.py\u001b[0m in \u001b[0;36m<module>\u001b[0;34m\u001b[0m\n\u001b[1;32m      1\u001b[0m \u001b[0;31m#à compléter\u001b[0m\u001b[0;34m\u001b[0m\u001b[0;34m\u001b[0m\u001b[0m\n\u001b[1;32m      2\u001b[0m \u001b[0mx\u001b[0m\u001b[0;34m=\u001b[0m\u001b[0msp\u001b[0m\u001b[0;34m.\u001b[0m\u001b[0msymbols\u001b[0m\u001b[0;34m(\u001b[0m\u001b[0;34m'x'\u001b[0m\u001b[0;34m)\u001b[0m\u001b[0;34m\u001b[0m\u001b[0;34m\u001b[0m\u001b[0m\n\u001b[0;32m----> 3\u001b[0;31m \u001b[0mder\u001b[0m\u001b[0;34m=\u001b[0m\u001b[0msp\u001b[0m\u001b[0;34m.\u001b[0m\u001b[0mdiff\u001b[0m\u001b[0;34m(\u001b[0m\u001b[0mf\u001b[0m\u001b[0;34m,\u001b[0m\u001b[0mk\u001b[0m\u001b[0;34m)\u001b[0m\u001b[0;34m\u001b[0m\u001b[0;34m\u001b[0m\u001b[0m\n\u001b[0m\u001b[1;32m      4\u001b[0m \u001b[0mdisplay\u001b[0m\u001b[0;34m(\u001b[0m\u001b[0mf\u001b[0m\u001b[0;34m)\u001b[0m\u001b[0;34m\u001b[0m\u001b[0;34m\u001b[0m\u001b[0m\n",
      "\u001b[0;31mNameError\u001b[0m: name 'f' is not defined"
     ]
    }
   ],
   "source": [
    "#à compléter\n",
    "x=sp.symbols('x')\n",
    "der=sp.diff(f,k)\n",
    "display(f)\n"
   ]
  },
  {
   "cell_type": "markdown",
   "metadata": {},
   "source": [
    "<hr/> \n",
    "3) On s'intéresse à $f=f_{0.8}$ (c'est à dire qu'on fixe k=0.8)\n",
    "\n",
    "Tracer avec `sympy`, pour $x\\in[0,1.5]$,  le graphe des fonctions $f$ et $g$ , sur le même graphique et avec légende comme ci-dessous."
   ]
  },
  {
   "cell_type": "code",
   "execution_count": 11,
   "metadata": {},
   "outputs": [
    {
     "name": "stdout",
     "output_type": "stream",
     "text": [
      "f\n"
     ]
    },
    {
     "data": {
      "text/latex": [
       "$\\displaystyle - 1.4 x^{3} - 4.2 x^{2} + 9.8 x - 1.12$"
      ],
      "text/plain": [
       "-1.4*x**3 - 4.2*x**2 + 9.8*x - 1.12"
      ]
     },
     "metadata": {},
     "output_type": "display_data"
    },
    {
     "data": {
      "image/png": "[encoded data removed]",
      "text/plain": [
       "<Figure size 640x480 with 1 Axes>"
      ]
     },
     "metadata": {},
     "output_type": "display_data"
    }
   ],
   "source": [
    "#à compléter"
   ]
  },
  {
   "cell_type": "markdown",
   "metadata": {},
   "source": [
    "<hr/>\n",
    "4) Calculer et afficher l'aire délimité par la courbe représentative de f et l'axe des abscisses entre 0.4 et 1.2"
   ]
  },
  {
   "cell_type": "code",
   "execution_count": 12,
   "metadata": {},
   "outputs": [
    {
     "name": "stdout",
     "output_type": "stream",
     "text": [
      "Aire de la zone délimitée par f et l'axe des abscisses entre 0.4 et 1.2 : 2.32960000000000\n"
     ]
    }
   ],
   "source": [
    "#à compléter"
   ]
  }
 ],
 "metadata": {
  "kernelspec": {
   "display_name": "Python 3 (ipykernel)",
   "language": "python",
   "name": "python3"
  },
  "language_info": {
   "codemirror_mode": {
    "name": "ipython",
    "version": 3
   },
   "file_extension": ".py",
   "mimetype": "text/x-python",
   "name": "python",
   "nbconvert_exporter": "python",
   "pygments_lexer": "ipython3",
   "version": "3.10.12"
  },
  "latex_envs": {
   "LaTeX_envs_menu_present": false,
   "autoclose": false,
   "autocomplete": false,
   "bibliofile": "biblio.bib",
   "cite_by": "apalike",
   "current_citInitial": 1,
   "eqLabelWithNumbers": false,
   "eqNumInitial": 1,
   "hotkeys": {
    "equation": "Ctrl-E",
    "itemize": "Ctrl-I"
   },
   "labels_anchors": false,
   "latex_user_defs": false,
   "report_style_numbering": false,
   "user_envs_cfg": false
  },
  "toc": {
   "base_numbering": 1,
   "nav_menu": {},
   "number_sections": true,
   "sideBar": true,
   "skip_h1_title": false,
   "title_cell": "Table of Contents",
   "title_sidebar": "Contents",
   "toc_cell": false,
   "toc_position": {},
   "toc_section_display": true,
   "toc_window_display": false
  },
  "vscode": {
   "interpreter": {
    "hash": "a2f5a4e5cb9685a704f3797f6942b9eb6ca9983296f40a6a598da917a934f46a"
   }
  }
 },
 "nbformat": 4,
 "nbformat_minor": 2
}
