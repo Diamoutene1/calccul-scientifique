{
 "cells": [
  {
   "cell_type": "markdown",
   "metadata": {},
   "source": [
    " # Calcul scientifique -- TP4 -- numpy"
   ]
  },
  {
   "cell_type": "markdown",
   "metadata": {},
   "source": [
    "**Nom :** Diamoutene   \n",
    "**Prénom:** zana"
   ]
  },
  {
   "cell_type": "markdown",
   "metadata": {},
   "source": [
    "Ce TP reprend la fin du TP3 mais propose une suite (qui n'est pas une option!). Comme au TP3, il n'y a pas de boucles à écrire.\n",
    "\n",
    "**Attention: exercice noté à la fin du TP5 (sur sympy et numpy, contenus des TP 1,2,3 et 4).**\n"
   ]
  },
  {
   "cell_type": "markdown",
   "metadata": {},
   "source": [
    "Pour commencer, on importe la librairie  `numpy`"
   ]
  },
  {
   "cell_type": "code",
   "execution_count": 1,
   "metadata": {},
   "outputs": [],
   "source": [
    "import numpy as np"
   ]
  },
  {
   "cell_type": "markdown",
   "metadata": {},
   "source": [
    "### 1) Utilisation des index "
   ]
  },
  {
   "cell_type": "markdown",
   "metadata": {},
   "source": [
    "Creer un tableau nommé tab à une dimension de taille 19 avec des valeurs aléatoires puis l'afficher.\n",
    "Ensuite , afficher les valeurs  dont les **indices** sont pairs  (attention, les indices pas les valeurs). L'instruction doit être valable pour n'importe quel tableau à 1 dimension, quel que soit le nombre de valeurs.\n",
    "\n",
    "Pour comparer les méthodes, afficher les valeurs paires du tableau"
   ]
  },
  {
   "cell_type": "code",
   "execution_count": 1,
   "metadata": {},
   "outputs": [
    {
     "name": "stdout",
     "output_type": "stream",
     "text": [
      "[4 6 6 8 4 3 1 2 7 6 2 8 2 6 8 1 4 4 4]\n",
      "[4 6 4 1 7 2 2 8 4 4]\n",
      "[ True  True  True  True  True False False  True False  True  True  True\n",
      "  True  True  True False  True  True  True]\n"
     ]
    }
   ],
   "source": [
    "# A compléter ...\n",
    "import numpy as np\n",
    "tab=np.random.randint(1,9,19)\n",
    "print(tab)\n",
    "pairs=tab[::2]\n",
    "print(pairs)\n",
    "inpairs=tab[1::2]\n",
    "pairss= tab%2==0\n",
    "print(pairss)\n"
   ]
  },
  {
   "cell_type": "markdown",
   "metadata": {},
   "source": [
    "Afficher la somme des valeurs de tab dont les **indices** sont pairs puis la somme des éléments qui sont à des places multiples de 3 plus 1 (index: 1, 4, 7 etc...)"
   ]
  },
  {
   "cell_type": "code",
   "execution_count": 2,
   "metadata": {},
   "outputs": [
    {
     "name": "stdout",
     "output_type": "stream",
     "text": [
      "val indices pairs : 42\n",
      "val indices 1,4,7 etc : 26\n"
     ]
    }
   ],
   "source": [
    "# A compléter ...\n",
    "s1 = np.sum(tab[::2])\n",
    "print('val indices pairs :',s1)\n",
    "s2=np.sum(tab[::3])\n",
    "print('val indices 1,4,7 etc :',s2)"
   ]
  },
  {
   "cell_type": "markdown",
   "metadata": {},
   "source": [
    "### 2) Modifications dans un tableau à 2D\n",
    "Créer un tableau `a` de taille 8x8 (8 lignes et 8 colonnes) rempli de valeurs aléatoires entières de 1 à 9 inclus. \n",
    "\n",
    "**Pour toutes les questions suivantes, nous travaillerons avec un tableau de taille 8x8  mais vos instructions devraient fonctionner pour un tableau de taille quelconque**\n",
    "\n",
    "On fera un nouveau tableau par question pour mieux observer les résultats produits.\n",
    "\n",
    "\n",
    "\n",
    "Au moyen du sélecteur approprié, remplacer toutes les valeurs du tableau par la valeur 0. Attention le nombre de lignes / colonnes doit être conservé. Afficher le résultat.\n",
    "On doit remplacer les valeurs, pas créer un nouveau tableau.\n"
   ]
  },
  {
   "cell_type": "code",
   "execution_count": 3,
   "metadata": {
    "scrolled": true
   },
   "outputs": [
    {
     "name": "stdout",
     "output_type": "stream",
     "text": [
      "[[7 4 2 4 7 3 9 8]\n",
      " [2 2 5 7 9 4 1 3]\n",
      " [4 8 5 4 6 7 3 5]\n",
      " [3 4 1 4 2 9 3 3]\n",
      " [8 6 4 5 6 7 1 2]\n",
      " [3 9 5 7 3 8 8 3]\n",
      " [4 9 8 8 7 4 2 1]\n",
      " [6 9 2 9 2 9 6 1]]\n",
      "\n",
      "résultat après modifications\n",
      " [[0 0 0 0 0 0 0 0]\n",
      " [0 0 0 0 0 0 0 0]\n",
      " [0 0 0 0 0 0 0 0]\n",
      " [0 0 0 0 0 0 0 0]\n",
      " [0 0 0 0 0 0 0 0]\n",
      " [0 0 0 0 0 0 0 0]\n",
      " [0 0 0 0 0 0 0 0]\n",
      " [0 0 0 0 0 0 0 0]]\n"
     ]
    }
   ],
   "source": [
    "# A compléter ...\n",
    "a=np.random.randint(1,10,(8,8))\n",
    "\n",
    "print(a)\n",
    "\n",
    "\n",
    "# A compléter ...\n",
    "a[:,:]=0\n",
    "print(\"\\nrésultat après modifications\\n\",a)"
   ]
  },
  {
   "cell_type": "markdown",
   "metadata": {},
   "source": [
    "Créer un tableau `a` de taille  8x8 (8 lignes et 8 colonnes) rempli de valeurs aléatoires entières de 1 à 9 inclus,  puis mettre la première ligne du tableau à 0. \n"
   ]
  },
  {
   "cell_type": "code",
   "execution_count": 4,
   "metadata": {},
   "outputs": [
    {
     "name": "stdout",
     "output_type": "stream",
     "text": [
      "[[2 5 7 4 5 3 1 8]\n",
      " [3 7 2 2 3 3 6 4]\n",
      " [1 7 2 4 6 1 6 7]\n",
      " [1 2 6 7 3 3 3 4]\n",
      " [7 2 2 4 6 3 5 7]\n",
      " [1 9 8 6 7 1 4 2]\n",
      " [1 4 8 7 8 6 4 5]\n",
      " [8 8 3 4 8 5 2 5]]\n",
      "[[0 0 0 0 0 0 0 0]\n",
      " [3 7 2 2 3 3 6 4]\n",
      " [1 7 2 4 6 1 6 7]\n",
      " [1 2 6 7 3 3 3 4]\n",
      " [7 2 2 4 6 3 5 7]\n",
      " [1 9 8 6 7 1 4 2]\n",
      " [1 4 8 7 8 6 4 5]\n",
      " [8 8 3 4 8 5 2 5]]\n"
     ]
    }
   ],
   "source": [
    "# A compléter ...\n",
    "a=np.random.randint(1,10,size=(8,8))\n",
    "print(a)\n",
    "a[0, :] = 0\n",
    "print(a)\n"
   ]
  },
  {
   "cell_type": "markdown",
   "metadata": {},
   "source": [
    "Créer un tableau `a` de taille  8x8 (8 lignes et 8 colonnes) rempli de valeurs aléatoires entières de 1 à 9 inclus puis mettre la colonne numéro 2 du tableau à 0. \n"
   ]
  },
  {
   "cell_type": "code",
   "execution_count": 5,
   "metadata": {},
   "outputs": [
    {
     "name": "stdout",
     "output_type": "stream",
     "text": [
      "[[6 3 5 6 3 2 6 6]\n",
      " [1 4 6 1 1 5 6 6]\n",
      " [1 9 9 6 3 6 4 9]\n",
      " [6 2 3 4 2 8 4 5]\n",
      " [2 1 2 4 9 2 8 3]\n",
      " [2 8 3 1 9 4 7 6]\n",
      " [7 1 7 6 2 7 8 3]\n",
      " [3 1 1 9 1 9 4 7]]\n",
      "[[6 3 0 6 3 2 6 6]\n",
      " [1 4 0 1 1 5 6 6]\n",
      " [1 9 0 6 3 6 4 9]\n",
      " [6 2 0 4 2 8 4 5]\n",
      " [2 1 0 4 9 2 8 3]\n",
      " [2 8 0 1 9 4 7 6]\n",
      " [7 1 0 6 2 7 8 3]\n",
      " [3 1 0 9 1 9 4 7]]\n"
     ]
    }
   ],
   "source": [
    "# A compléter ...\n",
    "a=np.random.randint(1,10,size=(8,8))\n",
    "print(a)\n",
    "a[:,2]=0\n",
    "print(a)"
   ]
  },
  {
   "cell_type": "markdown",
   "metadata": {},
   "source": [
    "Créer un tableau `a` de taille  8x8 (8 lignes et 8 colonnes) rempli de valeurs aléatoires entières de 1 à 9 inclus,  puis mettre la première et la dernière colonne à 0 (en une seule instruction)"
   ]
  },
  {
   "cell_type": "code",
   "execution_count": 6,
   "metadata": {},
   "outputs": [
    {
     "name": "stdout",
     "output_type": "stream",
     "text": [
      "[[5 9 2 1 7 3 8 4]\n",
      " [5 4 5 8 7 9 9 3]\n",
      " [2 6 7 3 3 1 6 8]\n",
      " [6 3 9 1 3 5 4 2]\n",
      " [2 5 4 2 3 9 3 2]\n",
      " [7 9 6 3 3 6 5 1]\n",
      " [2 1 1 3 8 8 9 6]\n",
      " [9 3 1 8 5 6 5 9]]\n",
      "[[0 9 2 1 7 3 8 0]\n",
      " [0 4 5 8 7 9 9 0]\n",
      " [0 6 7 3 3 1 6 0]\n",
      " [0 3 9 1 3 5 4 0]\n",
      " [0 5 4 2 3 9 3 0]\n",
      " [0 9 6 3 3 6 5 0]\n",
      " [0 1 1 3 8 8 9 0]\n",
      " [0 3 1 8 5 6 5 0]]\n"
     ]
    }
   ],
   "source": [
    "# A compléter ...\n",
    "a=np.random.randint(1,10,size=(8,8))\n",
    "print(a)\n",
    "a[:,[0,7]]=0\n",
    "print(a)"
   ]
  },
  {
   "cell_type": "markdown",
   "metadata": {},
   "source": [
    "Créer un tableau `a`de taille  8x8 (8 lignes et 8 colonnes) rempli de valeurs aléatoires entières de 1 à 9 inclus puis mettre les 9 cases de la partie supérieure gauche du tableau à 0 en une seule instruction. \n"
   ]
  },
  {
   "cell_type": "code",
   "execution_count": 7,
   "metadata": {},
   "outputs": [
    {
     "name": "stdout",
     "output_type": "stream",
     "text": [
      "[[2 2 8 2 4 5 6 8]\n",
      " [3 4 1 2 7 6 7 6]\n",
      " [4 6 9 2 8 2 6 2]\n",
      " [5 6 3 4 3 8 8 4]\n",
      " [9 3 3 8 4 7 3 3]\n",
      " [5 2 8 9 7 7 7 8]\n",
      " [6 5 1 2 1 9 3 4]\n",
      " [3 3 7 9 6 9 4 9]]\n",
      "[[0 0 0 0 4 5 6 8]\n",
      " [0 0 0 0 7 6 7 6]\n",
      " [0 0 0 0 8 2 6 2]\n",
      " [0 0 0 0 3 8 8 4]\n",
      " [9 3 3 8 4 7 3 3]\n",
      " [5 2 8 9 7 7 7 8]\n",
      " [6 5 1 2 1 9 3 4]\n",
      " [3 3 7 9 6 9 4 9]]\n"
     ]
    }
   ],
   "source": [
    "\n",
    "a=np.random.randint(1,10,size=(8,8))\n",
    "print(a)\n",
    "a[:4,:4]=0\n",
    "print(a)"
   ]
  },
  {
   "cell_type": "markdown",
   "metadata": {},
   "source": [
    "Créer un tableau `a` de taille  8x8 (8 lignes et 8 colonnes) rempli de valeurs aléatoires entières de 1 à 9 inclus puis mettre  les cases qui sont sur des lignes **et** des colonnes paires à 0."
   ]
  },
  {
   "cell_type": "code",
   "execution_count": 8,
   "metadata": {
    "scrolled": true
   },
   "outputs": [
    {
     "name": "stdout",
     "output_type": "stream",
     "text": [
      "[[8 4 3 6 2 5 2 5]\n",
      " [4 1 4 9 2 9 5 9]\n",
      " [7 3 7 4 6 2 7 2]\n",
      " [4 5 1 4 2 3 1 5]\n",
      " [5 8 9 5 6 8 5 9]\n",
      " [8 6 1 5 7 8 8 4]\n",
      " [5 4 5 5 3 1 6 2]\n",
      " [5 5 5 4 5 7 2 2]]\n",
      "[[0 4 0 6 0 5 0 5]\n",
      " [4 1 4 9 2 9 5 9]\n",
      " [0 3 0 4 0 2 0 2]\n",
      " [4 5 1 4 2 3 1 5]\n",
      " [0 8 0 5 0 8 0 9]\n",
      " [8 6 1 5 7 8 8 4]\n",
      " [0 4 0 5 0 1 0 2]\n",
      " [5 5 5 4 5 7 2 2]]\n"
     ]
    }
   ],
   "source": [
    "# A compléter ...\n",
    "a=np.random.randint(1,10,size=(8,8))\n",
    "print(a)\n",
    "a[::2,::2]=0\n",
    "print(a)"
   ]
  },
  {
   "cell_type": "markdown",
   "metadata": {},
   "source": [
    "Créer un tableau `a` de taille  8x8 (8 lignes et 8 colonnes) rempli de valeurs aléatoires entières de 1 à 9 inclus puis mettre les cases $[1,3]$ et $[3,2]$ à 0 (en une seule instruction). "
   ]
  },
  {
   "cell_type": "code",
   "execution_count": 9,
   "metadata": {
    "scrolled": false
   },
   "outputs": [
    {
     "name": "stdout",
     "output_type": "stream",
     "text": [
      "[[5 9 1 4 8 9 7 9]\n",
      " [5 5 2 1 8 2 8 4]\n",
      " [8 7 9 1 6 5 5 2]\n",
      " [3 2 3 9 1 6 1 4]\n",
      " [9 5 5 4 4 1 6 5]\n",
      " [2 8 3 6 7 5 9 7]\n",
      " [7 3 2 6 9 5 9 2]\n",
      " [8 9 9 3 9 2 8 7]]\n",
      "[[5 9 1 4 8 9 7 9]\n",
      " [5 5 2 0 8 2 8 4]\n",
      " [8 7 9 1 6 5 5 2]\n",
      " [3 2 0 9 1 6 1 4]\n",
      " [9 5 5 4 4 1 6 5]\n",
      " [2 8 3 6 7 5 9 7]\n",
      " [7 3 2 6 9 5 9 2]\n",
      " [8 9 9 3 9 2 8 7]]\n"
     ]
    }
   ],
   "source": [
    "a=np.random.randint(1,10,size=(8,8))\n",
    "print(a)\n",
    "a[[1,3],[3,2]]=0\n",
    "print(a)"
   ]
  },
  {
   "cell_type": "markdown",
   "metadata": {},
   "source": [
    "Créer un tableau `a` de taille  8x8 (8 lignes et 8 colonnes) rempli de valeurs aléatoires entières de 1 à 9 inclus puis mettre à 0 toutes les lignes pour lesquelles le vecteur `vect= np.array([False, True, True, False,False, 'True',False, 'True'])` vaut `True` (en une seule instruction). "
   ]
  },
  {
   "cell_type": "code",
   "execution_count": 10,
   "metadata": {},
   "outputs": [
    {
     "name": "stdout",
     "output_type": "stream",
     "text": [
      "[[7 2 4 8 6 5 6 3]\n",
      " [7 1 6 3 3 9 2 2]\n",
      " [7 1 3 7 9 9 6 5]\n",
      " [9 3 8 8 9 1 5 2]\n",
      " [4 6 3 5 8 3 3 7]\n",
      " [1 1 2 4 5 8 1 6]\n",
      " [3 5 3 9 9 7 9 5]\n",
      " [9 9 5 3 4 4 6 8]]\n"
     ]
    },
    {
     "data": {
      "text/plain": [
       "array([[7, 2, 4, 8, 6, 5, 6, 3],\n",
       "       [0, 0, 0, 0, 0, 0, 0, 0],\n",
       "       [0, 0, 0, 0, 0, 0, 0, 0],\n",
       "       [9, 3, 8, 8, 9, 1, 5, 2],\n",
       "       [4, 6, 3, 5, 8, 3, 3, 7],\n",
       "       [0, 0, 0, 0, 0, 0, 0, 0],\n",
       "       [3, 5, 3, 9, 9, 7, 9, 5],\n",
       "       [0, 0, 0, 0, 0, 0, 0, 0]])"
      ]
     },
     "metadata": {},
     "output_type": "display_data"
    }
   ],
   "source": [
    "# A compléter ...\n",
    "a=np.random.randint(1,10,size=(8,8))\n",
    "print(a)\n",
    "vect= np.array([False, True, True, False,False, True,False, True])\n",
    "a[vect, :] = 0\n",
    "display(a)\n"
   ]
  },
  {
   "cell_type": "markdown",
   "metadata": {},
   "source": [
    "A l'aide de la fonction np.ones,  créer un tableau carré de taille 7 ne contenant que des 1.\n",
    "Puis en maximum deux lignes, faire un \"damier\" en remplaçant certains 1 par des 0 (voir résultat ci-dessous)"
   ]
  },
  {
   "cell_type": "code",
   "execution_count": 11,
   "metadata": {},
   "outputs": [
    {
     "name": "stdout",
     "output_type": "stream",
     "text": [
      "[[1 1 1 1 1 1 1]\n",
      " [1 1 1 1 1 1 1]\n",
      " [1 1 1 1 1 1 1]\n",
      " [1 1 1 1 1 1 1]\n",
      " [1 1 1 1 1 1 1]\n",
      " [1 1 1 1 1 1 1]\n",
      " [1 1 1 1 1 1 1]]\n"
     ]
    }
   ],
   "source": [
    "# A compléter ...\n",
    "a=np.ones((7,7),dtype=int)\n",
    "print(a)"
   ]
  },
  {
   "cell_type": "markdown",
   "metadata": {},
   "source": [
    "### 3. Partage de  valeurs dans un tableau"
   ]
  },
  {
   "cell_type": "markdown",
   "metadata": {},
   "source": [
    "#### a ) \" Vues\"   (extrait avec des slices) "
   ]
  },
  {
   "cell_type": "markdown",
   "metadata": {},
   "source": [
    "Créer un tableau `a` de taille 4x4 rempli de valeurs aléatoires entières de 1 à 9 inclus que l'on nommera a.\n",
    "\n",
    "Créer ensuite une vue (appelée `b`) de la matrice `a` correspondant aux sélecteurs précédents en prenant pas ar exemple :\n",
    "\n",
    "    b = a[0,:] \n",
    "    \n",
    "    \n",
    "Modifier le contenu de `b` et regarder l'effet sur `a`. Puis modifier `a` et regarder l'effet sur `b`\n",
    "\n",
    "Exemple de ce qui est attendu :\n",
    "\n",
    "    a= [[6 3 8 1]\n",
    "     [3 9 4 4]\n",
    "     [9 5 4 5]\n",
    "     [4 2 9 8]] \n",
    "     b= [6 3 8 1]\n",
    "    Après modification de la case 0,3 de a (mise à -1) et la case 0,0 de b (mise à 0)     on obtient :\n",
    "    a= [[ 0  3  8 -1]\n",
    "     [ 3  9  4  4]\n",
    "     [ 9  5  4  5]\n",
    "     [ 4  2  9  8]] \n",
    "     b= [ 0  3  8 -1]    "
   ]
  },
  {
   "cell_type": "code",
   "execution_count": 12,
   "metadata": {},
   "outputs": [
    {
     "data": {
      "text/plain": [
       "array([[4, 1, 4, 6],\n",
       "       [4, 4, 1, 6],\n",
       "       [6, 7, 6, 4],\n",
       "       [7, 6, 4, 1]])"
      ]
     },
     "metadata": {},
     "output_type": "display_data"
    },
    {
     "data": {
      "text/plain": [
       "array([4, 1, 4, 6])"
      ]
     },
     "metadata": {},
     "output_type": "display_data"
    },
    {
     "data": {
      "text/plain": [
       "array([[ 0,  1,  4, -1],\n",
       "       [ 4,  4,  1,  6],\n",
       "       [ 6,  7,  6,  4],\n",
       "       [ 7,  6,  4,  1]])"
      ]
     },
     "metadata": {},
     "output_type": "display_data"
    },
    {
     "data": {
      "text/plain": [
       "array([ 0,  1,  4, -1])"
      ]
     },
     "metadata": {},
     "output_type": "display_data"
    }
   ],
   "source": [
    "# A compléter ...\n",
    "a=np.random.randint(1,10,size=(4,4))\n",
    "display(a)\n",
    "b=a[0,:]\n",
    "display(b)\n",
    "a[0, 3] = -1\n",
    "b[0] = 0\n",
    "display(a)\n",
    "\n",
    "display(b)"
   ]
  },
  {
   "cell_type": "code",
   "execution_count": 15,
   "metadata": {},
   "outputs": [
    {
     "name": "stdout",
     "output_type": "stream",
     "text": [
      "a = [[5 1 4 2]\n",
      " [1 2 7 4]\n",
      " [4 6 2 8]\n",
      " [3 5 5 6]]\n",
      "b = [5 1 4 2]\n",
      "Après modification de la case 0,3 de b (mise à -1), a devient :\n",
      " [[5 1 4 2]\n",
      " [1 2 7 4]\n",
      " [4 6 2 8]\n",
      " [3 5 5 6]]\n",
      "Après modification de la case 0,0 de a (mise à 0), b devient :\n",
      " [ 5  1  4 -1]\n"
     ]
    }
   ],
   "source": [
    "# à compléter\n",
    "\n",
    "# Créer un tableau 4x4 rempli de valeurs aléatoires entières de 1 à 9 inclus\n",
    "a = np.random.randint(1, 10, (4, 4))\n",
    "\n",
    "# Afficher le tableau a\n",
    "print(\"a =\", a)\n",
    "\n",
    "# Créer une copie b de la première ligne de a\n",
    "b = a[0, :].copy()\n",
    "\n",
    "# Afficher la copie b\n",
    "print(\"b =\", b)\n",
    "\n",
    "# Modifier la première valeur de b et afficher a\n",
    "b[3] = -1\n",
    "print(\"Après modification de la case 0,3 de b (mise à -1), a devient :\\n\", a)\n",
    "\n",
    "# Modifier la première valeur de a et afficher b\n",
    "a[0, 0] = 0\n",
    "print(\"Après modification de la case 0,0 de a (mise à 0), b devient :\\n\", b)\n"
   ]
  },
  {
   "cell_type": "code",
   "execution_count": 14,
   "metadata": {},
   "outputs": [],
   "source": [
    "# A compléter ..."
   ]
  },
  {
   "cell_type": "markdown",
   "metadata": {},
   "source": [
    "### 4) Tableaux de tailles différentes"
   ]
  },
  {
   "cell_type": "markdown",
   "metadata": {},
   "source": [
    "Créer un array numpy nommé `a` de taille 3x3 contenant des valeurs aléatoires entières entre 1 et 9 comprises. \n",
    "\n",
    "Créer un second array nommé `b` de taille 1x3 également rempli de valeurs aléatoires entières entre 1 et 9 comprises.\n",
    "\n",
    "Créer un troisième array nommé `c` de taille 3x1 également rempli de valeurs aléatoires entières entre 1 et 9 comprises.illes différentes"
   ]
  },
  {
   "cell_type": "code",
   "execution_count": 31,
   "metadata": {},
   "outputs": [
    {
     "data": {
      "text/plain": [
       "array([[5, 1, 3],\n",
       "       [6, 6, 6],\n",
       "       [8, 7, 4]])"
      ]
     },
     "metadata": {},
     "output_type": "display_data"
    },
    {
     "data": {
      "text/plain": [
       "array([[4, 4, 1]])"
      ]
     },
     "metadata": {},
     "output_type": "display_data"
    },
    {
     "data": {
      "text/plain": [
       "array([[0],\n",
       "       [0],\n",
       "       [0]])"
      ]
     },
     "metadata": {},
     "output_type": "display_data"
    }
   ],
   "source": [
    "# A compléter ...\n",
    "a=np.random.randint(1,10,size=(3,3))\n",
    "display(a)\n",
    "b=np.random.randint(1,10,size=(1,3))\n",
    "display(b)\n",
    "c=np.random.randint(1.10,size=(3,1))\n",
    "display(c)"
   ]
  },
  {
   "cell_type": "markdown",
   "metadata": {},
   "source": [
    "Ajouter la constante 5 à a, afficher le résultat :"
   ]
  },
  {
   "cell_type": "code",
   "execution_count": 32,
   "metadata": {},
   "outputs": [
    {
     "data": {
      "text/plain": [
       "array([[10,  6,  8],\n",
       "       [11, 11, 11],\n",
       "       [13, 12,  9]])"
      ]
     },
     "metadata": {},
     "output_type": "display_data"
    }
   ],
   "source": [
    "# A compléter ...\n",
    "a=a+5\n",
    "display(a)"
   ]
  },
  {
   "cell_type": "markdown",
   "metadata": {},
   "source": [
    "Calculer (a+b). Que représente ce calcul?\n",
    "\n",
    "Calculer (a+c). Que représente ce calcul?\n",
    "\n",
    "Afficher b.T\n",
    "\n",
    "En déduire une façon d'ajouter b à chaque colonne de a"
   ]
  },
  {
   "cell_type": "code",
   "execution_count": 33,
   "metadata": {},
   "outputs": [
    {
     "name": "stdout",
     "output_type": "stream",
     "text": [
      "[[14 10  9]\n",
      " [15 15 12]\n",
      " [17 16 10]]\n",
      "[[10  6  8]\n",
      " [11 11 11]\n",
      " [13 12  9]]\n",
      "[[4]\n",
      " [4]\n",
      " [1]]\n",
      "[[14 10 12]\n",
      " [15 15 15]\n",
      " [14 13 10]]\n"
     ]
    }
   ],
   "source": [
    "# A compléter ...\n",
    "cal1=a+b\n",
    "print(cal1)\n",
    "cal2=a+c\n",
    "print(cal2)\n",
    "print(b.T)\n",
    "resultat = a + b.T\n",
    "print(resultat)"
   ]
  },
  {
   "cell_type": "markdown",
   "metadata": {},
   "source": [
    "Calculer la somme b+c, afficher le résultat et le commenter."
   ]
  },
  {
   "cell_type": "code",
   "execution_count": 34,
   "metadata": {},
   "outputs": [
    {
     "name": "stdout",
     "output_type": "stream",
     "text": [
      "[[4 4 1]\n",
      " [4 4 1]\n",
      " [4 4 1]]\n"
     ]
    }
   ],
   "source": [
    "# A compléter ...\n",
    "cal3=b+c\n",
    "print(cal3)"
   ]
  },
  {
   "cell_type": "markdown",
   "metadata": {},
   "source": [
    "### 5. Exercice récapitulatif\n",
    "On regroupe dans une liste de listes les notes de 50 étudiants. Il y a 20 notes par étudiant.\n",
    "\n"
   ]
  },
  {
   "cell_type": "code",
   "execution_count": 35,
   "metadata": {},
   "outputs": [],
   "source": [
    "tabNotes=[[ 4,  4,  13, 9, 11,  8, 11, 8,  0,  6, 6,  12,  5,  9,  6,  8,\n",
    "         3, 11, 10, 11],\n",
    "       [5, 11, 9,  2,  6,  7, 6,  6, 11, 11,  1, 10, 11, 7, 14, 10,\n",
    "         9, 12,  7,  5],\n",
    "       [15, 16,  12,  10, 13, 10, 11, 14,  6,  6,  13,  8, 11, 12, 10,  9,\n",
    "        10,  12, 12,  12],\n",
    "       [12, 17, 14,  13, 12, 17,  13, 14,  15, 16, 15,  15,  12,  16,  13, 20,\n",
    "         12, 14,  14, 19],\n",
    "       [6,  7,  5, 13,  6,  9,  10,  10,  9,  8, 7,  0, 6,  6, 13, 13,\n",
    "        10,  4, 16, 13],\n",
    "       [ 5,  4,  6,  9, 11, 13,  6,  7, 10,  8,  6, 13, 11, 11, 11, 15,\n",
    "        10, 10,  9,  8],\n",
    "       [ 11, 7, 12, 10, 10,  6,  5, 8,  10,  3, 9, 11,  8,  7, 11,  4,\n",
    "         6, 12,  4,  7],\n",
    "       [10, 10, 11,  5,  9, 10, 16,  5,  5,  4, 13, 14, 12,  2, 16,  5,\n",
    "        11,  8,  9,  6],\n",
    "       [ 2, 5, 7,  3,  4, 16, 12,  8,  0, 9, 10, 10,  9,  3,  4,  3,\n",
    "        10, 7, 12, 10],\n",
    "       [ 4, 10, 13,  8,  8,  7, 10,  3,  8,  6,  0, 15, 12, 11, 12, 15,\n",
    "        11, 13, 15,  4],\n",
    "       [15,  11,  10, 16, 14,  17, 19, 17, 16,  16, 17, 14, 12,  17,  12, 14,\n",
    "         17, 17,  13,  12],\n",
    "       [6, 7,  4, 14,  8, 11,  9,  7, 12,  6,  8, 11,  10, 9,  13, 9,\n",
    "         12,  9, 10, 10],\n",
    "       [20, 14, 17, 17, 16,  13, 17, 15,  17, 14,  10, 17,  14,  13,  19, 15,\n",
    "         13, 19, 15,  18],\n",
    "       [ 3, 14, 11,  3,  11,  8,  2, 11,  4,  5, 12, 17,  3,  3,  9, 13,\n",
    "        12,  3,  5, 10],\n",
    "       [ 5, 10, 10, 11, 9, 12,  0,  5,  2, 12, 9,  9,  1,  4, 10,  9,\n",
    "        10,  1, 10, 13],\n",
    "       [10,  8,  8, 19, 13,  6,  5, 16, 16,  10, 17,  10,  3, 15, 13, 14,\n",
    "         5, 14, 12,  9],\n",
    "       [ 9, 10, 10, 10, 13, 10, 12,  7, 10, 10, 11, 15,  5,  7,  0,  7,\n",
    "        12, 10, 13, 13],\n",
    "       [ 6,  7,  2, 11,  1, 11,  11, 11,  6,  0, 10, 14, 12,  12,  9,  13,\n",
    "        18,  10, 18, 20],\n",
    "       [14,  13, 19,  10,  17, 15,  10,  15,  12, 13,  7,  8,  13, 11,  9, 18,\n",
    "        13, 13,  5, 18],\n",
    "       [4,  1,  6, 17,  4,  7,  5, 19, 11,  5,  7, 18, 16,  8,  9, 11,\n",
    "        10, 10,  1, 12],\n",
    "       [12, 12,  12,  6,  6, 15, 11, 12, 12, 10, 11, 11, 12, 11,  9, 11,\n",
    "         5, 7,  12, 12],\n",
    "       [ 7, 5, 13, 11,  9, 11,  6, 10, 12, 10, 17, 10,  5,  4,  9, 11,\n",
    "        10,  3, 11,  5],\n",
    "       [10,  6, 10,  4, 8,  4,  5,  4,  4, 8, 7, 9,  4, 9, 5, 8,\n",
    "         4,  2,  7,  3],\n",
    "       [14,  9,  3, 13,  5, 11,  6, 12, 10,  7, 12,  6, 13,  8,  0,  5,\n",
    "        14, 13, 12, 11],\n",
    "       [10,  4,  5,  3,  7, 15,  8,  0,  7,  8,  0,  5,  4, 12,  8,  4,\n",
    "        13, 12, 14, 11],\n",
    "       [11,  8, 11, 11,  10, 14,  2, 11, 10, 12,  10,  9, 10,  8,  9, 12,\n",
    "        10, 10, 7,  7],\n",
    "       [ 5,  4, 5,  13, 7,  7,  9, 10,  6, 11, 13, 12,  8,  9,  3,  0,\n",
    "        10,  9, 11, 14],\n",
    "       [11, 11, 11,  10,  10, 10,  7,  12,  7, 14,  6,  13, 11,  12, 8, 7,\n",
    "        12,  12,  8, 11],\n",
    "       [11, 10,  8,  6, 11,  8,  8, 14,  11, 12,  12, 11,  11,  10, 10, 8,\n",
    "         13,  9,  5, 11],\n",
    "       [17, 17, 14, 15,  13, 12, 15,  15, 15, 16, 16, 12,  14, 15, 14, 11,\n",
    "         6, 13,  12, 10],\n",
    "       [16, 13, 15, 13,  11,  10, 14,  12,  10,  12, 16,  16,  16,  16, 10, 10,\n",
    "         10,  11,  11,  11],\n",
    "       [12, 12,  8,  8,  9,  9, 15,  9,  9, 9,  9,  7, 13, 10, 9, 14,\n",
    "         5, 12,  10,  5],\n",
    "       [16,  9,  10,  8, 17, 13, 16, 13,  7,  9, 17, 10, 16, 11,  7, 11,\n",
    "        10,  6, 12, 12],\n",
    "       [10,  5,  5,  6,  7,  2, 10, 13, 17, 12, 10, 12, 16,  10, 13,  5,\n",
    "        10,  7, 10,  8],\n",
    "       [ 3, 12,  8, 9, 9, 12,  2, 12,  3,  7,  1, 10,  6, 9,  5,  7,\n",
    "         2,  5, 15, 10],\n",
    "       [14, 12,  9, 12,  9, 8, 12, 10,  9, 13, 13,  8,  2, 13,  11,  11,\n",
    "         13, 7,  11,  11],\n",
    "       [ 11, 8,  9, 14, 16,  3, 16,  4,  5, 13, 12,  11, 9,  7, 7, 16,\n",
    "        14, 10, 16,  6],\n",
    "       [11,  4,  5,  10,  4,  5, 10, 10, 14,  4, 12,  6,  7,  9, 16,  8,\n",
    "        10, 9, 9,  13],\n",
    "       [16, 18, 10, 18, 11, 12, 19, 13,  4,  6,  16, 17, 17, 10,  7, 16,\n",
    "        10, 10,  3,  1],\n",
    "       [ 7, 12,  9, 12, 9,  12,  4, 13, 13,  3,  12,  9, 14, 19, 12,  0,\n",
    "         3, 6, 13, 13],\n",
    "       [14, 10, 10,  9,  6, 12, 18, 18, 14, 14, 10, 18,  10, 10,  10,  12,\n",
    "        19,  5, 14,  0],\n",
    "       [20, 20,  1,  7,  5, 15,  5, 8, 9,  8,  7, 8, 8, 16,  0,  3,\n",
    "         3, 13,  3,  6],\n",
    "       [ 4,  6,  1, 2, 13,  2, 9, 6, 10, 12, 12,  2,  4,  10, 14,  10,\n",
    "         6, 15, 10,  5],\n",
    "       [ 3, 7,  3,  4, 10,  3, 10, 13,  7,  5,  3,  4, 2,  8, 11,  8,\n",
    "         9,  6,  7,  3],\n",
    "       [20, 14,  9, 13,  6, 5, 8,  4,  4, 11,  6,  11,  12, 11, 10,  4,\n",
    "         7, 8,  9,  11],\n",
    "       [ 8, 10,  2,  8,  5, 10,  10,  0, 7,  7,  6, 14, 13,  4, 7,  8,\n",
    "         6, 8, 12,  3],\n",
    "       [ 8, 12,  7,  9, 14, 12, 12, 12, 13, 13,  9,  7,  4, 10,  8, 11,\n",
    "         6, 15,  0, 15],\n",
    "       [ 7, 11,  7, 11,  6,  7, 10,  8,  1, 14, 12, 13, 10,  8, 15, 12,\n",
    "        7, 10, 14,  4],\n",
    "       [18,  9, 14,  5, 14,  6, 12,  8,  12,  10, 9,  8, 9,  0,  4, 15,\n",
    "        11, 10,  12,  7],\n",
    "       [ 20,  6, 10,  12,  5,  4,  13,  8, 12, 12,  13, 12, 17,  8,  9,  0,\n",
    "        10,  13,  12,  13]]"
   ]
  },
  {
   "cell_type": "markdown",
   "metadata": {},
   "source": [
    "1.Transformer ce tableau en array numpy. Vérifier qu'on a bien un tableau à 50 lignes et 20 colonnes.\n",
    "\n",
    "Calculer la moyenne globale des toutes les notes puis la moyenne des toues les notes non nulles."
   ]
  },
  {
   "cell_type": "code",
   "execution_count": 37,
   "metadata": {},
   "outputs": [
    {
     "name": "stdout",
     "output_type": "stream",
     "text": [
      "9.714\n",
      "9.892057026476579\n"
     ]
    }
   ],
   "source": [
    "# A compléter ...\n",
    "ta=np.array(tabNotes) \n",
    "moy=np.mean(ta)\n",
    "print(moy)\n",
    "cal=ta[ta!=0]\n",
    "moy1=np.mean(cal)\n",
    "print(moy1)"
   ]
  },
  {
   "cell_type": "markdown",
   "metadata": {},
   "source": [
    "2.a. Calculer le tableau des  50 moyennes des des étudiants à chaque test.\n",
    "\n",
    "b. Calculer le tableau des 20 notes moyennes pour chaque des 20 tests.\n"
   ]
  },
  {
   "cell_type": "code",
   "execution_count": 40,
   "metadata": {},
   "outputs": [
    {
     "name": "stdout",
     "output_type": "stream",
     "text": [
      "[10.24  9.64  8.86  9.84  9.36  9.64  9.84 10.    9.08  9.4   9.94 10.84\n",
      "  9.66  9.6   9.46  9.66  9.64  9.7  10.24  9.64]\n",
      "[ 7.75  8.   11.1  14.65  8.55  9.15  8.05  9.05  7.2   9.25 14.8   9.25\n",
      " 15.65  7.95  7.6  11.15  9.7  10.1  12.65  9.05 10.45  8.95  6.05  9.2\n",
      "  7.5   9.6   8.3  10.15  9.95 13.6  12.65  9.7  11.5   9.4   7.35 10.4\n",
      " 10.35  8.8  11.7   9.75 11.65  8.25  7.65  6.3   9.15  7.4   9.85  9.35\n",
      "  9.65 10.45]\n"
     ]
    }
   ],
   "source": [
    "# A compléter ...\n",
    "moy2=np.mean(ta,axis=0)\n",
    "print(moy2)\n",
    "moy3=np.mean(ta,axis=1)\n",
    "print(moy3)"
   ]
  },
  {
   "cell_type": "markdown",
   "metadata": {},
   "source": [
    "3.a. Pour chacun des 20 tests, compter combien d'étudiants ont la moyenne et afficher les résultats\n",
    "\n",
    "3.b. Compter pour chaque étudiant combien de fois il a eu la moyenne"
   ]
  },
  {
   "cell_type": "code",
   "execution_count": 43,
   "metadata": {},
   "outputs": [
    {
     "name": "stdout",
     "output_type": "stream",
     "text": [
      "Nombre d'étudiants ayant la moyenne pour chaque test :\n",
      "[29 27 24 28 23 28 29 29 26 26 29 33 29 26 25 27 33 29 33 30]\n",
      "Nombre de tests où chaque étudiant a eu la moyenne :\n",
      "[ 7  8 16 20  8 10  8 10  7 11 20  9 20  9  9 13 14 13 16  9 15 11  2 11\n",
      "  7 13  8 14 13 19 20  8 14 12  6 13 11  9 15 11 16  5  9  4  9  6 11 11\n",
      " 10 13]\n"
     ]
    }
   ],
   "source": [
    "# A compléter ...\n",
    "moyenne_reussite = 10\n",
    "moy4 = np.sum(ta >= moyenne_reussite, axis=0)\n",
    "print(\"Nombre d'étudiants ayant la moyenne pour chaque test :\")\n",
    "print(moy4)\n",
    "\n",
    "moy5 = np.sum(ta >= moyenne_reussite, axis=1)\n",
    "print(\"Nombre de tests où chaque étudiant a eu la moyenne :\")\n",
    "print(moy5)\n"
   ]
  },
  {
   "cell_type": "markdown",
   "metadata": {},
   "source": [
    "4. Afficher le numéro de l'étudiant qui a la meilleure moyenne sur les 20 tests et celui qui a la moins bonne (ainsi que les moyennes correspondantes)."
   ]
  },
  {
   "cell_type": "code",
   "execution_count": 47,
   "metadata": {},
   "outputs": [
    {
     "name": "stdout",
     "output_type": "stream",
     "text": [
      "Étudiant avec la meilleure moyenne :\n",
      "Numéro de l'étudiant : 12\n",
      "Moyenne correspondante : 15.65\n",
      "\n",
      "Étudiant avec la moins bonne moyenne :\n",
      "Numéro de l'étudiant : 22\n",
      "Moyenne correspondante : 6.05\n"
     ]
    }
   ],
   "source": [
    "# A compléter ...\n",
    "# Calculer les moyennes des étudiants sur les 20 tests\n",
    "moyennes = np.mean(ta, axis=1)\n",
    "\n",
    "\n",
    "indice1 = np.argmax(moyennes)\n",
    "\n",
    "# Trouver l'indice de l'étudiant ayant la moins bonne moyenne\n",
    "indice2= np.argmin(moyennes)\n",
    "\n",
    "# Afficher les résultats\n",
    "print(\"Étudiant avec la meilleure moyenne :\")\n",
    "print(\"Numéro de l'étudiant :\", indice1)\n",
    "print(\"Moyenne correspondante :\", moyennes[indice1])\n",
    "\n",
    "print(\"\\nÉtudiant avec la moins bonne moyenne :\")\n",
    "print(\"Numéro de l'étudiant :\", indice2)\n",
    "print(\"Moyenne correspondante :\", moyennes[indice2])\n",
    "\n"
   ]
  },
  {
   "cell_type": "markdown",
   "metadata": {},
   "source": [
    "5. Calculer et afficher le numéro de l'étudiant qui a le plus de notes supérieures à 14."
   ]
  },
  {
   "cell_type": "code",
   "execution_count": 48,
   "metadata": {},
   "outputs": [
    {
     "name": "stdout",
     "output_type": "stream",
     "text": [
      "Étudiant avec le plus de notes supérieures à 14 :\n",
      "Numéro de l'étudiant : 12\n",
      "Nombre de notes supérieures à 14 : 13\n"
     ]
    }
   ],
   "source": [
    "# A compléter ...\n",
    "# Compter le nombre de notes supérieures à 14 pour chaque étudiant\n",
    "notes= np.sum(ta> 14, axis=1)\n",
    "\n",
    "# Trouver l'indice de l'étudiant ayant le plus de notes supérieures à 14\n",
    "indice3 = np.argmax(notes)\n",
    "\n",
    "# Afficher le résultat\n",
    "print(\"Étudiant avec le plus de notes supérieures à 14 :\")\n",
    "print(\"Numéro de l'étudiant :\", indice3)\n",
    "print(\"Nombre de notes supérieures à 14 :\", notes[indice3])\n"
   ]
  },
  {
   "cell_type": "markdown",
   "metadata": {},
   "source": [
    "6. On veut corriger quelques erreurs de saisie\n",
    "- l'étudiant de la ligne d'indice 5 a dix points de plus pour sa dernière note\n",
    "- pour le test de la première colonne (colonne 0) , il faut ajouter 2 points à tous les étudiants\n",
    "- ensuite il faut remettre à 20 les notes qui dépasseraient 20"
   ]
  },
  {
   "cell_type": "code",
   "execution_count": 52,
   "metadata": {},
   "outputs": [
    {
     "name": "stdout",
     "output_type": "stream",
     "text": [
      "[[ 6  4 13  9 11  8 11  8  0  6  6 12  5  9  6  8  3 11 10 11]\n",
      " [ 7 11  9  2  6  7  6  6 11 11  1 10 11  7 14 10  9 12  7  5]\n",
      " [17 16 12 10 13 10 11 14  6  6 13  8 11 12 10  9 10 12 12 12]\n",
      " [14 17 14 13 12 17 13 14 15 16 15 15 12 16 13 20 12 14 14 19]\n",
      " [ 8  7  5 13  6  9 10 10  9  8  7  0  6  6 13 13 10  4 16 13]\n",
      " [ 7  4  6  9 11 13  6  7 10  8  6 13 11 11 11 15 10 10  9 18]\n",
      " [13  7 12 10 10  6  5  8 10  3  9 11  8  7 11  4  6 12  4  7]\n",
      " [12 10 11  5  9 10 16  5  5  4 13 14 12  2 16  5 11  8  9  6]\n",
      " [ 4  5  7  3  4 16 12  8  0  9 10 10  9  3  4  3 10  7 12 10]\n",
      " [ 6 10 13  8  8  7 10  3  8  6  0 15 12 11 12 15 11 13 15  4]\n",
      " [17 11 10 16 14 17 19 17 16 16 17 14 12 17 12 14 17 17 13 12]\n",
      " [ 8  7  4 14  8 11  9  7 12  6  8 11 10  9 13  9 12  9 10 10]\n",
      " [20 14 17 17 16 13 17 15 17 14 10 17 14 13 19 15 13 19 15 18]\n",
      " [ 5 14 11  3 11  8  2 11  4  5 12 17  3  3  9 13 12  3  5 10]\n",
      " [ 7 10 10 11  9 12  0  5  2 12  9  9  1  4 10  9 10  1 10 13]\n",
      " [12  8  8 19 13  6  5 16 16 10 17 10  3 15 13 14  5 14 12  9]\n",
      " [11 10 10 10 13 10 12  7 10 10 11 15  5  7  0  7 12 10 13 13]\n",
      " [ 8  7  2 11  1 11 11 11  6  0 10 14 12 12  9 13 18 10 18 20]\n",
      " [16 13 19 10 17 15 10 15 12 13  7  8 13 11  9 18 13 13  5 18]\n",
      " [ 6  1  6 17  4  7  5 19 11  5  7 18 16  8  9 11 10 10  1 12]\n",
      " [14 12 12  6  6 15 11 12 12 10 11 11 12 11  9 11  5  7 12 12]\n",
      " [ 9  5 13 11  9 11  6 10 12 10 17 10  5  4  9 11 10  3 11  5]\n",
      " [12  6 10  4  8  4  5  4  4  8  7  9  4  9  5  8  4  2  7  3]\n",
      " [16  9  3 13  5 11  6 12 10  7 12  6 13  8  0  5 14 13 12 11]\n",
      " [12  4  5  3  7 15  8  0  7  8  0  5  4 12  8  4 13 12 14 11]\n",
      " [13  8 11 11 10 14  2 11 10 12 10  9 10  8  9 12 10 10  7  7]\n",
      " [ 7  4  5 13  7  7  9 10  6 11 13 12  8  9  3  0 10  9 11 14]\n",
      " [13 11 11 10 10 10  7 12  7 14  6 13 11 12  8  7 12 12  8 11]\n",
      " [13 10  8  6 11  8  8 14 11 12 12 11 11 10 10  8 13  9  5 11]\n",
      " [19 17 14 15 13 12 15 15 15 16 16 12 14 15 14 11  6 13 12 10]\n",
      " [18 13 15 13 11 10 14 12 10 12 16 16 16 16 10 10 10 11 11 11]\n",
      " [14 12  8  8  9  9 15  9  9  9  9  7 13 10  9 14  5 12 10  5]\n",
      " [18  9 10  8 17 13 16 13  7  9 17 10 16 11  7 11 10  6 12 12]\n",
      " [12  5  5  6  7  2 10 13 17 12 10 12 16 10 13  5 10  7 10  8]\n",
      " [ 5 12  8  9  9 12  2 12  3  7  1 10  6  9  5  7  2  5 15 10]\n",
      " [16 12  9 12  9  8 12 10  9 13 13  8  2 13 11 11 13  7 11 11]\n",
      " [13  8  9 14 16  3 16  4  5 13 12 11  9  7  7 16 14 10 16  6]\n",
      " [13  4  5 10  4  5 10 10 14  4 12  6  7  9 16  8 10  9  9 13]\n",
      " [18 18 10 18 11 12 19 13  4  6 16 17 17 10  7 16 10 10  3  1]\n",
      " [ 9 12  9 12  9 12  4 13 13  3 12  9 14 19 12  0  3  6 13 13]\n",
      " [16 10 10  9  6 12 18 18 14 14 10 18 10 10 10 12 19  5 14  0]\n",
      " [20 20  1  7  5 15  5  8  9  8  7  8  8 16  0  3  3 13  3  6]\n",
      " [ 6  6  1  2 13  2  9  6 10 12 12  2  4 10 14 10  6 15 10  5]\n",
      " [ 5  7  3  4 10  3 10 13  7  5  3  4  2  8 11  8  9  6  7  3]\n",
      " [20 14  9 13  6  5  8  4  4 11  6 11 12 11 10  4  7  8  9 11]\n",
      " [10 10  2  8  5 10 10  0  7  7  6 14 13  4  7  8  6  8 12  3]\n",
      " [10 12  7  9 14 12 12 12 13 13  9  7  4 10  8 11  6 15  0 15]\n",
      " [ 9 11  7 11  6  7 10  8  1 14 12 13 10  8 15 12  7 10 14  4]\n",
      " [20  9 14  5 14  6 12  8 12 10  9  8  9  0  4 15 11 10 12  7]\n",
      " [20  6 10 12  5  4 13  8 12 12 13 12 17  8  9  0 10 13 12 13]]\n"
     ]
    }
   ],
   "source": [
    "# A compléter ...\n",
    "ta1= np.copy(ta)\n",
    "ta1[5,-1]+=10\n",
    "ta1[:,0]+=2\n",
    "ta1[ta1 > 20] = 20\n",
    "print(ta1)\n"
   ]
  },
  {
   "cell_type": "markdown",
   "metadata": {},
   "source": [
    "7. Extraire et afficher les résultats du test 5  (colonne d'indice 4)"
   ]
  },
  {
   "cell_type": "code",
   "execution_count": 53,
   "metadata": {},
   "outputs": [
    {
     "name": "stdout",
     "output_type": "stream",
     "text": [
      "[11  6 13 12  6 11 10  9  4  8 14  8 16 11  9 13 13  1 17  4  6  9  8  5\n",
      "  7 10  7 10 11 13 11  9 17  7  9  9 16  4 11  9  6  5 13 10  6  5 14  6\n",
      " 14  5]\n"
     ]
    }
   ],
   "source": [
    "# A compléter ...\n",
    "col=ta1[:,4]\n",
    "print(col)\n",
    "\n"
   ]
  },
  {
   "cell_type": "markdown",
   "metadata": {},
   "source": [
    "8. Utiliser np.unique pour voir quelle est la note la plus souvent obtenue à ce test et quelles notes ne sont pas obtenues."
   ]
  },
  {
   "cell_type": "code",
   "execution_count": 56,
   "metadata": {},
   "outputs": [
    {
     "name": "stdout",
     "output_type": "stream",
     "text": [
      "Note la plus souvent obtenue : 20\n",
      "Notes non obtenues : [False  True False False False False False False False False False False\n",
      " False False False False False False False False False]\n"
     ]
    }
   ],
   "source": []
  },
  {
   "cell_type": "markdown",
   "metadata": {},
   "source": [
    "9. Utiliser np.where pour récupérer les numéros des étudiants qui ont eu plus de 12  ce test."
   ]
  },
  {
   "cell_type": "code",
   "execution_count": 60,
   "metadata": {},
   "outputs": [
    {
     "name": "stdout",
     "output_type": "stream",
     "text": [
      "(array([ 0,  1,  2,  2,  2,  2,  2,  3,  3,  3,  3,  3,  3,  3,  3,  3,  3,\n",
      "        3,  3,  3,  3,  3,  3,  3,  4,  4,  4,  4,  4,  5,  5,  5,  5,  6,\n",
      "        7,  7,  7,  7,  8,  9,  9,  9,  9,  9, 10, 10, 10, 10, 10, 10, 10,\n",
      "       10, 10, 10, 10, 10, 10, 10, 10, 11, 11, 12, 12, 12, 12, 12, 12, 12,\n",
      "       12, 12, 12, 12, 12, 12, 12, 12, 12, 12, 12, 12, 13, 13, 13, 14, 15,\n",
      "       15, 15, 15, 15, 15, 15, 15, 15, 16, 16, 16, 16, 17, 17, 17, 17, 17,\n",
      "       18, 18, 18, 18, 18, 18, 18, 18, 18, 18, 18, 18, 19, 19, 19, 19, 20,\n",
      "       20, 21, 21, 23, 23, 23, 23, 23, 24, 24, 24, 25, 25, 26, 26, 26, 27,\n",
      "       27, 27, 28, 28, 28, 29, 29, 29, 29, 29, 29, 29, 29, 29, 29, 29, 29,\n",
      "       29, 29, 30, 30, 30, 30, 30, 30, 30, 30, 30, 31, 31, 31, 31, 32, 32,\n",
      "       32, 32, 32, 32, 32, 33, 33, 33, 33, 34, 35, 35, 35, 35, 35, 36, 36,\n",
      "       36, 36, 36, 36, 36, 36, 37, 37, 37, 37, 38, 38, 38, 38, 38, 38, 38,\n",
      "       38, 38, 39, 39, 39, 39, 39, 39, 40, 40, 40, 40, 40, 40, 40, 40, 41,\n",
      "       41, 41, 41, 41, 42, 42, 42, 43, 44, 44, 44, 45, 45, 46, 46, 46, 46,\n",
      "       46, 47, 47, 47, 47, 48, 48, 48, 48, 49, 49, 49, 49, 49, 49]), array([ 2, 14,  0,  1,  4,  7, 10,  0,  1,  2,  3,  5,  6,  7,  8,  9, 10,\n",
      "       11, 13, 14, 15, 17, 18, 19,  3, 14, 15, 18, 19,  5, 11, 15, 19,  0,\n",
      "        6, 10, 11, 14,  5,  2, 11, 15, 17, 18,  0,  3,  4,  5,  6,  7,  8,\n",
      "        9, 10, 11, 13, 15, 16, 17, 18,  3, 14,  0,  1,  2,  3,  4,  5,  6,\n",
      "        7,  8,  9, 11, 12, 13, 14, 15, 16, 17, 18, 19,  1, 11, 15, 19,  3,\n",
      "        4,  7,  8, 10, 13, 14, 15, 17,  4, 11, 18, 19, 11, 15, 16, 18, 19,\n",
      "        0,  1,  2,  4,  5,  7,  9, 12, 15, 16, 17, 19,  3,  7, 11, 12,  0,\n",
      "        5,  2, 10,  0,  3, 12, 16, 17,  5, 16, 18,  0,  5,  3, 10, 19,  0,\n",
      "        9, 11,  0,  7, 16,  0,  1,  2,  3,  4,  6,  7,  8,  9, 10, 12, 13,\n",
      "       14, 17,  0,  1,  2,  3,  6, 10, 11, 12, 13,  0,  6, 12, 15,  0,  4,\n",
      "        5,  6,  7, 10, 12,  7,  8, 12, 14, 18,  0,  9, 10, 13, 16,  0,  3,\n",
      "        4,  6,  9, 15, 16, 18,  0,  8, 14, 19,  0,  1,  3,  6,  7, 10, 11,\n",
      "       12, 15,  7,  8, 12, 13, 18, 19,  0,  6,  7,  8,  9, 11, 16, 18,  0,\n",
      "        1,  5, 13, 17,  4, 14, 17,  7,  0,  1,  3, 11, 12,  4,  8,  9, 17,\n",
      "       19,  9, 11, 14, 18,  0,  2,  4, 15,  0,  6, 10, 12, 17, 19]))\n"
     ]
    }
   ],
   "source": [
    "# A compléter ...\n",
    "etudiants_plus_de_12 = np.where(ta1 > 12)\n",
    "print(etudiants_plus_de_12)\n"
   ]
  },
  {
   "cell_type": "code",
   "execution_count": null,
   "metadata": {},
   "outputs": [],
   "source": []
  }
 ],
 "metadata": {
  "kernelspec": {
   "display_name": "Python 3 (ipykernel)",
   "language": "python",
   "name": "python3"
  },
  "language_info": {
   "codemirror_mode": {
    "name": "ipython",
    "version": 3
   },
   "file_extension": ".py",
   "mimetype": "text/x-python",
   "name": "python",
   "nbconvert_exporter": "python",
   "pygments_lexer": "ipython3",
   "version": "3.10.12"
  },
  "latex_envs": {
   "LaTeX_envs_menu_present": false,
   "autoclose": false,
   "autocomplete": false,
   "bibliofile": "biblio.bib",
   "cite_by": "apalike",
   "current_citInitial": 1,
   "eqLabelWithNumbers": false,
   "eqNumInitial": 1,
   "hotkeys": {
    "equation": "Ctrl-E",
    "itemize": "Ctrl-I"
   },
   "labels_anchors": false,
   "latex_user_defs": false,
   "report_style_numbering": false,
   "user_envs_cfg": false
  },
  "toc": {
   "base_numbering": 1,
   "nav_menu": {},
   "number_sections": true,
   "sideBar": true,
   "skip_h1_title": false,
   "title_cell": "Table of Contents",
   "title_sidebar": "Contents",
   "toc_cell": false,
   "toc_position": {},
   "toc_section_display": true,
   "toc_window_display": false
  },
  "vscode": {
   "interpreter": {
    "hash": "a2f5a4e5cb9685a704f3797f6942b9eb6ca9983296f40a6a598da917a934f46a"
   }
  }
 },
 "nbformat": 4,
 "nbformat_minor": 2
}
