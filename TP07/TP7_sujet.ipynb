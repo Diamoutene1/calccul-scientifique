{
 "cells": [
  {
   "cell_type": "markdown",
   "metadata": {},
   "source": [
    "# Recherche des racines d'équations non linéaires"
   ]
  },
  {
   "cell_type": "markdown",
   "metadata": {},
   "source": [
    "**Nom :Diamoutene  \n",
    "**Prénom :Zana  "
   ]
  },
  {
   "cell_type": "markdown",
   "metadata": {},
   "source": [
    "On commence par importer les bibliothèques qui vont bien :"
   ]
  },
  {
   "cell_type": "code",
   "execution_count": 10,
   "metadata": {},
   "outputs": [],
   "source": [
    "%matplotlib inline\n",
    "import matplotlib as mpl\n",
    "import matplotlib.pyplot as plt\n",
    "import numpy as np\n",
    "from IPython.display import display"
   ]
  },
  {
   "cell_type": "markdown",
   "metadata": {},
   "source": [
    "## Recherche incrémentale"
   ]
  },
  {
   "cell_type": "markdown",
   "metadata": {},
   "source": [
    "Dans cet exercice, nous allons nous intéresser à la résolution \"approchée\" de l'équation $f(x)=x^3 −10x^2 +5=0$"
   ]
  },
  {
   "cell_type": "markdown",
   "metadata": {},
   "source": [
    "- Ecrire la fonction `f(x)` (fonction python classique) qui correspond à la fonction ci-dessus.\n",
    "\n",
    "Tracer le graphe de la fonction $f$ sur l'intervalle $[-100,100]$ (on fera figurer l'axe en rouge ci-dessous)."
   ]
  },
  {
   "cell_type": "code",
   "execution_count": 11,
   "metadata": {},
   "outputs": [
    {
     "data": {
      "text/plain": [
       "<matplotlib.lines.Line2D at 0x7fa2f2725630>"
      ]
     },
     "execution_count": 11,
     "metadata": {},
     "output_type": "execute_result"
    },
    {
     "data": {
      "image/png": "[encoded data removed]",
      "text/plain": [
       "<Figure size 432x288 with 1 Axes>"
      ]
     },
     "metadata": {
      "needs_background": "light"
     },
     "output_type": "display_data"
    }
   ],
   "source": [
    "# A écrire\n",
    "def f(x):\n",
    "    return x**3 - 10*x**2 +5\n",
    "\n",
    "x_values = np.linspace(-100, 100, 1000)\n",
    "y_values = f(x_values)\n",
    "\n",
    "plt.plot(x_values, y_values, label='f(x) = x^3 - 10x^2 + 5')\n",
    "plt.plot(x_values,np.zeros_like(y_values),label='Axe x')\n",
    "plt.axhline( color='red', linestyle='--')  \n",
    "\n"
   ]
  },
  {
   "cell_type": "markdown",
   "metadata": {},
   "source": [
    "- A l'aide d'une boucle que vous devez écire, rechercher les racines de $f(x)$ sur l'intervalle [-100,100]  (c'est à dire les valeurs t telles que f(t)=0) en utilisant une méthode de recherche incrémentale, en explorant l'intervalle par pas de 1e-2. Pour réaliser cela,on écrira :\n",
    "    - Une fonction qui prend en argument les bornes de l'intervalle et le pas, et qui renvoie un tableau numpy à deux dimensions: on aura 2 lignes de N colonnes (s'il y a N racines) : pour chaque colonne il y aura dans la première ligne la borne inférieure et pour la deuxième ligne la borne supérieure pour chacun des N intervalles. \n",
    "\n",
    "    - Une boucle qui parcourrera l'intervalle de travail de pas en pas et testera si $f(x) \\times f(x+pas)<0$\n",
    "\n",
    "- Mesurer le temps de calcul (pour cela, précéder l'appel de la commande  `%timeit` : ce qui donnera l'appel `%timeit recherche(-100,100,1e-2)`).\n",
    "Attention du coup le calcul n'est pas instantané car plusieurs boucles sont faites! (vous testerez d'abord votre fonction et ensuite vous ajoutez le `%timeit`."
   ]
  },
  {
   "cell_type": "code",
   "execution_count": 12,
   "metadata": {},
   "outputs": [
    {
     "name": "stdout",
     "output_type": "stream",
     "text": [
      "43.8 ms ± 167 µs per loop (mean ± std. dev. of 7 runs, 10 loops each)\n",
      "Intervalle(s) contenant des racines :\n",
      "[[-0.69 -0.68]\n",
      " [ 0.73  0.74]\n",
      " [ 9.94  9.95]]\n"
     ]
    }
   ],
   "source": [
    "\n",
    "\n",
    "# Définition de la fonction f(x)\n",
    "def f(x):\n",
    "    return x**3 - 10*x**2 + 5\n",
    "\n",
    "# Fonction de recherche des racines\n",
    "def recherche(borne_inf, borne_sup, pas):\n",
    "    intervals = []  # Liste pour stocker les intervalles avec changement de signe\n",
    "    \n",
    "    # Boucle pour parcourir l'intervalle de travail\n",
    "    for x in np.arange(borne_inf, borne_sup, pas):\n",
    "        if f(x) * f(x + pas) < 0:\n",
    "            intervals.append([x, x + pas])\n",
    "    \n",
    "    return np.array(intervals)\n",
    "\n",
    "# Mesurer le temps de calcul\n",
    "%timeit recherche(-100, 100, 1e-2)\n",
    "\n",
    "# Exécuter la fonction et afficher les résultats\n",
    "intervals = recherche(-100, 100, 1e-2)\n",
    "print(\"Intervalle(s) contenant des racines :\")\n",
    "print(intervals)\n"
   ]
  },
  {
   "cell_type": "markdown",
   "metadata": {},
   "source": [
    "- Ecrire ensuite une fonction qui réalise la même opération mais sans boucle, en se basant sur les tableaux de numpy (utiliser arange, where.....)\n",
    "Mesurer le temps et comparer."
   ]
  },
  {
   "cell_type": "code",
   "execution_count": 13,
   "metadata": {},
   "outputs": [
    {
     "name": "stdout",
     "output_type": "stream",
     "text": [
      "1.3 ms ± 6.04 µs per loop (mean ± std. dev. of 7 runs, 1000 loops each)\n",
      "Intervalle(s) contenant des racines :\n",
      "[[-0.69 -0.68]\n",
      " [ 0.73  0.74]\n",
      " [ 9.94  9.95]]\n"
     ]
    }
   ],
   "source": [
    "# Définition de la fonction f(x)\n",
    "def f(x):\n",
    "    return x**3 - 10*x**2 + 5\n",
    "\n",
    "# Fonction de recherche des racines sans boucle\n",
    "def recherche_sans_boucle(borne_inf, borne_sup, pas):\n",
    "    x_values = np.arange(borne_inf, borne_sup, pas)\n",
    "    fx = f(x_values)\n",
    "    fx_plus_pas = f(x_values + pas)\n",
    "    sign_changes = np.where(fx * fx_plus_pas < 0)\n",
    "    intervals = np.vstack((x_values[sign_changes], x_values[sign_changes] + pas))\n",
    "    return intervals.T\n",
    "\n",
    "# Mesurer le temps de calcul\n",
    "%timeit recherche_sans_boucle(-100, 100, 1e-2)\n",
    "\n",
    "# Exécuter la fonction et afficher les résultats\n",
    "intervals = recherche_sans_boucle(-100, 100, 1e-2)\n",
    "print(\"Intervalle(s) contenant des racines :\")\n",
    "print(intervals)"
   ]
  },
  {
   "cell_type": "markdown",
   "metadata": {},
   "source": [
    "- Refaire le graphique de la première question en limitant le dessin aux valeurs de x dans $[-1,10]$ (on changera le linspace).\n",
    "\n",
    "- Ajouter sur le schéma les milieux des intervalles obtenus avec les recherches ci-dessus."
   ]
  },
  {
   "cell_type": "code",
   "execution_count": 14,
   "metadata": {},
   "outputs": [
    {
     "data": {
      "text/plain": [
       "<matplotlib.collections.PathCollection at 0x7fa2f27966b0>"
      ]
     },
     "execution_count": 14,
     "metadata": {},
     "output_type": "execute_result"
    },
    {
     "data": {
      "image/png": "[encoded data removed]",
      "text/plain": [
       "<Figure size 432x288 with 1 Axes>"
      ]
     },
     "metadata": {
      "needs_background": "light"
     },
     "output_type": "display_data"
    }
   ],
   "source": [
    "# Milieux des intervalles \n",
    "# a compléter ...\n",
    "racines = recherche_vec(-1, 10, 1e-2)  # Recherche des racines en utilisant la fonction sans boucle\n",
    "milieux = (racines[0] + racines[1]) / 2  # Calcul des milieux des intervalles\n",
    "plt.scatter(milieux, f(milieux), color='green', label='Milieux des intervalles')  # Tracé des milieux des intervalles\n",
    "\n",
    "\n",
    "# Graphique\n",
    "# à compléter ..."
   ]
  },
  {
   "cell_type": "markdown",
   "metadata": {},
   "source": [
    "## Recherche par dichotomie (ou bissection)\n",
    "\n",
    "- Ecrire une fonction de recherche d'approximation de racine par dichotomie.Vous devez ici écrire une boucle. Cette fonction affinera la recherche d'une racine, à partir d'un intervalle qui ne contient qu'une unique racine. La fonction prendra comme argument les bornes inférieures et supérieures de l'intervalle à explorer, ainsi qu'un critère d'arrêt `xtol` qui représente la précision souhaitée (largeur de l'intervalle final).\n",
    "\n",
    "- Nous prendrons comme exemple la fonction précédente ($f(x)=x^3 −10x^2 +5=0$) et nous intéresserons à la racine qui se trouve dans l'intervalle $[0.73, 0.74]$.\n",
    "\n",
    "Commencer par tracer le graphe de la fonction sur cet intervalle  puis calculer la racine par dichotomie.\n",
    "On évaluera le temps d'execution  pour cette recherche."
   ]
  },
  {
   "cell_type": "code",
   "execution_count": 17,
   "metadata": {},
   "outputs": [
    {
     "data": {
      "image/png": "[encoded data removed]",
      "text/plain": [
       "<Figure size 720x432 with 1 Axes>"
      ]
     },
     "metadata": {
      "needs_background": "light"
     },
     "output_type": "display_data"
    },
    {
     "name": "stdout",
     "output_type": "stream",
     "text": [
      "10.3 µs ± 228 ns per loop (mean ± std. dev. of 7 runs, 100000 loops each)\n",
      "Approximation de la racine par dichotomie: 0.7346035766601563\n"
     ]
    }
   ],
   "source": [
    "# Définition de la fonction f(x)\n",
    "def f(x):\n",
    "    return x**3 - 10*x**2 + 5\n",
    "\n",
    "# Fonction de recherche d'approximation de racine par dichotomie\n",
    "def dichotomie(borne_inf, borne_sup, xtol):\n",
    "    # Initialisation des bornes de l'intervalle\n",
    "    a = borne_inf\n",
    "    b = borne_sup\n",
    "    \n",
    "    # Boucle de recherche de la racine\n",
    "    while (b - a) > xtol:\n",
    "        # Calcul du point milieu\n",
    "        c = (a + b) / 2\n",
    "        \n",
    "        # Vérification du signe aux extrémités et au milieu\n",
    "        if f(a) * f(c) < 0:\n",
    "            b = c\n",
    "        else:\n",
    "            a = c\n",
    "    \n",
    "    # Retourner le point milieu de l'intervalle final comme approximation de la racine\n",
    "    return (a + b) / 2\n",
    "\n",
    "# Tracer le graphe de la fonction sur l'intervalle [0.73, 0.74]\n",
    "x_values = np.linspace(0.73, 0.74, 100)\n",
    "y_values = f(x_values)\n",
    "\n",
    "plt.figure(figsize=(10, 6))\n",
    "plt.plot(x_values, y_values, label='f(x) = x^3 - 10x^2 + 5')\n",
    "plt.axhline(0, color='red', linestyle='--', linewidth=1)  # Ajouter l'axe des abscisses (y=0) en rouge\n",
    "plt.xlabel('x')\n",
    "plt.ylabel('f(x)')\n",
    "plt.title('Graphe de la fonction f(x) sur [0.73, 0.74]')\n",
    "plt.grid(True)\n",
    "plt.legend()\n",
    "plt.show()\n",
    "\n",
    "# Calcul de la racine par dichotomie\n",
    "%timeit racine_dichotomie = dichotomie(0.73, 0.74, 1e-6)\n",
    "racine_dichotomie = dichotomie(0.73, 0.74, 1e-6)\n",
    "print(\"Approximation de la racine par dichotomie:\", racine_dichotomie)"
   ]
  },
  {
   "cell_type": "code",
   "execution_count": 26,
   "metadata": {},
   "outputs": [
    {
     "name": "stdout",
     "output_type": "stream",
     "text": [
      "17.4 µs ± 120 ns per loop (mean ± std. dev. of 7 runs, 100000 loops each)\n",
      "intervalle : (0.734603500366211, 0.7346035766601563)\n",
      "solution :  0.7346035385131837\n"
     ]
    }
   ],
   "source": [
    "def f(x):\n",
    "    return x**3 - 10*x**2 + 5\n",
    "\n",
    "def dicho(xmin, xmax, xtol):\n",
    "    a = xmin\n",
    "    b = xmax\n",
    "    \n",
    "    while (b - a) > xtol:\n",
    "        c = (a + b) / 2\n",
    "        if f(c) == 0:\n",
    "            return c\n",
    "        elif f(a) * f(c) < 0:\n",
    "            b = c\n",
    "        else:\n",
    "            a = c\n",
    "    \n",
    "    return (a, b)\n",
    "\n",
    "%timeit dicho(0.73, 0.74, 1e-7)\n",
    "intervalle = dicho(0.73, 0.74, 1e-7)\n",
    "sol = (intervalle[0] + intervalle[1]) / 2\n",
    "\n",
    "print('intervalle :', intervalle)\n",
    "print('solution : ', sol)\n"
   ]
  },
  {
   "cell_type": "markdown",
   "metadata": {},
   "source": [
    "- Effectuer la même recherche de racine,sans boucle, mais en utilisant la librairie `scipy` (fonction `scipy.optimize.bisect`).\n",
    "\n",
    "- On calculera le temps d'exécution de cette méthode et on comparera avec la méthode précédente."
   ]
  },
  {
   "cell_type": "code",
   "execution_count": 19,
   "metadata": {},
   "outputs": [
    {
     "name": "stdout",
     "output_type": "stream",
     "text": [
      "5.62 µs ± 16.2 ns per loop (mean ± std. dev. of 7 runs, 100000 loops each)\n",
      "Approximation de la racine par la méthode de dichotomie de scipy.optimize.bisect: 0.7346038818359374\n"
     ]
    }
   ],
   "source": [
    "from scipy.optimize import bisect\n",
    "%timeit racine_bisect = bisect(f, 0.73, 0.74, xtol=1e-6)\n",
    "racine_bisect = bisect(f, 0.73, 0.74, xtol=1e-6)\n",
    "print(\"Approximation de la racine par la méthode de dichotomie de scipy.optimize.bisect:\", racine_bisect)\n",
    "\n"
   ]
  },
  {
   "cell_type": "markdown",
   "metadata": {},
   "source": [
    "## Méthode de recherche de Newton-Raphson"
   ]
  },
  {
   "cell_type": "markdown",
   "metadata": {},
   "source": [
    "- Comme précédement, on implémentera (en écrivant la boucle) la méthode de Newton-Raphson (voir cours) puis on utilisera celle de scipy en utilisant la librairie `scipy` (fonction `scipy.optimize.newton`).\n",
    "  \n",
    "Le critère d'arret sera exprimé sur les valeurs de f(x), avec $|f(x)|<tol$. \n",
    "\n",
    "- Comparer les temps d'éxécution.\n",
    "\n"
   ]
  },
  {
   "cell_type": "code",
   "execution_count": 25,
   "metadata": {},
   "outputs": [
    {
     "ename": "IndentationError",
     "evalue": "expected an indented block after function definition on line 5 (3389140703.py, line 9)",
     "output_type": "error",
     "traceback": [
      "\u001b[0;36m  File \u001b[0;32m\"/tmp/ipykernel_8827/3389140703.py\"\u001b[0;36m, line \u001b[0;32m9\u001b[0m\n\u001b[0;31m    sol = newton((0.73+ 0.74)/2,1e-10)\u001b[0m\n\u001b[0m    ^\u001b[0m\n\u001b[0;31mIndentationError\u001b[0m\u001b[0;31m:\u001b[0m expected an indented block after function definition on line 5\n"
     ]
    }
   ],
   "source": [
    "#  A compléter ...\n",
    "\n",
    "#  A compléter ...\n",
    "\n",
    "def newton( x, tol=0.000001):\n",
    "    #  A compléter ...\n",
    "    #  A compléter ...\n",
    "#  A compléter ...\n",
    "sol = newton((0.73+ 0.74)/2,1e-10)\n",
    "print('solution : ',sol)"
   ]
  },
  {
   "cell_type": "code",
   "execution_count": 24,
   "metadata": {},
   "outputs": [],
   "source": [
    "#  A compléter ...\n",
    "\n",
    "#  A compléter ..."
   ]
  },
  {
   "cell_type": "markdown",
   "metadata": {},
   "source": [
    "## Combinaison de méthodes \n",
    "- Combiner la recherche itérative avec la recherche de Newton-Raphson pour trouver précisément les 3 racines de la fonction $f$. "
   ]
  },
  {
   "cell_type": "code",
   "execution_count": 18,
   "metadata": {},
   "outputs": [
    {
     "name": "stdout",
     "output_type": "stream",
     "text": [
      "Sols :  [-0.685  0.735  9.945]\n",
      "Sols : [-0.6840945657036899, 0.7346035077893033, 9.949491057914384]\n"
     ]
    }
   ],
   "source": [
    "import scipy as sp\n",
    "import scipy.optimize\n",
    "# Afficher Racines de la recherche itérative\n",
    "# A compléter ...\n",
    "# Afficher Racines par scipy.optimize.newton \n",
    "# A compléter ..."
   ]
  }
 ],
 "metadata": {
  "kernelspec": {
   "display_name": "Python 3 (ipykernel)",
   "language": "python",
   "name": "python3"
  },
  "language_info": {
   "codemirror_mode": {
    "name": "ipython",
    "version": 3
   },
   "file_extension": ".py",
   "mimetype": "text/x-python",
   "name": "python",
   "nbconvert_exporter": "python",
   "pygments_lexer": "ipython3",
   "version": "3.10.12"
  },
  "latex_envs": {
   "LaTeX_envs_menu_present": false,
   "autoclose": false,
   "autocomplete": false,
   "bibliofile": "biblio.bib",
   "cite_by": "apalike",
   "current_citInitial": 1,
   "eqLabelWithNumbers": false,
   "eqNumInitial": 1,
   "hotkeys": {
    "equation": "Ctrl-E",
    "itemize": "Ctrl-I"
   },
   "labels_anchors": false,
   "latex_user_defs": false,
   "report_style_numbering": false,
   "user_envs_cfg": false
  },
  "toc": {
   "base_numbering": 1,
   "nav_menu": {},
   "number_sections": true,
   "sideBar": true,
   "skip_h1_title": false,
   "title_cell": "Table of Contents",
   "title_sidebar": "Contents",
   "toc_cell": false,
   "toc_position": {},
   "toc_section_display": true,
   "toc_window_display": true
  },
  "vscode": {
   "interpreter": {
    "hash": "a2f5a4e5cb9685a704f3797f6942b9eb6ca9983296f40a6a598da917a934f46a"
   }
  }
 },
 "nbformat": 4,
 "nbformat_minor": 2
}
