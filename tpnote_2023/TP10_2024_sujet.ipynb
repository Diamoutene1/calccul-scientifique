{
 "cells": [
  {
   "cell_type": "markdown",
   "metadata": {
    "colab_type": "text",
    "id": "cC7TDH2cdq9t"
   },
   "source": [
    "# Calcul Scientifique -- L1\n",
    "# TP Noté -- durée 2h"
   ]
  },
  {
   "cell_type": "markdown",
   "metadata": {},
   "source": [
    "Travail réalisé par : NOM / PRENOM "
   ]
  },
  {
   "cell_type": "markdown",
   "metadata": {
    "colab": {},
    "colab_type": "code",
    "id": "K4Np-xzWbHWx"
   },
   "source": [
    "# Instructions \n",
    "\n",
    "1. Ce TP doit être fait sur les machines de l’université, individuellement.\n",
    "2. Les accès à internet sont interdits à l'exception de ecampus (votre journal d'accès internet durant l'épreuve sera conservé) \n",
    "3. Vous pouvez accéder à vos TP sur votre espace personnel.\n",
    "4. Les téléphones portables doivent être éteints au fond des sacs\n",
    "5. Il est interdit de communiquer.\n",
    "6. Vous devez rendre dans la zone prévue pour votre salle votre fichier ipynb qui doit porter votre nom en respectant l’heure de fin prévue.\n",
    "7. Les exercices sont indépendants"
   ]
  },
  {
   "cell_type": "markdown",
   "metadata": {},
   "source": [
    "## Partie I : numpy -- matplotlib <!--(12 points)-->\n",
    "\n",
    "Résoudre les questions de cette partie à l'aide de fonctions de la librairie `numpy` sans utiliser ni boucle `for` ou `while` ni d'instructions `if`.\n"
   ]
  },
  {
   "cell_type": "markdown",
   "metadata": {},
   "source": [
    "### Exercice 1 : "
   ]
  },
  {
   "cell_type": "code",
   "execution_count": 1,
   "metadata": {
    "colab": {},
    "colab_type": "code",
    "id": "4qReGPx6EaA0"
   },
   "outputs": [],
   "source": [
    "import numpy as np"
   ]
  },
  {
   "cell_type": "markdown",
   "metadata": {
    "colab_type": "text",
    "id": "nPIniktNErvT"
   },
   "source": [
    "Le tableau qui suit contient des mesures faites sur des fleurs.\n",
    "Chaque ligne du tableau contient des dimensions pour une fleur. Les colonnes, au nombre de 5, contiennent respectivement :\n",
    "\n",
    "1. longueur du sépale en cm\n",
    "2. largeur du sépale en cm\n",
    "3. longueur du pétale en cm\n",
    "4. largeur du pétale en cm\n",
    "5. le type qui est un chiffre parmi 0,1,2 qui indique le nom de la fleur.\n",
    "\n"
   ]
  },
  {
   "cell_type": "code",
   "execution_count": 2,
   "metadata": {
    "colab": {},
    "colab_type": "code",
    "id": "oT3pm12X_VdP"
   },
   "outputs": [],
   "source": [
    "iris = [[5.1,3.5,1.4,0.2,0],[4.9,3.0,1.4,0.2,0],[4.7,3.2,1.3,0.2,0],[4.6,3.1,1.5,0.2,0],[5.0,3.6,1.4,0.2,0],[5.4,3.9,1.7,0.4,0],[4.6,3.4,1.4,0.3,0],[5.0,3.4,1.5,0.2,0],[4.4,2.9,1.4,0.2,0],[4.9,3.1,1.5,0.1,0],[5.4,3.7,1.5,0.2,0],[4.8,3.4,1.6,0.2,0],[4.8,3.0,1.4,0.1,0],[4.3,3.0,1.1,0.1,0],[5.8,4.0,1.2,0.2,0],[5.7,4.4,1.5,0.4,0],[5.4,3.9,1.3,0.4,0],[5.1,3.5,1.4,0.3,0],[5.7,3.8,1.7,0.3,0],[5.1,3.8,1.5,0.3,0],[5.4,3.4,1.7,0.2,0],[5.1,3.7,1.5,0.4,0],[4.6,3.6,1.0,0.2,0],[5.1,3.3,1.7,0.5,0],[4.8,3.4,1.9,0.2,0],[5.0,3.0,1.6,0.2,0],[5.0,3.4,1.6,0.4,0],[5.2,3.5,1.5,0.2,0],[5.2,3.4,1.4,0.2,0],[4.7,3.2,1.6,0.2,0],[4.8,3.1,1.6,0.2,0],[5.4,3.4,1.5,0.4,0],[5.2,4.1,1.5,0.1,0],[5.5,4.2,1.4,0.2,0],[4.9,3.1,1.5,0.1,0],[5.0,3.2,1.2,0.2,0],[5.5,3.5,1.3,0.2,0],[4.9,3.1,1.5,0.1,0],[4.4,3.0,1.3,0.2,0],[5.1,3.4,1.5,0.2,0],[5.0,3.5,1.3,0.3,0],[4.5,2.3,1.3,0.3,0],[4.4,3.2,1.3,0.2,0],[5.0,3.5,1.6,0.6,0],[5.1,3.8,1.9,0.4,0],[4.8,3.0,1.4,0.3,0],[5.1,3.8,1.6,0.2,0],[4.6,3.2,1.4,0.2,0],[5.3,3.7,1.5,0.2,0],[5.0,3.3,1.4,0.2,0],[7.0,3.2,4.7,1.4,1],[6.4,3.2,4.5,1.5,1],[6.9,3.1,4.9,1.5,1],[5.5,2.3,4.0,1.3,1],[6.5,2.8,4.6,1.5,1],[5.7,2.8,4.5,1.3,1],[6.3,3.3,4.7,1.6,1],[4.9,2.4,3.3,1.0,1],[6.6,2.9,4.6,1.3,1],[5.2,2.7,3.9,1.4,1],[5.0,2.0,3.5,1.0,1],[5.9,3.0,4.2,1.5,1],[6.0,2.2,4.0,1.0,1],[6.1,2.9,4.7,1.4,1],[5.6,2.9,3.6,1.3,1],[6.7,3.1,4.4,1.4,1],[5.6,3.0,4.5,1.5,1],[5.8,2.7,4.1,1.0,1],[6.2,2.2,4.5,1.5,1],[5.6,2.5,3.9,1.1,1],[5.9,3.2,4.8,1.8,1],[6.1,2.8,4.0,1.3,1],[6.3,2.5,4.9,1.5,1],[6.1,2.8,4.7,1.2,1],[6.4,2.9,4.3,1.3,1],[6.6,3.0,4.4,1.4,1],[6.8,2.8,4.8,1.4,1],[6.7,3.0,5.0,1.7,1],[6.0,2.9,4.5,1.5,1],[5.7,2.6,3.5,1.0,1],[5.5,2.4,3.8,1.1,1],[5.5,2.4,3.7,1.0,1],[5.8,2.7,3.9,1.2,1],[6.0,2.7,5.1,1.6,1],[5.4,3.0,4.5,1.5,1],[6.0,3.4,4.5,1.6,1],[6.7,3.1,4.7,1.5,1],[6.3,2.3,4.4,1.3,1],[5.6,3.0,4.1,1.3,1],[5.5,2.5,4.0,1.3,1],[5.5,2.6,4.4,1.2,1],[6.1,3.0,4.6,1.4,1],[5.8,2.6,4.0,1.2,1],[5.0,2.3,3.3,1.0,1],[5.6,2.7,4.2,1.3,1],[5.7,3.0,4.2,1.2,1],[5.7,2.9,4.2,1.3,1],[6.2,2.9,4.3,1.3,1],[5.1,2.5,3.0,1.1,1],[5.7,2.8,4.1,1.3,1],[6.3,3.3,6.0,2.5,2],[5.8,2.7,5.1,1.9,2],[7.1,3.0,5.9,2.1,2],[6.3,2.9,5.6,1.8,2],[6.5,3.0,5.8,2.2,2],[7.6,3.0,6.6,2.1,2],[4.9,2.5,4.5,1.7,2],[7.3,2.9,6.3,1.8,2],[6.7,2.5,5.8,1.8,2],[7.2,3.6,6.1,2.5,2],[6.5,3.2,5.1,2.0,2],[6.4,2.7,5.3,1.9,2],[6.8,3.0,5.5,2.1,2],[5.7,2.5,5.0,2.0,2],[5.8,2.8,5.1,2.4,2],[6.4,3.2,5.3,2.3,2],[6.5,3.0,5.5,1.8,2],[7.7,3.8,6.7,2.2,2],[7.7,2.6,6.9,2.3,2],[6.0,2.2,5.0,1.5,2],[6.9,3.2,5.7,2.3,2],[5.6,2.8,4.9,2.0,2],[7.7,2.8,6.7,2.0,2],[6.3,2.7,4.9,1.8,2],[6.7,3.3,5.7,2.1,2],[7.2,3.2,6.0,1.8,2],[6.2,2.8,4.8,1.8,2],[6.1,3.0,4.9,1.8,2],[6.4,2.8,5.6,2.1,2],[7.2,3.0,5.8,1.6,2],[7.4,2.8,6.1,1.9,2],[7.9,3.8,6.4,2.0,2],[6.4,2.8,5.6,2.2,2],[6.3,2.8,5.1,1.5,2],[6.1,2.6,5.6,1.4,2],[7.7,3.0,6.1,2.3,2],[6.3,3.4,5.6,2.4,2],[6.4,3.1,5.5,1.8,2],[6.0,3.0,4.8,1.8,2],[6.9,3.1,5.4,2.1,2],[6.7,3.1,5.6,2.4,2],[6.9,3.1,5.1,2.3,2],[5.8,2.7,5.1,1.9,2],[6.8,3.2,5.9,2.3,2],[6.7,3.3,5.7,2.5,2],[6.7,3.0,5.2,2.3,2],[6.3,2.5,5.0,1.9,2],[6.5,3.0,5.2,2.0,2],[6.2,3.4,5.4,2.3,2],[5.9,3.0,5.1,1.8,2]]"
   ]
  },
  {
   "cell_type": "code",
   "execution_count": 3,
   "metadata": {
    "colab": {},
    "colab_type": "code",
    "id": "OC7TJ_tfEgmB"
   },
   "outputs": [
    {
     "data": {
      "text/plain": [
       "array([[5.1, 3.5, 1.4, 0.2, 0. ],\n",
       "       [4.9, 3. , 1.4, 0.2, 0. ],\n",
       "       [4.7, 3.2, 1.3, 0.2, 0. ],\n",
       "       [4.6, 3.1, 1.5, 0.2, 0. ],\n",
       "       [5. , 3.6, 1.4, 0.2, 0. ],\n",
       "       [5.4, 3.9, 1.7, 0.4, 0. ],\n",
       "       [4.6, 3.4, 1.4, 0.3, 0. ],\n",
       "       [5. , 3.4, 1.5, 0.2, 0. ],\n",
       "       [4.4, 2.9, 1.4, 0.2, 0. ],\n",
       "       [4.9, 3.1, 1.5, 0.1, 0. ],\n",
       "       [5.4, 3.7, 1.5, 0.2, 0. ],\n",
       "       [4.8, 3.4, 1.6, 0.2, 0. ],\n",
       "       [4.8, 3. , 1.4, 0.1, 0. ],\n",
       "       [4.3, 3. , 1.1, 0.1, 0. ],\n",
       "       [5.8, 4. , 1.2, 0.2, 0. ],\n",
       "       [5.7, 4.4, 1.5, 0.4, 0. ],\n",
       "       [5.4, 3.9, 1.3, 0.4, 0. ],\n",
       "       [5.1, 3.5, 1.4, 0.3, 0. ],\n",
       "       [5.7, 3.8, 1.7, 0.3, 0. ],\n",
       "       [5.1, 3.8, 1.5, 0.3, 0. ],\n",
       "       [5.4, 3.4, 1.7, 0.2, 0. ],\n",
       "       [5.1, 3.7, 1.5, 0.4, 0. ],\n",
       "       [4.6, 3.6, 1. , 0.2, 0. ],\n",
       "       [5.1, 3.3, 1.7, 0.5, 0. ],\n",
       "       [4.8, 3.4, 1.9, 0.2, 0. ],\n",
       "       [5. , 3. , 1.6, 0.2, 0. ],\n",
       "       [5. , 3.4, 1.6, 0.4, 0. ],\n",
       "       [5.2, 3.5, 1.5, 0.2, 0. ],\n",
       "       [5.2, 3.4, 1.4, 0.2, 0. ],\n",
       "       [4.7, 3.2, 1.6, 0.2, 0. ],\n",
       "       [4.8, 3.1, 1.6, 0.2, 0. ],\n",
       "       [5.4, 3.4, 1.5, 0.4, 0. ],\n",
       "       [5.2, 4.1, 1.5, 0.1, 0. ],\n",
       "       [5.5, 4.2, 1.4, 0.2, 0. ],\n",
       "       [4.9, 3.1, 1.5, 0.1, 0. ],\n",
       "       [5. , 3.2, 1.2, 0.2, 0. ],\n",
       "       [5.5, 3.5, 1.3, 0.2, 0. ],\n",
       "       [4.9, 3.1, 1.5, 0.1, 0. ],\n",
       "       [4.4, 3. , 1.3, 0.2, 0. ],\n",
       "       [5.1, 3.4, 1.5, 0.2, 0. ],\n",
       "       [5. , 3.5, 1.3, 0.3, 0. ],\n",
       "       [4.5, 2.3, 1.3, 0.3, 0. ],\n",
       "       [4.4, 3.2, 1.3, 0.2, 0. ],\n",
       "       [5. , 3.5, 1.6, 0.6, 0. ],\n",
       "       [5.1, 3.8, 1.9, 0.4, 0. ],\n",
       "       [4.8, 3. , 1.4, 0.3, 0. ],\n",
       "       [5.1, 3.8, 1.6, 0.2, 0. ],\n",
       "       [4.6, 3.2, 1.4, 0.2, 0. ],\n",
       "       [5.3, 3.7, 1.5, 0.2, 0. ],\n",
       "       [5. , 3.3, 1.4, 0.2, 0. ],\n",
       "       [7. , 3.2, 4.7, 1.4, 1. ],\n",
       "       [6.4, 3.2, 4.5, 1.5, 1. ],\n",
       "       [6.9, 3.1, 4.9, 1.5, 1. ],\n",
       "       [5.5, 2.3, 4. , 1.3, 1. ],\n",
       "       [6.5, 2.8, 4.6, 1.5, 1. ],\n",
       "       [5.7, 2.8, 4.5, 1.3, 1. ],\n",
       "       [6.3, 3.3, 4.7, 1.6, 1. ],\n",
       "       [4.9, 2.4, 3.3, 1. , 1. ],\n",
       "       [6.6, 2.9, 4.6, 1.3, 1. ],\n",
       "       [5.2, 2.7, 3.9, 1.4, 1. ],\n",
       "       [5. , 2. , 3.5, 1. , 1. ],\n",
       "       [5.9, 3. , 4.2, 1.5, 1. ],\n",
       "       [6. , 2.2, 4. , 1. , 1. ],\n",
       "       [6.1, 2.9, 4.7, 1.4, 1. ],\n",
       "       [5.6, 2.9, 3.6, 1.3, 1. ],\n",
       "       [6.7, 3.1, 4.4, 1.4, 1. ],\n",
       "       [5.6, 3. , 4.5, 1.5, 1. ],\n",
       "       [5.8, 2.7, 4.1, 1. , 1. ],\n",
       "       [6.2, 2.2, 4.5, 1.5, 1. ],\n",
       "       [5.6, 2.5, 3.9, 1.1, 1. ],\n",
       "       [5.9, 3.2, 4.8, 1.8, 1. ],\n",
       "       [6.1, 2.8, 4. , 1.3, 1. ],\n",
       "       [6.3, 2.5, 4.9, 1.5, 1. ],\n",
       "       [6.1, 2.8, 4.7, 1.2, 1. ],\n",
       "       [6.4, 2.9, 4.3, 1.3, 1. ],\n",
       "       [6.6, 3. , 4.4, 1.4, 1. ],\n",
       "       [6.8, 2.8, 4.8, 1.4, 1. ],\n",
       "       [6.7, 3. , 5. , 1.7, 1. ],\n",
       "       [6. , 2.9, 4.5, 1.5, 1. ],\n",
       "       [5.7, 2.6, 3.5, 1. , 1. ],\n",
       "       [5.5, 2.4, 3.8, 1.1, 1. ],\n",
       "       [5.5, 2.4, 3.7, 1. , 1. ],\n",
       "       [5.8, 2.7, 3.9, 1.2, 1. ],\n",
       "       [6. , 2.7, 5.1, 1.6, 1. ],\n",
       "       [5.4, 3. , 4.5, 1.5, 1. ],\n",
       "       [6. , 3.4, 4.5, 1.6, 1. ],\n",
       "       [6.7, 3.1, 4.7, 1.5, 1. ],\n",
       "       [6.3, 2.3, 4.4, 1.3, 1. ],\n",
       "       [5.6, 3. , 4.1, 1.3, 1. ],\n",
       "       [5.5, 2.5, 4. , 1.3, 1. ],\n",
       "       [5.5, 2.6, 4.4, 1.2, 1. ],\n",
       "       [6.1, 3. , 4.6, 1.4, 1. ],\n",
       "       [5.8, 2.6, 4. , 1.2, 1. ],\n",
       "       [5. , 2.3, 3.3, 1. , 1. ],\n",
       "       [5.6, 2.7, 4.2, 1.3, 1. ],\n",
       "       [5.7, 3. , 4.2, 1.2, 1. ],\n",
       "       [5.7, 2.9, 4.2, 1.3, 1. ],\n",
       "       [6.2, 2.9, 4.3, 1.3, 1. ],\n",
       "       [5.1, 2.5, 3. , 1.1, 1. ],\n",
       "       [5.7, 2.8, 4.1, 1.3, 1. ],\n",
       "       [6.3, 3.3, 6. , 2.5, 2. ],\n",
       "       [5.8, 2.7, 5.1, 1.9, 2. ],\n",
       "       [7.1, 3. , 5.9, 2.1, 2. ],\n",
       "       [6.3, 2.9, 5.6, 1.8, 2. ],\n",
       "       [6.5, 3. , 5.8, 2.2, 2. ],\n",
       "       [7.6, 3. , 6.6, 2.1, 2. ],\n",
       "       [4.9, 2.5, 4.5, 1.7, 2. ],\n",
       "       [7.3, 2.9, 6.3, 1.8, 2. ],\n",
       "       [6.7, 2.5, 5.8, 1.8, 2. ],\n",
       "       [7.2, 3.6, 6.1, 2.5, 2. ],\n",
       "       [6.5, 3.2, 5.1, 2. , 2. ],\n",
       "       [6.4, 2.7, 5.3, 1.9, 2. ],\n",
       "       [6.8, 3. , 5.5, 2.1, 2. ],\n",
       "       [5.7, 2.5, 5. , 2. , 2. ],\n",
       "       [5.8, 2.8, 5.1, 2.4, 2. ],\n",
       "       [6.4, 3.2, 5.3, 2.3, 2. ],\n",
       "       [6.5, 3. , 5.5, 1.8, 2. ],\n",
       "       [7.7, 3.8, 6.7, 2.2, 2. ],\n",
       "       [7.7, 2.6, 6.9, 2.3, 2. ],\n",
       "       [6. , 2.2, 5. , 1.5, 2. ],\n",
       "       [6.9, 3.2, 5.7, 2.3, 2. ],\n",
       "       [5.6, 2.8, 4.9, 2. , 2. ],\n",
       "       [7.7, 2.8, 6.7, 2. , 2. ],\n",
       "       [6.3, 2.7, 4.9, 1.8, 2. ],\n",
       "       [6.7, 3.3, 5.7, 2.1, 2. ],\n",
       "       [7.2, 3.2, 6. , 1.8, 2. ],\n",
       "       [6.2, 2.8, 4.8, 1.8, 2. ],\n",
       "       [6.1, 3. , 4.9, 1.8, 2. ],\n",
       "       [6.4, 2.8, 5.6, 2.1, 2. ],\n",
       "       [7.2, 3. , 5.8, 1.6, 2. ],\n",
       "       [7.4, 2.8, 6.1, 1.9, 2. ],\n",
       "       [7.9, 3.8, 6.4, 2. , 2. ],\n",
       "       [6.4, 2.8, 5.6, 2.2, 2. ],\n",
       "       [6.3, 2.8, 5.1, 1.5, 2. ],\n",
       "       [6.1, 2.6, 5.6, 1.4, 2. ],\n",
       "       [7.7, 3. , 6.1, 2.3, 2. ],\n",
       "       [6.3, 3.4, 5.6, 2.4, 2. ],\n",
       "       [6.4, 3.1, 5.5, 1.8, 2. ],\n",
       "       [6. , 3. , 4.8, 1.8, 2. ],\n",
       "       [6.9, 3.1, 5.4, 2.1, 2. ],\n",
       "       [6.7, 3.1, 5.6, 2.4, 2. ],\n",
       "       [6.9, 3.1, 5.1, 2.3, 2. ],\n",
       "       [5.8, 2.7, 5.1, 1.9, 2. ],\n",
       "       [6.8, 3.2, 5.9, 2.3, 2. ],\n",
       "       [6.7, 3.3, 5.7, 2.5, 2. ],\n",
       "       [6.7, 3. , 5.2, 2.3, 2. ],\n",
       "       [6.3, 2.5, 5. , 1.9, 2. ],\n",
       "       [6.5, 3. , 5.2, 2. , 2. ],\n",
       "       [6.2, 3.4, 5.4, 2.3, 2. ],\n",
       "       [5.9, 3. , 5.1, 1.8, 2. ]])"
      ]
     },
     "metadata": {},
     "output_type": "display_data"
    }
   ],
   "source": [
    "# à compléter\n",
    "iris1=np.array(iris)\n",
    "display(iris1)"
   ]
  },
  {
   "cell_type": "markdown",
   "metadata": {
    "colab_type": "text",
    "id": "eZHyIGb3F1qA"
   },
   "source": [
    "<hr/>\n",
    "1) Après avoir converti le tableau en 'array' numpy, déterminer et afficher le nombre de fleurs total (nombre de lignes du tableau) et le nombre de fleurs de chacune des trois types.  "
   ]
  },
  {
   "cell_type": "code",
   "execution_count": 4,
   "metadata": {
    "colab": {
     "base_uri": "https://localhost:8080/",
     "height": 85
    },
    "colab_type": "code",
    "id": "6FHPP1koEocp",
    "outputId": "8af77cab-a94f-4726-a73e-076de2f5d812"
   },
   "outputs": [
    {
     "name": "stdout",
     "output_type": "stream",
     "text": [
      "Nombre total de fleurs : 150\n",
      "Nombre de fleurs de type 0 : 50\n",
      "Nombre de fleurs de type 1 : 50\n",
      "Nombre de fleurs de type 2 : 50\n"
     ]
    }
   ],
   "source": [
    "# à compléter\n",
    "# Nombre total de fleurs (nombre de lignes)\n",
    "nb_total_fleurs = iris1.shape[0]\n",
    "\n",
    "# Nombre de fleurs de chaque type (en comptant le nombre de lignes où le dernier élément est 0, 1 ou 2)\n",
    "nb_fleurs_type_0 = np.sum(iris1[:, -1] == 0)\n",
    "nb_fleurs_type_1 = np.sum(iris1[:, -1] == 1)\n",
    "nb_fleurs_type_2 = np.sum(iris1[:, -1] == 2)\n",
    "\n",
    "# Affichage des résultats\n",
    "print(\"Nombre total de fleurs :\", nb_total_fleurs)\n",
    "print(\"Nombre de fleurs de type 0 :\", nb_fleurs_type_0)\n",
    "print(\"Nombre de fleurs de type 1 :\", nb_fleurs_type_1)\n",
    "print(\"Nombre de fleurs de type 2 :\", nb_fleurs_type_2)"
   ]
  },
  {
   "cell_type": "markdown",
   "metadata": {
    "colab_type": "text",
    "id": "occHCCdgHMTP"
   },
   "source": [
    "<hr/>\n",
    "2) Calculer pour l'ensemble des fleurs de type 2  les valeurs moyennes des 4 mesures (longueur sépale, largeur sépale, longueur pétale, largeur pétale)."
   ]
  },
  {
   "cell_type": "code",
   "execution_count": 5,
   "metadata": {
    "colab": {
     "base_uri": "https://localhost:8080/",
     "height": 34
    },
    "colab_type": "code",
    "id": "fOvR9TdhE5VU",
    "outputId": "8f862194-9a00-4f84-abcc-84e528723a31"
   },
   "outputs": [
    {
     "name": "stdout",
     "output_type": "stream",
     "text": [
      "Moyennes des mesures pour les fleurs de type 2 :\n",
      "Longueur sépale moyenne : 6.587999999999998\n",
      "Largeur sépale moyenne : 2.9739999999999998\n",
      "Longueur pétale moyenne : 5.552\n",
      "Largeur pétale moyenne : 2.026\n"
     ]
    }
   ],
   "source": [
    "# à compléter\n",
    "# Sélectionner les lignes correspondant aux fleurs de type 2\n",
    "fleurs_type_2 = iris1[iris1[:, -1] == 2, :]\n",
    "\n",
    "# Calculer les moyennes des mesures pour les fleurs de type 2\n",
    "moyenne_mesures_type_2 = np.mean(fleurs_type_2[:, :-1], axis=0)\n",
    "\n",
    "# Afficher les moyennes des mesures pour les fleurs de type 2\n",
    "print(\"Moyennes des mesures pour les fleurs de type 2 :\")\n",
    "print(\"Longueur sépale moyenne :\", moyenne_mesures_type_2[0])\n",
    "print(\"Largeur sépale moyenne :\", moyenne_mesures_type_2[1])\n",
    "print(\"Longueur pétale moyenne :\", moyenne_mesures_type_2[2])\n",
    "print(\"Largeur pétale moyenne :\", moyenne_mesures_type_2[3])\n"
   ]
  },
  {
   "cell_type": "markdown",
   "metadata": {},
   "source": [
    "<hr/>\n",
    "\n",
    "3) Calculer les valeurs moyennes sur l'ensemble des classes des 4  mesures  (longueur sépales, largeur sépales, longueur pétales, largeur pétales).\n",
    "\n",
    "<hr/> \n",
    "\n",
    "Visualiser ces résultats comme sur le  graphique ci-dessous (barres verticales)"
   ]
  },
  {
   "cell_type": "code",
   "execution_count": 6,
   "metadata": {},
   "outputs": [
    {
     "data": {
      "image/png": "[encoded data removed]",
      "text/plain": [
       "<Figure size 720x432 with 1 Axes>"
      ]
     },
     "metadata": {
      "needs_background": "light"
     },
     "output_type": "display_data"
    }
   ],
   "source": [
    "# à compléter\n",
    "\n",
    "import matplotlib.pyplot as plt\n",
    "%matplotlib inline\n",
    "\n",
    "# à compléter\n",
    "# Calculer les valeurs moyennes des mesures pour chaque classe\n",
    "moyennes_par_classe = np.mean(iris1[:, :-1], axis=0)\n",
    "\n",
    "# Noms des mesures\n",
    "mesures = ['Longueur sépale', 'Largeur sépale', 'Longueur pétale', 'Largeur pétale']\n",
    "\n",
    "# Créer un graphique à barres verticales\n",
    "plt.figure(figsize=(10, 6))\n",
    "plt.bar(mesures, moyennes_par_classe, color='blue')\n",
    "\n",
    "# Ajouter des titres et des labels\n",
    "plt.title('Valeurs moyennes des mesures par classe')\n",
    "plt.xlabel('Mesures')\n",
    "plt.ylabel('Valeurs moyennes')\n",
    "plt.xticks(rotation=45)\n",
    "\n",
    "# Afficher le graphique\n",
    "plt.show()\n"
   ]
  },
  {
   "cell_type": "markdown",
   "metadata": {},
   "source": [
    "\n",
    "4)  On considère les 4 tableaux relévés suivants:\n",
    "\n",
    "longs: qui contient les longueurs de sépales pour l'ensemble des fleurs\n",
    "\n",
    "largs: qui contient les largeurs de sépales pour l'ensemble des fleurs\n",
    "\n",
    "longp: qui contient les longueurs de pétales pour l'ensemble des fleurs\n",
    "\n",
    "largp: qui contient les largeurs de pétales pour l'ensemble des fleurs\n",
    "\n",
    "Calculer ces 4 tableaux.\n",
    "\n",
    "Faire un schéma pour ces 4 relevés en fonction du numéro de la fleur(à partir de 1). Le schéma doit etre semblable à celui donné ci-dessous (légende, grille, couleurs , points)."
   ]
  },
  {
   "cell_type": "code",
   "execution_count": 14,
   "metadata": {},
   "outputs": [
    {
     "data": {
      "image/png": "[encoded data removed]",
      "text/plain": [
       "<Figure size 864x576 with 1 Axes>"
      ]
     },
     "metadata": {
      "needs_background": "light"
     },
     "output_type": "display_data"
    }
   ],
   "source": [
    "import matplotlib.pyplot as plt\n",
    "%matplotlib inline\n",
    "# à compléter\n",
    "\n",
    "\n",
    "\n",
    "# Extraire les mesures pour chaque dimension\n",
    "longs = iris1[:, 0]\n",
    "largs = iris1[:, 1]\n",
    "longp = iris1[:, 2]\n",
    "largp = iris1[:, 3]\n",
    "# Créer une figure et un sous-graphique\n",
    "fig, ax = plt.subplots(figsize=(12, 8))\n",
    "# Tracer les mesures pour chaque dimension avec un style de ligne en tiret\n",
    "ax.plot(range(1, len(longs) + 1), longs, color='blue', marker='o', linestyle='-', label='Longueur sépales')\n",
    "ax.plot(range(1, len(largs) + 1), largs, color='green', marker='o', linestyle='-', label='Largeur sépales')\n",
    "ax.plot(range(1, len(longp) + 1), longp, color='red', marker='o', linestyle='-', label='Longueur pétales')\n",
    "ax.plot(range(1, len(largp) + 1), largp, color='orange', marker='o', linestyle='-', label='Largeur pétales')\n",
    "\n",
    "# Ajouter une légende, une grille et un titre\n",
    "ax.legend()\n",
    "ax.grid(True)\n",
    "ax.set_title('Caractéristiques des fleurs')\n",
    "\n",
    "# Afficher le schéma\n",
    "plt.show()\n",
    "\n",
    "\n"
   ]
  },
  {
   "cell_type": "markdown",
   "metadata": {
    "colab_type": "text",
    "id": "HLRt7sUMJDjp"
   },
   "source": [
    "<hr/>\n",
    "5) On reprend les deux tableaux longp et largp qui regroupent respectivement toutes les longueurs des pétales (colonne2)  et toutes les largeurs des pétales (colonne 3)\n",
    "\n",
    "Tracer un graphique donnant la largeur des pétales (colonne 3) en fonction de la longueur des pétales (colonne 2), pour l'ensemble des 150 fleurs. \n"
   ]
  },
  {
   "cell_type": "code",
   "execution_count": 15,
   "metadata": {
    "colab": {
     "base_uri": "https://localhost:8080/",
     "height": 365
    },
    "colab_type": "code",
    "id": "rvcCyFeeYuhW",
    "outputId": "2cbf62d0-d9d0-4660-f55a-c1318eb5e2a2"
   },
   "outputs": [
    {
     "data": {
      "image/png": "[encoded data removed]",
      "text/plain": [
       "<Figure size 720x432 with 1 Axes>"
      ]
     },
     "metadata": {
      "needs_background": "light"
     },
     "output_type": "display_data"
    }
   ],
   "source": [
    "# à compléter\n",
    "import matplotlib.pyplot as plt\n",
    "\n",
    "# Créer une figure et un sous-graphique\n",
    "fig, ax = plt.subplots(figsize=(10, 6))\n",
    "\n",
    "# Tracer la largeur des pétales en fonction de la longueur des pétales\n",
    "ax.scatter(longp, largp, color='blue', marker='o')\n",
    "\n",
    "# Ajouter des étiquettes et un titre\n",
    "ax.set_xlabel('Longueur des pétales')\n",
    "ax.set_ylabel('Largeur des pétales')\n",
    "ax.set_title('Largeur des pétales en fonction de la longueur des pétales')\n",
    "\n",
    "# Afficher le graphique\n",
    "plt.show()\n"
   ]
  },
  {
   "cell_type": "markdown",
   "metadata": {
    "colab_type": "text",
    "id": "wZ3S1LR-e-GZ"
   },
   "source": [
    "<hr/>\n",
    "6) En supposant qu'il existe une relation de type $y=a*x+b$ liant la largeur ($y$) avec la longueur ($x$), trouver au moyen d'une technique d'ajustement de courbe, les valeurs optimales de $a$ et $b$, de manière à ce que la droite passe au mieux par tous les points. \n",
    "\n"
   ]
  },
  {
   "cell_type": "code",
   "execution_count": 16,
   "metadata": {
    "colab": {
     "base_uri": "https://localhost:8080/",
     "height": 296
    },
    "colab_type": "code",
    "id": "AOuh3hMWQGKB",
    "outputId": "0106e003-ffc2-459e-ace9-ca890abb197c"
   },
   "outputs": [
    {
     "name": "stdout",
     "output_type": "stream",
     "text": [
      "Valeur optimale de a : 0.4164191327469227\n",
      "Valeur optimale de b : -0.36651404713788666\n"
     ]
    }
   ],
   "source": [
    "from scipy.optimize import curve_fit\n",
    "\n",
    "# à compléter\n",
    "# Définition de la fonction linéaire\n",
    "def linear_function(x, a, b):\n",
    "    return a * x + b\n",
    "\n",
    "# Ajustement de la courbe\n",
    "popt, _ = curve_fit(linear_function, longp, largp)\n",
    "\n",
    "# Récupération des valeurs optimales de a et b\n",
    "a_optimal, b_optimal = popt\n",
    "\n",
    "print(\"Valeur optimale de a :\", a_optimal)\n",
    "print(\"Valeur optimale de b :\", b_optimal)"
   ]
  },
  {
   "cell_type": "markdown",
   "metadata": {},
   "source": [
    "<hr/>\n",
    "7) Refaire le graphique en ajoutant la courbe déterminée ci-dessus sur le dessin. "
   ]
  },
  {
   "cell_type": "code",
   "execution_count": 17,
   "metadata": {},
   "outputs": [
    {
     "data": {
      "image/png": "[encoded data removed]",
      "text/plain": [
       "<Figure size 720x432 with 1 Axes>"
      ]
     },
     "metadata": {
      "needs_background": "light"
     },
     "output_type": "display_data"
    }
   ],
   "source": [
    "# à compléter\n",
    "# Création du graphique\n",
    "plt.figure(figsize=(10, 6))\n",
    "\n",
    "# Tracé des données\n",
    "plt.scatter(longp, largp, color='blue', label='Données')\n",
    "\n",
    "# Tracé de la courbe ajustée\n",
    "plt.plot(longp, linear_function(longp, a_optimal, b_optimal), color='red', linestyle='-', label='Courbe ajustée')\n",
    "\n",
    "# Ajout de légendes et de titre\n",
    "plt.xlabel('Longueur des pétales')\n",
    "plt.ylabel('Largeur des pétales')\n",
    "plt.title('Ajustement linéaire de la largeur des pétales en fonction de la longueur')\n",
    "plt.legend()\n",
    "\n",
    "# Affichage du graphique\n",
    "plt.grid(True)\n",
    "plt.show()"
   ]
  },
  {
   "cell_type": "markdown",
   "metadata": {},
   "source": [
    "<hr/> \n",
    "8) Utiliser le résultat précédent pour donner une estimation de la largeur d'un pétale mesurant 2.5 cm de long"
   ]
  },
  {
   "cell_type": "code",
   "execution_count": 18,
   "metadata": {},
   "outputs": [
    {
     "name": "stdout",
     "output_type": "stream",
     "text": [
      "Estimation de la largeur d'un pétale de 2.5 cm de long : 0.6745337847294202 cm\n"
     ]
    }
   ],
   "source": [
    "# à compléter\n",
    "# Longueur du pétale à estimer\n",
    "longueur_petale = 2.5\n",
    "\n",
    "# Estimation de la largeur du pétale\n",
    "largeur_estimee = linear_function(longueur_petale, a_optimal, b_optimal)\n",
    "\n",
    "print(\"Estimation de la largeur d'un pétale de 2.5 cm de long :\", largeur_estimee, \"cm\")\n"
   ]
  },
  {
   "cell_type": "markdown",
   "metadata": {},
   "source": [
    "<hr/>\n",
    "9) Quelqu'un pense qu'il faut plutôt prendre une courbe $y=cx^2+dx+e$\n",
    "\n",
    "Refaites l'optimisation et le dessin avec les deux courbes."
   ]
  },
  {
   "cell_type": "code",
   "execution_count": 26,
   "metadata": {},
   "outputs": [
    {
     "name": "stdout",
     "output_type": "stream",
     "text": [
      "Valeur optimale de c : -0.0026803025815989386\n",
      "Valeur optimale de d : 0.43528717556266244\n",
      "Valeur optimale de e : -0.3912779199676333\n"
     ]
    }
   ],
   "source": [
    "longueur_petale_data = [row[2] for row in iris]\n",
    "largeur_petale_data = [row[3] for row in iris]\n",
    "\n",
    "# Définir la fonction quadratique\n",
    "def quadratic_function(x, c, d, e):\n",
    "    return c * x**2 + d * x + e\n",
    "\n",
    "# Ajustement de la courbe aux données avec la fonction quadratique\n",
    "params_quad, _ = curve_fit(quadratic_function, longueur_petale_data, largeur_petale_data)\n",
    "\n",
    "# Récupérer les paramètres optimaux de la fonction quadratique\n",
    "c_optimal_quad, d_optimal_quad, e_optimal_quad = params_quad\n",
    "\n",
    "print(\"Valeur optimale de c :\", c_optimal_quad)\n",
    "print(\"Valeur optimale de d :\", d_optimal_quad)\n",
    "print(\"Valeur optimale de e :\", e_optimal_quad)"
   ]
  },
  {
   "cell_type": "code",
   "execution_count": 36,
   "metadata": {},
   "outputs": [
    {
     "data": {
      "image/png": "[encoded data removed]",
      "text/plain": [
       "<Figure size 720x432 with 1 Axes>"
      ]
     },
     "metadata": {
      "needs_background": "light"
     },
     "output_type": "display_data"
    }
   ],
   "source": [
    "import numpy as np\n",
    "from scipy.optimize import curve_fit\n",
    "import matplotlib.pyplot as plt\n",
    "\n",
    "# Supposons que iris soit un tableau NumPy contenant vos données\n",
    "# longueur_petale_data contiendra les données de la longueur des pétales\n",
    "longueur_petale_data = [row[2] for row in iris]\n",
    "\n",
    "# largeur_petale_data contiendra les données de la largeur des pétales\n",
    "largeur_petale_data = [row[3] for row in iris]\n",
    "\n",
    "# Convertir les listes en tableaux NumPy pour effectuer les opérations\n",
    "longueur_petale_data = np.array(longueur_petale_data)\n",
    "largeur_petale_data = np.array(largeur_petale_data)\n",
    "\n",
    "# Définir la fonction linéaire\n",
    "def linear_function(x, a, b):\n",
    "    return a * x + b\n",
    "\n",
    "# Ajustement de la courbe aux données avec la fonction linéaire\n",
    "params_linear, _ = curve_fit(linear_function, longueur_petale_data, largeur_petale_data)\n",
    "\n",
    "# Récupérer les paramètres optimaux de la fonction linéaire\n",
    "a_optimal_linear, b_optimal_linear = params_linear\n",
    "\n",
    "# Définir la fonction quadratique\n",
    "def quadratic_function(x, c, d, e):\n",
    "    return c * x**2 + d * x + e\n",
    "\n",
    "# Ajustement de la courbe aux données avec la fonction quadratique\n",
    "params_quad, _ = curve_fit(quadratic_function, longueur_petale_data, largeur_petale_data)\n",
    "\n",
    "# Récupérer les paramètres optimaux de la fonction quadratique\n",
    "c_optimal_quad, d_optimal_quad, e_optimal_quad = params_quad\n",
    "\n",
    "# Créer le graphique\n",
    "plt.figure(figsize=(10, 6))\n",
    "\n",
    "# Tracer les données\n",
    "plt.scatter(longueur_petale_data, largeur_petale_data)\n",
    "\n",
    "# Tracer la courbe ajustée avec la fonction linéaire\n",
    "plt.plot(longueur_petale_data, linear_function(longueur_petale_data, a_optimal_linear, b_optimal_linear), color='green', linestyle='-', label='parabole')\n",
    "\n",
    "# Tracer la courbe ajustée avec la fonction quadratique\n",
    "plt.plot(longueur_petale_data, quadratic_function(longueur_petale_data, c_optimal_quad, d_optimal_quad, e_optimal_quad), color='red', linestyle='-', label='droite')\n",
    "\n",
    "# Ajouter des titres et des légendes\n",
    "plt.title('Ajustement de courbe - Linéaire vs Quadratique')\n",
    "plt.xlabel('Longueur du pétale (cm)')\n",
    "plt.ylabel('Largeur du pétale (cm)')\n",
    "plt.legend()\n",
    "plt.grid(True)\n",
    "\n",
    "# Afficher le graphique\n",
    "plt.show()\n"
   ]
  },
  {
   "cell_type": "markdown",
   "metadata": {},
   "source": [
    "<hr/>\n",
    "10) Pour comparer calculer la somme des valeurs absolues des résidus c'est à dire\n",
    "\n",
    "$\\sum |y_i - f(x_i)|$ pour chacune des fonctions."
   ]
  },
  {
   "cell_type": "code",
   "execution_count": 41,
   "metadata": {},
   "outputs": [
    {
     "name": "stdout",
     "output_type": "stream",
     "text": [
      "23.73126621656111\n"
     ]
    }
   ],
   "source": [
    "# à compléter\n",
    "# Calcul des valeurs ajustées\n",
    "valeurs_ajustees_quadratique = quadratic_function(longueur_petale_data, c_optimal_quad, d_optimal_quad, e_optimal_quad)\n",
    "\n",
    "# Calcul des résidus\n",
    "residus_quadratique = np.abs(largeur_petale_data - valeurs_ajustees_quadratique)\n",
    "\n",
    "\n",
    "# Somme des valeurs absolues des résidus\n",
    "somme_residus_quadratique = np.sum(residus_quadratique)\n",
    "\n",
    "print(somme_residus_quadratique)\n",
    "\n",
    "\n"
   ]
  },
  {
   "cell_type": "markdown",
   "metadata": {},
   "source": [
    "### Exercice 2:"
   ]
  },
  {
   "cell_type": "markdown",
   "metadata": {},
   "source": [
    "1) Créer un tableau de taille 7x5, le remplir de valeurs aléatoires comprises entre 1 et 3 (compris) , calculer\n",
    "- la somme de toutes les valeurs \n",
    "- la somme de chaque colonne\n",
    "- le nombre de 2 dans le tableau\n"
   ]
  },
  {
   "cell_type": "code",
   "execution_count": 162,
   "metadata": {},
   "outputs": [
    {
     "data": {
      "text/plain": [
       "array([[3, 2, 1, 1, 1],\n",
       "       [1, 3, 3, 3, 1],\n",
       "       [1, 1, 2, 3, 1],\n",
       "       [3, 1, 3, 3, 2],\n",
       "       [2, 1, 1, 2, 1],\n",
       "       [2, 2, 1, 1, 3],\n",
       "       [3, 3, 1, 2, 1]])"
      ]
     },
     "metadata": {},
     "output_type": "display_data"
    },
    {
     "data": {
      "text/plain": [
       "65"
      ]
     },
     "metadata": {},
     "output_type": "display_data"
    },
    {
     "data": {
      "text/plain": [
       "array([15, 13, 12, 15, 10])"
      ]
     },
     "metadata": {},
     "output_type": "display_data"
    },
    {
     "name": "stdout",
     "output_type": "stream",
     "text": [
      "\n",
      "Nombre de 2 dans le tableau : 8\n"
     ]
    }
   ],
   "source": [
    "import numpy as np\n",
    "# à compléter\n",
    "t=np.random.randint(1,4,size=(7,5))\n",
    "display(t)\n",
    "#somme des valuers\n",
    "somme=np.sum(t)\n",
    "display(somme)\n",
    "#somme de chaque colone\n",
    "somme_colonnes = np.sum(t, axis=0)\n",
    "display(somme_colonnes)\n",
    "\n",
    "nombre_de_deux = np.count_nonzero(t == 2)\n",
    "\n",
    "# Afficher le nombre d'occurrences du nombre 2\n",
    "print(\"\\nNombre de 2 dans le tableau :\", nombre_de_deux)\n"
   ]
  },
  {
   "cell_type": "markdown",
   "metadata": {},
   "source": [
    "\n",
    "2)  Créer un tableau numpy de taille 10x10 et le remplir de valeurs aléatoires entières  comprises entre 1 et 10 (compris). \n",
    "- Remplacer toutes les valeurs inférieures ou égales à 2 par 0 et celle supérieures ou égales à 8 par 10.\n",
    "- Mettre une colonne sur 3 à -1 (à partir de la colonne de gauche)\n",
    "- Mettre un -2 dans les cases qui ont un indice pairs pour la ligne et pour la colonne\n",
    "\n"
   ]
  },
  {
   "cell_type": "code",
   "execution_count": 177,
   "metadata": {},
   "outputs": [
    {
     "data": {
      "text/plain": [
       "array([[ 9,  4,  5, 10,  2,  4,  2,  5,  9,  2],\n",
       "       [ 6,  5,  1, 10,  7,  5,  4,  8,  2,  8],\n",
       "       [ 9,  5,  1,  3,  3,  7,  2,  7,  8,  8],\n",
       "       [ 7,  8,  5,  9,  4,  6,  1,  7,  1, 10],\n",
       "       [10,  1,  4,  7, 10,  8,  2,  1,  8,  5],\n",
       "       [ 7,  6,  7,  4,  3,  6,  5,  1,  4,  8],\n",
       "       [ 8,  6,  7,  9,  1, 10,  1,  9,  5,  5],\n",
       "       [ 4,  3, 10,  6,  1,  8,  8,  7, 10,  7],\n",
       "       [ 3,  7,  7,  4,  4, 10,  3, 10,  1, 10],\n",
       "       [ 5,  3,  6,  9,  5,  2,  8,  9,  2,  7]])"
      ]
     },
     "metadata": {},
     "output_type": "display_data"
    }
   ],
   "source": [
    "# à compléter\n",
    "t1=np.random.randint(1,11,size=(10,10))\n",
    "display(t1)\n"
   ]
  },
  {
   "cell_type": "code",
   "execution_count": 179,
   "metadata": {
    "scrolled": true
   },
   "outputs": [
    {
     "data": {
      "text/plain": [
       "array([[10,  4,  5, 10,  0,  4,  0,  5, 10,  0],\n",
       "       [ 6,  5,  0, 10,  7,  5,  4, 10,  0, 10],\n",
       "       [10,  5,  0,  3,  3,  7,  0,  7, 10, 10],\n",
       "       [ 7, 10,  5, 10,  4,  6,  0,  7,  0, 10],\n",
       "       [10,  0,  4,  7, 10, 10,  0,  0, 10,  5],\n",
       "       [ 7,  6,  7,  4,  3,  6,  5,  0,  4, 10],\n",
       "       [10,  6,  7, 10,  0, 10,  0, 10,  5,  5],\n",
       "       [ 4,  3, 10,  6,  0, 10, 10,  7, 10,  7],\n",
       "       [ 3,  7,  7,  4,  4, 10,  3, 10,  0, 10],\n",
       "       [ 5,  3,  6, 10,  5,  0, 10, 10,  0,  7]])"
      ]
     },
     "metadata": {},
     "output_type": "display_data"
    }
   ],
   "source": [
    "# à compléter\n",
    "t1[t1 <= 2] = 0\n",
    "t1[t1>=8]=10\n",
    "display(t1)"
   ]
  },
  {
   "cell_type": "code",
   "execution_count": 180,
   "metadata": {},
   "outputs": [
    {
     "data": {
      "text/plain": [
       "array([[-1,  4,  5, -1,  0,  4, -1,  5, 10, -1],\n",
       "       [-1,  5,  0, -1,  7,  5, -1, 10,  0, -1],\n",
       "       [-1,  5,  0, -1,  3,  7, -1,  7, 10, -1],\n",
       "       [-1, 10,  5, -1,  4,  6, -1,  7,  0, -1],\n",
       "       [-1,  0,  4, -1, 10, 10, -1,  0, 10, -1],\n",
       "       [-1,  6,  7, -1,  3,  6, -1,  0,  4, -1],\n",
       "       [-1,  6,  7, -1,  0, 10, -1, 10,  5, -1],\n",
       "       [-1,  3, 10, -1,  0, 10, -1,  7, 10, -1],\n",
       "       [-1,  7,  7, -1,  4, 10, -1, 10,  0, -1],\n",
       "       [-1,  3,  6, -1,  5,  0, -1, 10,  0, -1]])"
      ]
     },
     "metadata": {},
     "output_type": "display_data"
    }
   ],
   "source": [
    "# à complétertableau\n",
    "t1[:, ::3] = -1\n",
    "display(t1)\n"
   ]
  },
  {
   "cell_type": "code",
   "execution_count": 19,
   "metadata": {},
   "outputs": [
    {
     "name": "stdout",
     "output_type": "stream",
     "text": [
      "Le tableau après troisième modification :\n",
      " [[-2  5 -2 -1 -2 10 -2  0 -2 -1]\n",
      " [-1 10  3 -1  0  6 -1  3 10 -1]\n",
      " [-2 10 -2 -1 -2  3 -2 10 -2 -1]\n",
      " [-1 10 10 -1  7  7 -1  6  5 -1]\n",
      " [-2 10 -2 -1 -2  7 -2 10 -2 -1]\n",
      " [-1  4  3 -1 10 10 -1  0  7 -1]\n",
      " [-2 10 -2 -1 -2  3 -2  0 -2 -1]\n",
      " [-1  6  7 -1  0 10 -1  5 10 -1]\n",
      " [-2  0 -2 -1 -2  0 -2  0 -2 -1]\n",
      " [-1 10 10 -1  0 10 -1  4  7 -1]]\n"
     ]
    }
   ],
   "source": [
    "# à compléter\n",
    "t1[::2, ::2] = -2\n",
    "display(t1)"
   ]
  },
  {
   "cell_type": "markdown",
   "metadata": {},
   "source": [
    "## Partie II : sympy "
   ]
  },
  {
   "cell_type": "markdown",
   "metadata": {},
   "source": [
    "### Exercice 1 :<!-- fonctions-->"
   ]
  },
  {
   "cell_type": "markdown",
   "metadata": {},
   "source": [
    "\n",
    "<hr/> \n",
    "On considère les deux familles de fonctions suivantes :\n",
    "\n",
    "\n",
    "$$ \n",
    "f_k(x)= -0.05*(x^3 + kx^2 + 4x + 1)\n",
    "$$   \n",
    "et \n",
    "$$ g_p(x)= \\frac{\\sin(x)-px}{x^3}\n",
    "$$ \n",
    "\n",
    "Où $k$ et $p$ sont des paramètres.\n",
    "\n",
    "1)  Définir à l'aide de sympy les deux expressions littérales correspondantes et afficher ces fonctions."
   ]
  },
  {
   "cell_type": "code",
   "execution_count": 69,
   "metadata": {
    "scrolled": false
   },
   "outputs": [
    {
     "data": {
      "text/plain": [
       "'Expression de f_k(x) :'"
      ]
     },
     "metadata": {},
     "output_type": "display_data"
    },
    {
     "data": {
      "text/latex": [
       "$\\displaystyle - 0.05 k x^{2} - 0.05 x^{3} - 0.2 x - 0.05$"
      ],
      "text/plain": [
       "-0.05*k*x**2 - 0.05*x**3 - 0.2*x - 0.05"
      ]
     },
     "metadata": {},
     "output_type": "display_data"
    },
    {
     "data": {
      "text/plain": [
       "'Expression de g_p(x) :'"
      ]
     },
     "metadata": {},
     "output_type": "display_data"
    },
    {
     "data": {
      "text/latex": [
       "$\\displaystyle - \\frac{p}{x^{2}} + \\sin{\\left(x \\right)}$"
      ],
      "text/plain": [
       "-p/x**2 + sin(x)"
      ]
     },
     "metadata": {},
     "output_type": "display_data"
    }
   ],
   "source": [
    "# à compléter\n",
    "import sympy as sp\n",
    "\n",
    "# Définir les symboles\n",
    "x, k, p = sp.symbols('x k p')\n",
    "\n",
    "# Définir les expressions des fonctions \n",
    "f = -0.05 * (x**3 + k*x**2 + 4*x + 1)\n",
    "g = sp.sin(x) - p*x / x**3\n",
    "\n",
    "# Afficher les expressions des fonctions\n",
    "display(\"Expression de f_k(x) :\", f)\n",
    "display(\"Expression de g_p(x) :\", g)\n"
   ]
  },
  {
   "cell_type": "markdown",
   "metadata": {},
   "source": [
    "<hr/> \n",
    "\n",
    "2)  Calculer une primitive de $f_k$"
   ]
  },
  {
   "cell_type": "code",
   "execution_count": 59,
   "metadata": {},
   "outputs": [
    {
     "data": {
      "text/latex": [
       "$\\displaystyle - 0.0166666666666667 k x^{3} - 0.0125 x^{4} - 0.1 x^{2} - 0.05 x$"
      ],
      "text/plain": [
       "-0.0166666666666667*k*x**3 - 0.0125*x**4 - 0.1*x**2 - 0.05*x"
      ]
     },
     "metadata": {},
     "output_type": "display_data"
    }
   ],
   "source": [
    "# à compléter\n",
    "primitive=sp.integrate(f,x)\n",
    "display(primitive)\n"
   ]
  },
  {
   "cell_type": "markdown",
   "metadata": {},
   "source": [
    "<hr/> \n",
    "\n",
    "3)  Calculer la dérivée de $f_k$, puis déterminer les abscisses des extremums de la fonction"
   ]
  },
  {
   "cell_type": "code",
   "execution_count": 60,
   "metadata": {},
   "outputs": [
    {
     "data": {
      "text/latex": [
       "$\\displaystyle - 0.1 k x - 0.15 x^{2} - 0.2$"
      ],
      "text/plain": [
       "-0.1*k*x - 0.15*x**2 - 0.2"
      ]
     },
     "metadata": {},
     "output_type": "display_data"
    },
    {
     "name": "stdout",
     "output_type": "stream",
     "text": [
      "Solutions de f'_k(x) = 0 : [-0.333333333333333*k - 1.15470053837925*sqrt(0.0833333333333333*k**2 - 1), -0.333333333333333*k + 1.15470053837925*sqrt(0.0833333333333333*k**2 - 1)]\n",
      "Minimum local à x =\n"
     ]
    },
    {
     "data": {
      "text/latex": [
       "$\\displaystyle - 0.333333333333333 k - 1.15470053837925 \\sqrt{0.0833333333333333 k^{2} - 1}$"
      ],
      "text/plain": [
       "-0.333333333333333*k - 1.15470053837925*sqrt(0.0833333333333333*k**2 - 1)"
      ]
     },
     "metadata": {},
     "output_type": "display_data"
    },
    {
     "name": "stdout",
     "output_type": "stream",
     "text": [
      "Minimum local à x =\n"
     ]
    },
    {
     "data": {
      "text/latex": [
       "$\\displaystyle - 0.333333333333333 k + 1.15470053837925 \\sqrt{0.0833333333333333 k^{2} - 1}$"
      ],
      "text/plain": [
       "-0.333333333333333*k + 1.15470053837925*sqrt(0.0833333333333333*k**2 - 1)"
      ]
     },
     "metadata": {},
     "output_type": "display_data"
    }
   ],
   "source": [
    "# Calculer la dérivée de f_k par rapport à x\n",
    "derivee_fk = sp.diff(f, x)\n",
    "\n",
    "# Afficher la dérivée\n",
    "display(derivee_fk)\n",
    "\n",
    "# Résoudre l'équation f'_k(x) = 0\n",
    "solutions = sp.solve(derivee_fk, x)\n",
    "\n",
    "# Afficher les solutions\n",
    "print(\"Solutions de f'_k(x) = 0 :\", solutions)\n",
    "\n",
    "# Vérifier la nature des solutions\n",
    "for solution in solutions:\n",
    "    if sp.diff(derivee_fk, x, 2).subs(x, solution) > 0:\n",
    "        print(\"Maximum local à x =\")\n",
    "        display(solution)\n",
    "    elif sp.diff(derivee_fk, x, 2).subs(x, solution) < 0:\n",
    "        print(\"Minimum local à x =\")\n",
    "        display(solution)\n",
    "    else:\n",
    "        print(\"Point d'inflexion à x =\")\n",
    "        display(solution)"
   ]
  },
  {
   "cell_type": "markdown",
   "metadata": {},
   "source": [
    "<hr/> \n",
    "\n",
    "4)  Calculer la limite de $g_p(x)$ quand x tend vers 0 :\n",
    "\n",
    " $\\lim_{x \\to 0} \\frac{\\sin(x)-px}{x^3}$  .\n",
    "\n",
    "\n",
    "Etudier le cas particulier où p vaut 1\n"
   ]
  },
  {
   "cell_type": "code",
   "execution_count": 61,
   "metadata": {},
   "outputs": [
    {
     "data": {
      "text/latex": [
       "$\\displaystyle - \\infty \\operatorname{sign}{\\left(p \\right)}$"
      ],
      "text/plain": [
       "-oo*sign(p)"
      ]
     },
     "metadata": {},
     "output_type": "display_data"
    },
    {
     "name": "stdout",
     "output_type": "stream",
     "text": [
      "Limite lorsque p vaut 1: -oo\n"
     ]
    }
   ],
   "source": [
    "# à compléter\n",
    "from sympy import symbols, limit, oo\n",
    "limitg=limit(g,x,0)\n",
    "display(limitg)\n",
    "\n",
    "# Étudier le cas où p vaut 1\n",
    "limite_p1 = limitg.subs(p, 1)\n",
    "print(\"Limite lorsque p vaut 1:\", limite_p1)"
   ]
  },
  {
   "cell_type": "markdown",
   "metadata": {},
   "source": [
    "<hr/> \n",
    "\n",
    "5) On étudie le cas où $p =1$ et $k=2$ .\n",
    "Définir les fonctions ($f=f_2$) et ($g=g_1$) correspondantes\n",
    "\n",
    "Tracer avec `sympy`, pour $x\\in[-1,1]$,  le graphe des deux fonctions, sur le même graphique et avec légende comme ci-dessous. "
   ]
  },
  {
   "cell_type": "code",
   "execution_count": 88,
   "metadata": {},
   "outputs": [
    {
     "data": {
      "image/png": "[encoded data removed]",
      "text/plain": [
       "<Figure size 432x288 with 1 Axes>"
      ]
     },
     "metadata": {
      "needs_background": "light"
     },
     "output_type": "display_data"
    },
    {
     "data": {
      "image/png": "[encoded data removed]",
      "text/plain": [
       "<Figure size 432x288 with 1 Axes>"
      ]
     },
     "metadata": {
      "needs_background": "light"
     },
     "output_type": "display_data"
    }
   ],
   "source": [
    "from sympy import symbols, plot, sin\n",
    "\n",
    "# Définir les symboles\n",
    "x = symbols('x')\n",
    "\n",
    "# Définir les expressions des fonctions f et g avec p=1 et k=2\n",
    "f = -0.05 * (x**3 + 2*x**2 + 4*x + 1)\n",
    "g = sin(x) - 2*x / x**3\n",
    "\n",
    "# Tracer les graphiques des fonctions f et g sur le même graphique avec légende\n",
    "p1 = plot(f, (x, -1, 1), line_color='blue', show=False, legend=True, label='f pour k=2')\n",
    "p2 = plot(g, (x, -1, 1), line_color='red', show=False, legend=True, label='g pour p=1')\n",
    "\n",
    "# Combinez les graphiques et affichez-les\n",
    "p1.append(p2[0])\n",
    "p1.show()\n",
    "\n",
    "\n",
    "#ou\n",
    "\n",
    "\n",
    "# Substituer les valeurs de p et k dans les expressions des fonctions f et g\n",
    "f_k = f.subs({k:2})\n",
    "g_p = g.subs({p:1})\n",
    "\n",
    "# Tracer les graphiques des fonctions f et g sur le même graphique avec légende\n",
    "p1 = plot(f_k, (x, -1, 1), line_color='blue', show=False, legend=True, label='f pour k=2')\n",
    "p2 = plot(g_p, (x, -1, 1), line_color='red', show=False, legend=True, label='g pour p=1')\n",
    "\n",
    "# Combinez les graphiques et affichez-les\n",
    "p1.append(p2[0])\n",
    "p1.show()\n"
   ]
  },
  {
   "cell_type": "markdown",
   "metadata": {},
   "source": [
    "<hr/> \n",
    "\n",
    "\n",
    "6) Déterminer avec sympy l'abscisse $x_0$ du point d'intersection de $f(x)$ et de l'axe des $x$."
   ]
  },
  {
   "cell_type": "code",
   "execution_count": 116,
   "metadata": {},
   "outputs": [
    {
     "name": "stdout",
     "output_type": "stream",
     "text": [
      "-0.28477476156491\n",
      "Abscisse de l'intersection : -0.284774761564910\n"
     ]
    }
   ],
   "source": [
    "solution = sp.solve(f, x)\n",
    "xo=solution[0]\n",
    "print(x0)\n",
    "#ou\n",
    "# Afficher la solution\n",
    "print(\"Abscisse de l'intersection :\", solution[0].evalf())\n",
    "\n",
    "\n",
    "\n"
   ]
  },
  {
   "cell_type": "markdown",
   "metadata": {},
   "source": [
    "<hr/> \n",
    "\n",
    "\n",
    "7) On admettra que l'abscisse $x_1$ du point d'intersection des deux courbes (f et g) vaut  0.4505520891087474.\n",
    "\n",
    "Déterminer l'aire comprise entre les deux courbes pour x variant entre $x_0$ et $x_1$. "
   ]
  },
  {
   "cell_type": "code",
   "execution_count": 122,
   "metadata": {},
   "outputs": [
    {
     "name": "stdout",
     "output_type": "stream",
     "text": [
      "oo\n"
     ]
    }
   ],
   "source": [
    "# Valeurs des abscisses x0 et x1 données\n",
    "\n",
    "x1 = 0.4505520891087474\n",
    "\n",
    "# Calculer l'intégrale de la différence entre f et g sur l'intervalle [x0, x1]\n",
    "aire = sp.integrate(f - g, (x, x0, x1))\n",
    "\n",
    "# Afficher l'aire\n",
    "print(aire)"
   ]
  },
  {
   "cell_type": "markdown",
   "metadata": {},
   "source": [
    "### Exercice 2 : <!--Résolution d'un système linéaire-->"
   ]
  },
  {
   "cell_type": "markdown",
   "metadata": {},
   "source": [
    "A l'aide de la méthode de votre choix, résoudre le système suivant:\n",
    "\n",
    "<!--\n",
    "$$\n",
    "\\begin{cases}\n",
    "\\begin{matrix} \n",
    "3x & + 4y & -z & =4 \\\\ \n",
    "x& +2y & +3z & =6 \\\\ \n",
    "2x & -y & -z & =-5\n",
    "\\end{matrix}\n",
    "\\end{cases}\n",
    "$$ '''\n",
    "-->\n",
    "$$\n",
    "\\begin{cases}\n",
    "3x+4y-z=4\\\\\n",
    "x+2y+3z=6\\\\\n",
    "2x-y-z=-5\n",
    "\\end{cases}\n",
    "$$\n"
   ]
  },
  {
   "cell_type": "code",
   "execution_count": 133,
   "metadata": {},
   "outputs": [
    {
     "name": "stdout",
     "output_type": "stream",
     "text": [
      "{x: -1, y: 2, z: 1}\n"
     ]
    }
   ],
   "source": [
    "# à compléter\n",
    "x,y,z=sp.symbols('x,y,z')\n",
    "eq1=sp.Eq(3*x+4*y-z,4)\n",
    "eq2=sp.Eq(x+2*y+3*z,6)\n",
    "eq3=sp.Eq(2*x-y-z,-5)\n",
    "solution1=sp.solve((eq1,eq2,eq3),(x,y,z))\n",
    "sp.pprint(solution1)\n",
    "\n",
    "\n"
   ]
  },
  {
   "cell_type": "markdown",
   "metadata": {},
   "source": [
    "### Exercice 3 : <!--Matrices-->"
   ]
  },
  {
   "cell_type": "markdown",
   "metadata": {},
   "source": [
    "Soit $m$ un paramètre et M la matrice suivante :\n",
    "\n",
    "$$ M =\\left(\n",
    "\\begin{matrix} \n",
    "1 & 1 & -1 & 2 \\\\ \n",
    "1 & 1 & m & 1 \\\\ \n",
    "-1 & 1 & 3 & 3 \\\\\n",
    "2 & 4 & 0 & m \n",
    "\\end{matrix} \\right)\n",
    "$$ \n",
    "\n",
    "\n",
    "\n",
    "1. Définir la matrice M ci-dessus\n",
    "\n",
    "2. Calculer le déterminant de M. On affichera le résultat puis le résultat factorisé.\n",
    "\n",
    "3. Calculer les valeurs qui annulent le déterminant.\n",
    "\n",
    "4. Quand $m$ n'annule pas le déterminant calculer la matrice inverse de M.\n",
    "\n",
    "5. Afficher la matrice inverse obtenue pour $m=3$."
   ]
  },
  {
   "cell_type": "code",
   "execution_count": 150,
   "metadata": {},
   "outputs": [
    {
     "name": "stdout",
     "output_type": "stream",
     "text": [
      "Matrice M :\n",
      "⎡1   1  -1  2⎤\n",
      "⎢            ⎥\n",
      "⎢1   1  m   2⎥\n",
      "⎢            ⎥\n",
      "⎢-1  1  3   4⎥\n",
      "⎢            ⎥\n",
      "⎣2   4  0   m⎦\n"
     ]
    },
    {
     "data": {
      "text/latex": [
       "$\\displaystyle - 2 \\left(m - 10\\right) \\left(m + 1\\right)$"
      ],
      "text/plain": [
       "-2*(m - 10)*(m + 1)"
      ]
     },
     "metadata": {},
     "output_type": "display_data"
    },
    {
     "data": {
      "text/plain": [
       "[-1, 10]"
      ]
     },
     "metadata": {},
     "output_type": "display_data"
    },
    {
     "data": {
      "text/plain": [
       "[-1, 10]"
      ]
     },
     "metadata": {},
     "output_type": "display_data"
    }
   ],
   "source": [
    "# à compléter\n",
    "# Définir la matrice M\n",
    "m=symbols(\"m\")\n",
    "M = sp.Matrix([\n",
    "    [1, 1, -1,2],\n",
    "    [1, 1,m,2],\n",
    "    [-1, 1, 3,4],\n",
    "    [2, 4, 0,m]\n",
    "])\n",
    "\n",
    "# Afficher la matrice M\n",
    "print(\"Matrice M :\")\n",
    "sp.pprint(M)\n",
    "\n",
    "# Calculer le déterminant de M\n",
    "determinant = sp.det(M)\n",
    "\n",
    "# Afficher le déterminant de M factorisé\n",
    "factoriser=sp.factor(determinant)\n",
    "display(factoriser)\n",
    "\n",
    "values= sp.solve(sp.Eq(determinant, 0), m)\n",
    "display(values)\n",
    "#ou\n",
    "eq=sp.Eq(determinant,0)\n",
    "solution=sp.solve(eq,(m))\n",
    "display(solution)\n",
    "\n"
   ]
  },
  {
   "cell_type": "code",
   "execution_count": 151,
   "metadata": {},
   "outputs": [
    {
     "name": "stdout",
     "output_type": "stream",
     "text": [
      "Matrice inverse de M:\n",
      "⎡  2                                        ⎤\n",
      "⎢ m  - 19⋅m + 24     2     8 - m       1    ⎥\n",
      "⎢────────────────  ─────  ────────   ────── ⎥\n",
      "⎢   2              m + 1  2⋅m - 20   m - 10 ⎥\n",
      "⎢2⋅m  - 18⋅m - 20                           ⎥\n",
      "⎢                                           ⎥\n",
      "⎢  2                                        ⎥\n",
      "⎢ m  + 11⋅m - 12    -1     m - 4      -3    ⎥\n",
      "⎢────────────────  ─────  ────────   ────── ⎥\n",
      "⎢   2              m + 1  2⋅m - 20   m - 10 ⎥\n",
      "⎢2⋅m  - 18⋅m - 20                           ⎥\n",
      "⎢                                           ⎥\n",
      "⎢      -1            1                      ⎥\n",
      "⎢     ─────        ─────     0         0    ⎥\n",
      "⎢     m + 1        m + 1                    ⎥\n",
      "⎢                                           ⎥\n",
      "⎢      -6                   -2         2    ⎥\n",
      "⎢    ────────        0    ────────  ────────⎥\n",
      "⎣    2⋅m - 20             2⋅m - 20  2⋅m - 20⎦\n"
     ]
    }
   ],
   "source": [
    "# à compléter\n",
    "if determinant != 0:\n",
    "    # Calculer la matrice inverse de M\n",
    "    inverse_M = M.inv()\n",
    "    \n",
    "    # Afficher la matrice inverse de M\n",
    "    print(\"Matrice inverse de M:\")\n",
    "    sp.pprint(inverse_M)\n",
    "else:\n",
    "    print(\"Le déterminant de M est nul. La matrice inverse n'existe pas.\")"
   ]
  },
  {
   "cell_type": "code",
   "execution_count": 154,
   "metadata": {},
   "outputs": [
    {
     "name": "stdout",
     "output_type": "stream",
     "text": [
      "Matrice inverse de M pour m = 3\n",
      "⎡3/7   1/2   -5/14  -1/7⎤\n",
      "⎢                       ⎥\n",
      "⎢-15                    ⎥\n",
      "⎢────  -1/4  1/14   3/7 ⎥\n",
      "⎢ 28                    ⎥\n",
      "⎢                       ⎥\n",
      "⎢-1/4  1/4     0     0  ⎥\n",
      "⎢                       ⎥\n",
      "⎣3/7    0     1/7   -1/7⎦\n"
     ]
    },
    {
     "data": {
      "text/latex": [
       "$\\displaystyle \\left[\\begin{matrix}\\frac{3}{7} & \\frac{1}{2} & - \\frac{5}{14} & - \\frac{1}{7}\\\\- \\frac{15}{28} & - \\frac{1}{4} & \\frac{1}{14} & \\frac{3}{7}\\\\- \\frac{1}{4} & \\frac{1}{4} & 0 & 0\\\\\\frac{3}{7} & 0 & \\frac{1}{7} & - \\frac{1}{7}\\end{matrix}\\right]$"
      ],
      "text/plain": [
       "Matrix([\n",
       "[   3/7,  1/2, -5/14, -1/7],\n",
       "[-15/28, -1/4,  1/14,  3/7],\n",
       "[  -1/4,  1/4,     0,    0],\n",
       "[   3/7,    0,   1/7, -1/7]])"
      ]
     },
     "metadata": {},
     "output_type": "display_data"
    }
   ],
   "source": [
    "# à compléter\n",
    "# Calculer la matrice inverse de M\n",
    "m_value = 3\n",
    "m=symbols(\"m\")\n",
    "M = sp.Matrix([\n",
    "    [1, 1, -1,2],\n",
    "    [1, 1,m_value,2],\n",
    "    [-1, 1, 3,4],\n",
    "    [2, 4, 0,m_value]\n",
    "])\n",
    "inverse = M.inv()\n",
    "\n",
    "# Afficher la matrice inverse de M\n",
    "print(\"Matrice inverse de M pour m =\", m_value)\n",
    "sp.pprint(inverse)\n",
    "\n",
    "#ou\n",
    "M1=M.subs({m:3})\n",
    "inverse=M1.inv()\n",
    "display(inverse)"
   ]
  },
  {
   "cell_type": "code",
   "execution_count": null,
   "metadata": {},
   "outputs": [],
   "source": []
  }
 ],
 "metadata": {
  "colab": {
   "collapsed_sections": [],
   "name": "calcul scientifique -- sujet 1.ipynb",
   "provenance": [],
   "version": "0.3.2"
  },
  "kernelspec": {
   "display_name": "Python 3 (ipykernel)",
   "language": "python",
   "name": "python3"
  },
  "language_info": {
   "codemirror_mode": {
    "name": "ipython",
    "version": 3
   },
   "file_extension": ".py",
   "mimetype": "text/x-python",
   "name": "python",
   "nbconvert_exporter": "python",
   "pygments_lexer": "ipython3",
   "version": "3.10.12"
  },
  "vscode": {
   "interpreter": {
    "hash": "a2f5a4e5cb9685a704f3797f6942b9eb6ca9983296f40a6a598da917a934f46a"
   }
  }
 },
 "nbformat": 4,
 "nbformat_minor": 1
}
