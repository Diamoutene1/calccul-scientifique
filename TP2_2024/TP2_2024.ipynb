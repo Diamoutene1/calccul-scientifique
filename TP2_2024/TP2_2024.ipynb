{
 "cells": [
  {
   "cell_type": "markdown",
   "metadata": {
    "deletable": false,
    "run_control": {
     "frozen": true
    }
   },
   "source": [
    "## L1 informatique -- calcul scientifique\n",
    "## TP 2 --   Sympy"
   ]
  },
  {
   "cell_type": "markdown",
   "metadata": {},
   "source": [
    "##  Exercice 1 -- étude de fonctions avec Sympy"
   ]
  },
  {
   "cell_type": "code",
   "execution_count": 1,
   "metadata": {},
   "outputs": [],
   "source": [
    "import sympy as sy"
   ]
  },
  {
   "cell_type": "markdown",
   "metadata": {},
   "source": [
    "1. Au moyen de la librairie `sympy`, définir de manière symbolique la fonction \n",
    "$f(x)=\\frac{(x+4+(3x+5))}{(x+4)^2}$\n",
    "\n",
    "Afficher $f$  . On essayera plusieurs affichages (print, display, sp.pprint )\n",
    "\n",
    "\n",
    "Afficher $f(2)$ puis calculer une valeur approchée de $f(2)$.\n",
    "\n"
   ]
  },
  {
   "cell_type": "code",
   "execution_count": 2,
   "metadata": {},
   "outputs": [
    {
     "name": "stdout",
     "output_type": "stream",
     "text": [
      "(4*x + 9)/(x + 4)**2\n",
      "4⋅x + 9 \n",
      "────────\n",
      "       2\n",
      "(x + 4) \n"
     ]
    },
    {
     "data": {
      "text/latex": [
       "$\\displaystyle \\frac{4 x + 9}{\\left(x + 4\\right)^{2}}$"
      ],
      "text/plain": [
       "(4*x + 9)/(x + 4)**2"
      ]
     },
     "metadata": {},
     "output_type": "display_data"
    },
    {
     "data": {
      "text/latex": [
       "$\\displaystyle \\frac{17}{36}$"
      ],
      "text/plain": [
       "17/36"
      ]
     },
     "metadata": {},
     "output_type": "display_data"
    },
    {
     "name": "stdout",
     "output_type": "stream",
     "text": [
      "valeur approche est : 0.472222222222222\n"
     ]
    }
   ],
   "source": [
    "# A compléter ...\n",
    "# ...\n",
    "x=sy.symbols(\"x\")\n",
    "f=(x+4+(3*x+5))/(x+4)**2 \n",
    "print(f)\n",
    "sy.pprint(f)\n",
    "display(f)\n",
    "f2 = f.subs(x, 2)\n",
    "display(f2)\n",
    "eva=f2.evalf()\n",
    "print(\"valeur approche est :\",eva)"
   ]
  },
  {
   "cell_type": "markdown",
   "metadata": {},
   "source": [
    "<hr/>\n",
    "2a. Calculez la dérivée de f(x).\n"
   ]
  },
  {
   "cell_type": "code",
   "execution_count": 3,
   "metadata": {},
   "outputs": [
    {
     "name": "stdout",
     "output_type": "stream",
     "text": [
      "   4       2⋅(4⋅x + 9)\n",
      "──────── - ───────────\n",
      "       2            3 \n",
      "(x + 4)      (x + 4)  \n"
     ]
    }
   ],
   "source": [
    "# A compléter ...\n",
    "# ...\n",
    "solutions=sy.diff(f,x)\n",
    "sy.pprint(solutions)"
   ]
  },
  {
   "cell_type": "markdown",
   "metadata": {},
   "source": [
    "<hr/>\n",
    "2b. Calculer les zéros de la dérivée."
   ]
  },
  {
   "cell_type": "code",
   "execution_count": 4,
   "metadata": {},
   "outputs": [
    {
     "name": "stdout",
     "output_type": "stream",
     "text": [
      "[-1/2]\n"
     ]
    }
   ],
   "source": [
    "# A compléter ...\n",
    "# ...\n",
    "solutions2=sy.solve(solutions)\n",
    "sy.pprint(solutions2)"
   ]
  },
  {
   "cell_type": "markdown",
   "metadata": {},
   "source": [
    "<hr/>\n",
    "2c. Exprimer la dérivée sous forme factorisée (fonction factor) pour vérifier ses zéros. "
   ]
  },
  {
   "cell_type": "code",
   "execution_count": 5,
   "metadata": {},
   "outputs": [
    {
     "name": "stdout",
     "output_type": "stream",
     "text": [
      "-2⋅(2⋅x + 1) \n",
      "─────────────\n",
      "          3  \n",
      "   (x + 4)   \n"
     ]
    }
   ],
   "source": [
    "# A compléter ...\n",
    "# ...\n",
    "factory=sy.factor(solutions)\n",
    "sy.pprint(factory)"
   ]
  },
  {
   "cell_type": "markdown",
   "metadata": {},
   "source": [
    "<hr/>\n",
    "3. Calculer les limites de f(x) quand $x \\to -\\infty$, $x \\to +\\infty$, $x \\to 2$,$x \\to -4$"
   ]
  },
  {
   "cell_type": "code",
   "execution_count": 6,
   "metadata": {
    "scrolled": true
   },
   "outputs": [
    {
     "data": {
      "text/latex": [
       "$\\displaystyle 0$"
      ],
      "text/plain": [
       "0"
      ]
     },
     "metadata": {},
     "output_type": "display_data"
    },
    {
     "data": {
      "text/latex": [
       "$\\displaystyle 0$"
      ],
      "text/plain": [
       "0"
      ]
     },
     "metadata": {},
     "output_type": "display_data"
    },
    {
     "data": {
      "text/latex": [
       "$\\displaystyle \\frac{17}{36}$"
      ],
      "text/plain": [
       "17/36"
      ]
     },
     "metadata": {},
     "output_type": "display_data"
    },
    {
     "data": {
      "text/latex": [
       "$\\displaystyle -\\infty$"
      ],
      "text/plain": [
       "-oo"
      ]
     },
     "metadata": {},
     "output_type": "display_data"
    }
   ],
   "source": [
    "# A compléter ...\n",
    "from sympy import symbols, limit, oo\n",
    "x=symbols(\"x\")\n",
    "f=(x+4+(3*x+5))/(x+4)**2 \n",
    "limt1=limit(f, x, -oo)\n",
    "display(limt1)\n",
    "limt2=limit(f, x, oo)\n",
    "display(limt2)\n",
    "limt3=limit(f,x,2)\n",
    "display(limt3)\n",
    "limt4=limit(f,x,-4)\n",
    "display(limt4)\n"
   ]
  },
  {
   "cell_type": "markdown",
   "metadata": {},
   "source": [
    "<hr/>\n",
    "4a. Tracer la courbe représentative de f "
   ]
  },
  {
   "cell_type": "code",
   "execution_count": 7,
   "metadata": {},
   "outputs": [
    {
     "data": {
      "image/png": "[encoded data removed]",
      "text/plain": [
       "<Figure size 432x288 with 1 Axes>"
      ]
     },
     "metadata": {
      "needs_background": "light"
     },
     "output_type": "display_data"
    },
    {
     "data": {
      "text/plain": [
       "<sympy.plotting.plot.Plot at 0x7f4119cae440>"
      ]
     },
     "execution_count": 7,
     "metadata": {},
     "output_type": "execute_result"
    }
   ],
   "source": [
    "# A compléter ...\n",
    "import sympy as symbols \n",
    "import matplotlib.pyplot as plt\n",
    "x=sy.symbols(\"x\")\n",
    "f=(x+4+(3*x+5))/(x+4)**2 \n",
    "\n",
    "sy.plot(f)"
   ]
  },
  {
   "cell_type": "markdown",
   "metadata": {},
   "source": [
    "<hr/>\n",
    "4b.Modifier la commande pour ne tracer la courbe que pour y compris entre -6 et +2 en utilisant l’option ylim\n",
    "\n",
    "On écrira ylim=(a,b) à l'intérieur du plot.\n",
    "\n",
    "    "
   ]
  },
  {
   "cell_type": "code",
   "execution_count": 8,
   "metadata": {},
   "outputs": [
    {
     "data": {
      "image/png": "[encoded data removed]",
      "text/plain": [
       "<Figure size 432x288 with 1 Axes>"
      ]
     },
     "metadata": {
      "needs_background": "light"
     },
     "output_type": "display_data"
    },
    {
     "data": {
      "text/plain": [
       "<sympy.plotting.plot.Plot at 0x7f41624cafe0>"
      ]
     },
     "execution_count": 8,
     "metadata": {},
     "output_type": "execute_result"
    }
   ],
   "source": [
    "# A compléter ...\n",
    "# ...\n",
    "sy.plot(f,ylim=(-6,+2))"
   ]
  },
  {
   "cell_type": "markdown",
   "metadata": {},
   "source": [
    "<hr/>\n",
    "4c.Limiter cette fois le dessin aux abscisses comprises entre -2.5 et 5"
   ]
  },
  {
   "cell_type": "code",
   "execution_count": 9,
   "metadata": {},
   "outputs": [
    {
     "data": {
      "image/png": "[encoded data removed]",
      "text/plain": [
       "<Figure size 432x288 with 1 Axes>"
      ]
     },
     "metadata": {
      "needs_background": "light"
     },
     "output_type": "display_data"
    },
    {
     "data": {
      "text/plain": [
       "<sympy.plotting.plot.Plot at 0x7f41199bb130>"
      ]
     },
     "execution_count": 9,
     "metadata": {},
     "output_type": "execute_result"
    }
   ],
   "source": [
    "# A compléter ...\n",
    "# ...\n",
    "sy.plot(f,(x,-2.5,5))"
   ]
  },
  {
   "cell_type": "markdown",
   "metadata": {},
   "source": [
    "## Exercice 2"
   ]
  },
  {
   "cell_type": "markdown",
   "metadata": {},
   "source": [
    "1) On considère les fonctions définies par:\n",
    "\n",
    "$f_{a,b,c,d}(x)= -0.05*(ax^3 + bx^2 + cx + d)$  où a,b,c,d seront des paramètres qu'on pourra faire varier.\n",
    "\n",
    "Définir $f_{a,b,c,d}$ à l'aide de sympy "
   ]
  },
  {
   "cell_type": "code",
   "execution_count": 10,
   "metadata": {},
   "outputs": [
    {
     "data": {
      "text/latex": [
       "$\\displaystyle - 0.05 a x^{3} - 0.05 b x^{2} - 0.05 c x - 0.05 d$"
      ],
      "text/plain": [
       "-0.05*a*x**3 - 0.05*b*x**2 - 0.05*c*x - 0.05*d"
      ]
     },
     "metadata": {},
     "output_type": "display_data"
    }
   ],
   "source": [
    "import warnings\n",
    "warnings.filterwarnings('ignore') # pour ne pas afficher les warnings\n",
    "from IPython.display import display, Math\n",
    "from sympy import latex\n",
    "import sympy as sp \n",
    "\n",
    "# Déclarer les symboles x, a, b, c et d\n",
    "x, a, b, c, d = sp.symbols('x a b c d')\n",
    "\n",
    "# Déclarer la fonction fab\n",
    "# ...\n",
    "fab = -0.05 * (a * x**3 + b * x**2 + c * x + d)\n",
    "\n",
    "\n",
    "# Afficher la fonction fab\n",
    "# ...\n",
    "display(fab)\n",
    "\n"
   ]
  },
  {
   "cell_type": "markdown",
   "metadata": {},
   "source": [
    "<hr/> \n",
    "\n",
    "2) Calculer la limite limite de $f_{a,b,c,d}(x)$ quand x tend vers +infini avec `sympy`  "
   ]
  },
  {
   "cell_type": "code",
   "execution_count": 11,
   "metadata": {},
   "outputs": [
    {
     "data": {
      "text/latex": [
       "$\\displaystyle - \\infty \\operatorname{sign}{\\left(a \\right)}$"
      ],
      "text/plain": [
       "-oo*sign(a)"
      ]
     },
     "metadata": {},
     "output_type": "display_data"
    }
   ],
   "source": [
    "# A compléter ...\n",
    "# ..\n",
    "from sympy import symbols, limit, oo\n",
    "x, a, b, c, d = sp.symbols('x a b c d')\n",
    "limt=limit(fab,x, +oo)\n",
    "display(limt)"
   ]
  },
  {
   "cell_type": "markdown",
   "metadata": {},
   "source": [
    "<hr/> \n",
    "\n",
    "3) Calculer la dérivée de $f_{a,b,c,d}$.\n"
   ]
  },
  {
   "cell_type": "code",
   "execution_count": 12,
   "metadata": {},
   "outputs": [
    {
     "data": {
      "text/latex": [
       "$\\displaystyle - 0.15 a x^{2} - 0.1 b x - 0.05 c$"
      ],
      "text/plain": [
       "-0.15*a*x**2 - 0.1*b*x - 0.05*c"
      ]
     },
     "metadata": {},
     "output_type": "display_data"
    }
   ],
   "source": [
    "# A compléter ...\n",
    "# ...\n",
    "derivee1 = sp.diff(fab , x)\n",
    "display(derivee1)"
   ]
  },
  {
   "cell_type": "markdown",
   "metadata": {},
   "source": [
    "4) On s'intéresse à $h=f_{6,5,-1,-1}$ et $g=f_{-2,5,3,0}$\n",
    "\n",
    "Ecrire les expressions correspondantes.\n",
    "\n",
    "Tracer avec `sympy`, pour $x\\in[-3,3]$,  le graphe des fonctions $h$ et $g$ , sur le même graphique et avec légende comme ci-dessous."
   ]
  },
  {
   "cell_type": "code",
   "execution_count": 16,
   "metadata": {},
   "outputs": [
    {
     "data": {
      "image/png": "[encoded data removed]",
      "text/plain": [
       "<Figure size 432x288 with 1 Axes>"
      ]
     },
     "metadata": {
      "needs_background": "light"
     },
     "output_type": "display_data"
    }
   ],
   "source": [
    "# A compléter ...\n",
    "from sympy import symbols, Function, plot\n",
    "x = sp.symbols('x')\n",
    "h = -0.05 * (6 * x**3 + 5 * x**2 - x - 1)\n",
    "g = -0.05 * (-2 * x**3 + 5 * x**2 + 3 * x)\n",
    "\n",
    "# Tracer les graphiques\n",
    "p1 = plot(h, (x, -3, 3), line_color='blue', show=False, legend=True, label='h(x)')\n",
    "p2 = plot(g, (x, -3, 3), line_color='red', show=False, legend=True, label='g(x)')\n",
    "\n",
    "# Combinez les graphiques et affichez-les\n",
    "p1.extend(p2)\n",
    "p1.show()\n",
    "\n",
    "\n",
    "\n"
   ]
  },
  {
   "cell_type": "markdown",
   "metadata": {},
   "source": [
    "<hr/> \n",
    "\n",
    "5) à L'aide de la dérivée, déterminer les abscisses des points extremums de h"
   ]
  },
  {
   "cell_type": "code",
   "execution_count": 19,
   "metadata": {},
   "outputs": [
    {
     "data": {
      "text/latex": [
       "$\\displaystyle - 0.9 x^{2} - 0.5 x + 0.05$"
      ],
      "text/plain": [
       "-0.9*x**2 - 0.5*x + 0.05"
      ]
     },
     "metadata": {},
     "output_type": "display_data"
    },
    {
     "data": {
      "text/latex": [
       "$\\displaystyle 0.3 x^{2} - 0.5 x - 0.15$"
      ],
      "text/plain": [
       "0.3*x**2 - 0.5*x - 0.15"
      ]
     },
     "metadata": {},
     "output_type": "display_data"
    }
   ],
   "source": [
    "# A compléter ...\n",
    "# ...\n",
    "derive1=sy.diff(h)\n",
    "display(derive1)\n",
    "derive2=sy.diff(g)\n",
    "display(derive2)\n",
    "\n",
    "\n",
    "\n",
    "\n"
   ]
  },
  {
   "cell_type": "markdown",
   "metadata": {},
   "source": [
    "<hr/> \n",
    "\n",
    "6) Vu le dessin, on voudrait mieux observer ce qui se passe entre -1 et 1. Refaire le shéma."
   ]
  },
  {
   "cell_type": "code",
   "execution_count": 20,
   "metadata": {},
   "outputs": [
    {
     "data": {
      "image/png": "[encoded data removed]",
      "text/plain": [
       "<Figure size 432x288 with 1 Axes>"
      ]
     },
     "metadata": {
      "needs_background": "light"
     },
     "output_type": "display_data"
    },
    {
     "name": "stdout",
     "output_type": "stream",
     "text": [
      "Plot object containing:\n",
      "[0]: cartesian line: -0.3*x**3 - 0.25*x**2 + 0.05*x + 0.05 for x over (-1.0, 1.0)\n",
      "[1]: cartesian line: 0.1*x**3 - 0.25*x**2 - 0.15*x for x over (-1.0, 1.0)\n"
     ]
    }
   ],
   "source": [
    "# A compléter ...\n",
    "# ...\n",
    "trc = plot(h, g, (x, -1, 1))\n",
    "print(trc)\n"
   ]
  },
  {
   "cell_type": "markdown",
   "metadata": {},
   "source": [
    "<hr/> \n",
    "\n",
    "\n",
    "7) Déterminer avec sympy les abscisses des points d'intersection de $h$ et de $g$. "
   ]
  },
  {
   "cell_type": "code",
   "execution_count": 21,
   "metadata": {},
   "outputs": [
    {
     "data": {
      "text/plain": [
       "[-0.500000000000000, -0.309016994374947, 0.809016994374947]"
      ]
     },
     "metadata": {},
     "output_type": "display_data"
    }
   ],
   "source": [
    "# A compléter ...\n",
    "# ...\n",
    "intersection_points = sp.solve(h - g, x)\n",
    "display(intersection_points)"
   ]
  },
  {
   "cell_type": "markdown",
   "metadata": {},
   "source": [
    "<hr/> \n",
    "\n",
    "\n",
    "8) On appellera x1 et x2 les deux abscisses des points d'intersection de h et g les plus grandes (les deux dernières).\n",
    "\n",
    "Déterminer l'aire comprise entre les deux courbes pour x variant entre x1 et x2."
   ]
  },
  {
   "cell_type": "code",
   "execution_count": 24,
   "metadata": {},
   "outputs": [
    {
     "data": {
      "text/latex": [
       "$\\displaystyle 0.0698771242968684$"
      ],
      "text/plain": [
       "0.0698771242968684"
      ]
     },
     "metadata": {},
     "output_type": "display_data"
    }
   ],
   "source": [
    "# A compléter ...\n",
    "# ...\n",
    "# Déterminer les valeurs de x1 et x2\n",
    "x1, x2 = intersection_points[-2], intersection_points[-1]\n",
    "\n",
    "# Définir l'expression de l'aire comprise entre les deux courbes\n",
    "aire_entre_courbes = sp.integrate(h - g, (x, x1, x2))\n",
    "display(aire_entre_courbes)"
   ]
  },
  {
   "cell_type": "markdown",
   "metadata": {},
   "source": [
    "## Exercice 3 :  logique\n",
    "Les valeurs Booléennes qui représentent le vrai et le faux sont True et False. Les opérations logiques\n",
    "utilisées sont :  \n",
    "- AND    : a & b\n",
    "- OR  :  a | b\n",
    "- NOT   : ~a\n",
    "- OR : a ^ b\n",
    "- => : a >> b"
   ]
  },
  {
   "cell_type": "markdown",
   "metadata": {},
   "source": [
    "1) Représentez la fonction :  f = (x ∧ y) ∨ (y ∧ z) ∨ (z ∧ x) où x,y et z sont des symboles"
   ]
  },
  {
   "cell_type": "code",
   "execution_count": 32,
   "metadata": {},
   "outputs": [
    {
     "data": {
      "text/latex": [
       "$\\displaystyle \\left(x \\wedge y\\right) \\vee \\left(x \\wedge z\\right) \\vee \\left(y \\wedge z\\right)$"
      ],
      "text/plain": [
       "(x & y) | (x & z) | (y & z)"
      ]
     },
     "metadata": {},
     "output_type": "display_data"
    }
   ],
   "source": [
    "# A compléter ...\n",
    "# ...\n",
    "import sympy as sp\n",
    "x,y,z=sp.symbols('x,y,z')\n",
    "f=(x&y)|(y&z)|(z&x)\n",
    "display(f)\n",
    "\n"
   ]
  },
  {
   "cell_type": "markdown",
   "metadata": {},
   "source": [
    "2) Que vaut f quand x et y sont vrai, et z faux?\n",
    "\n",
    "Et quand x est vrai, y et z sont faux?\n",
    "\n"
   ]
  },
  {
   "cell_type": "code",
   "execution_count": 33,
   "metadata": {},
   "outputs": [
    {
     "data": {
      "text/latex": [
       "$\\displaystyle \\text{True}$"
      ],
      "text/plain": [
       "True"
      ]
     },
     "metadata": {},
     "output_type": "display_data"
    }
   ],
   "source": [
    "# A compléter ...\n",
    "# f quand  x est vrai, y et z sont faux?\n",
    "# ...\n",
    "result1 = f.subs({x: True, y: True, z: False})\n",
    "display(result1)"
   ]
  },
  {
   "cell_type": "code",
   "execution_count": 34,
   "metadata": {},
   "outputs": [
    {
     "data": {
      "text/latex": [
       "$\\displaystyle \\text{False}$"
      ],
      "text/plain": [
       "False"
      ]
     },
     "metadata": {},
     "output_type": "display_data"
    }
   ],
   "source": [
    "# A compléter ...\n",
    "# f quand x et y sont vrai, et z faux?\n",
    "# ...\n",
    "result2 = f.subs({x: True, y: False, z: False})\n",
    "display(result2)"
   ]
  },
  {
   "cell_type": "markdown",
   "metadata": {},
   "source": [
    "3) On peut aussi mélanger valuation et variables: Que sera le résultat de $f$ si on substitue FAUX à la variable y ?"
   ]
  },
  {
   "cell_type": "code",
   "execution_count": 35,
   "metadata": {},
   "outputs": [
    {
     "data": {
      "text/latex": [
       "$\\displaystyle x \\wedge z$"
      ],
      "text/plain": [
       "x & z"
      ]
     },
     "metadata": {},
     "output_type": "display_data"
    }
   ],
   "source": [
    "# A compléter ...\n",
    "# ...\n",
    "result = f.subs(y, False)\n",
    "display(result)"
   ]
  },
  {
   "cell_type": "markdown",
   "metadata": {},
   "source": [
    "5) \n",
    "Simplifier l'expression logique suivante :\n",
    "\n",
    "\n",
    "$$(A ∨ B)∧ (A ∨ \\neg B)∧ (\\neg A ∨ B) $$\n",
    "\n"
   ]
  },
  {
   "cell_type": "code",
   "execution_count": 36,
   "metadata": {},
   "outputs": [
    {
     "data": {
      "text/latex": [
       "$\\displaystyle \\left(A \\vee B\\right) \\wedge \\left(A \\vee \\neg B\\right) \\wedge \\left(B \\vee \\neg A\\right)$"
      ],
      "text/plain": [
       "(A | B) & (A | ~B) & (B | ~A)"
      ]
     },
     "metadata": {},
     "output_type": "display_data"
    },
    {
     "data": {
      "text/latex": [
       "$\\displaystyle A \\wedge B$"
      ],
      "text/plain": [
       "A & B"
      ]
     },
     "metadata": {},
     "output_type": "display_data"
    }
   ],
   "source": [
    "# A compléter ...\n",
    "# ...\n",
    "A,B=sp.symbols('A,B')\n",
    "f2=(A|B)&(A|~B)&(~A|B)\n",
    "display(f2)\n",
    "sim=f2.simplify()\n",
    "display(sim)\n",
    "\n"
   ]
  },
  {
   "cell_type": "markdown",
   "metadata": {},
   "source": [
    "6) Vérifier sur toutes les possibilités que le résultat est correct (on écrira une boucle!)"
   ]
  },
  {
   "cell_type": "code",
   "execution_count": 37,
   "metadata": {},
   "outputs": [
    {
     "name": "stdout",
     "output_type": "stream",
     "text": [
      "A=False, B=False: Expression initiale = False, Expression simplifiée = False\n",
      "A=False, B=True: Expression initiale = False, Expression simplifiée = False\n",
      "A=True, B=False: Expression initiale = False, Expression simplifiée = False\n",
      "A=True, B=True: Expression initiale = True, Expression simplifiée = True\n",
      "\n",
      "Forme normale conjonctive de l'expression simplifiée: A & B\n",
      "Forme normale disjonctive de l'expression simplifiée: A & B\n"
     ]
    }
   ],
   "source": [
    "# A compléter ...\n",
    "# ...\n",
    "possibilities = [(False, False), (False, True), (True, False), (True, True)]\n",
    "\n",
    "# Vérifier l'égalité de l'expression initiale et de l'expression simplifiée pour chaque combinaison\n",
    "for A_val, B_val in possibilities:\n",
    "    # Évaluation de l'expression initiale et simplifiée\n",
    "    original_result = f2.subs({A: A_val, B: B_val})\n",
    "    simplified_result = sim.subs({A: A_val, B: B_val})\n",
    "    \n",
    "    # Affichage des résultats\n",
    "    print(f\"A={A_val}, B={B_val}: Expression initiale = {original_result}, Expression simplifiée = {simplified_result}\")\n",
    "\n",
    "# Forme normale conjonctive de l'expression simplifiée\n",
    "cnf_form = sp.to_cnf(sim)\n",
    "\n",
    "# Forme normale disjonctive de l'expression simplifiée\n",
    "dnf_form = sp.to_dnf(sim)\n",
    "\n",
    "# Affichage des formes normales\n",
    "print(\"\\nForme normale conjonctive de l'expression simplifiée:\", cnf_form)\n",
    "print(\"Forme normale disjonctive de l'expression simplifiée:\", dnf_form)"
   ]
  },
  {
   "cell_type": "markdown",
   "metadata": {},
   "source": [
    "Mise sous forme normale: toute expression peut être mise sous forme normale\n",
    "- d'une conjonction de disjonctions (FN conjonctive)\n",
    "- d'une disjonction de conjonctions (FN disjonctive)\n",
    "\n",
    "Pour trouver la FN conjonctive (resp. disjonctive) de , on fait appel à la fonction to_cnf (resp.\n",
    "to_dnf ) de sympy"
   ]
  },
  {
   "cell_type": "markdown",
   "metadata": {},
   "source": [
    "7) Définir la fonction f : $ \\neg ( z \\to x)\\wedge (x \\vee y)$\n"
   ]
  },
  {
   "cell_type": "code",
   "execution_count": 38,
   "metadata": {},
   "outputs": [
    {
     "name": "stdout",
     "output_type": "stream",
     "text": [
      "Avec print\n",
      "(~(Implies(z, x)), x | y)\n",
      "Avec display\n"
     ]
    },
    {
     "data": {
      "text/plain": [
       "(~(Implies(z, x)), x | y)"
      ]
     },
     "metadata": {},
     "output_type": "display_data"
    }
   ],
   "source": [
    "# A compléter ...\n",
    "# ...\n",
    "z,x,y=sp.symbols('z,x,y')\n",
    "f=~(z >> x), (x | y)\n",
    "print(\"Avec print\")\n",
    "print(f)\n",
    "print(\"Avec display\")\n",
    "display(f)"
   ]
  },
  {
   "cell_type": "code",
   "execution_count": 41,
   "metadata": {},
   "outputs": [
    {
     "data": {
      "text/latex": [
       "$\\displaystyle \\left( z \\not\\Rightarrow x, \\  x \\vee y\\right)$"
      ],
      "text/plain": [
       "(~(Implies(z, x)), x | y)"
      ]
     },
     "metadata": {},
     "output_type": "display_data"
    }
   ],
   "source": [
    "# A compléter ...\n",
    "# ...\n",
    "con = sp.to_cnf(f)\n",
    "display(con)\n"
   ]
  },
  {
   "cell_type": "code",
   "execution_count": 42,
   "metadata": {},
   "outputs": [
    {
     "data": {
      "text/latex": [
       "$\\displaystyle \\left( z \\not\\Rightarrow x, \\  x \\vee y\\right)$"
      ],
      "text/plain": [
       "(~(Implies(z, x)), x | y)"
      ]
     },
     "metadata": {},
     "output_type": "display_data"
    }
   ],
   "source": [
    "# A compléter ...\n",
    "# ...\n",
    "dn = sp.to_dnf(f)\n",
    "display(dn)\n"
   ]
  },
  {
   "cell_type": "markdown",
   "metadata": {},
   "source": [
    "8) Simplifier f"
   ]
  },
  {
   "cell_type": "code",
   "execution_count": 45,
   "metadata": {},
   "outputs": [
    {
     "data": {
      "text/latex": [
       "$\\displaystyle \\left( z \\not\\Rightarrow x, \\  x \\vee y\\right)$"
      ],
      "text/plain": [
       "(~(Implies(z, x)), x | y)"
      ]
     },
     "metadata": {},
     "output_type": "display_data"
    }
   ],
   "source": [
    "# A compléter ...\n",
    "# ...\n",
    "simp=sp.simplify_logic(f)\n",
    "display(simp)\n"
   ]
  },
  {
   "cell_type": "code",
   "execution_count": null,
   "metadata": {},
   "outputs": [],
   "source": []
  },
  {
   "cell_type": "code",
   "execution_count": null,
   "metadata": {},
   "outputs": [],
   "source": []
  },
  {
   "cell_type": "code",
   "execution_count": null,
   "metadata": {},
   "outputs": [],
   "source": []
  },
  {
   "cell_type": "code",
   "execution_count": null,
   "metadata": {},
   "outputs": [],
   "source": []
  }
 ],
 "metadata": {
  "celltoolbar": "Format de la Cellule Texte Brut",
  "kernelspec": {
   "display_name": "Python 3 (ipykernel)",
   "language": "python",
   "name": "python3"
  },
  "language_info": {
   "codemirror_mode": {
    "name": "ipython",
    "version": 3
   },
   "file_extension": ".py",
   "mimetype": "text/x-python",
   "name": "python",
   "nbconvert_exporter": "python",
   "pygments_lexer": "ipython3",
   "version": "3.10.12"
  },
  "latex_envs": {
   "LaTeX_envs_menu_present": true,
   "autoclose": true,
   "autocomplete": true,
   "bibliofile": "biblio.bib",
   "cite_by": "apalike",
   "current_citInitial": 1,
   "eqLabelWithNumbers": true,
   "eqNumInitial": 1,
   "hotkeys": {
    "equation": "Ctrl-E",
    "itemize": "Ctrl-I"
   },
   "labels_anchors": true,
   "latex_user_defs": true,
   "report_style_numbering": true,
   "user_envs_cfg": true
  },
  "nb.metadata.authors": {
   "name": "Youssef CHAHIR"
  },
  "toc": {
   "base_numbering": 1,
   "nav_menu": {
    "height": "211px",
    "width": "339px"
   },
   "number_sections": false,
   "sideBar": true,
   "skip_h1_title": false,
   "title_cell": "Table of Contents",
   "title_sidebar": "Contents",
   "toc_cell": false,
   "toc_position": {},
   "toc_section_display": true,
   "toc_window_display": false
  },
  "varInspector": {
   "cols": {
    "lenName": 16,
    "lenType": 16,
    "lenVar": 40
   },
   "kernels_config": {
    "python": {
     "delete_cmd_postfix": "",
     "delete_cmd_prefix": "del ",
     "library": "var_list.py",
     "varRefreshCmd": "print(var_dic_list())"
    },
    "r": {
     "delete_cmd_postfix": ") ",
     "delete_cmd_prefix": "rm(",
     "library": "var_list.r",
     "varRefreshCmd": "cat(var_dic_list()) "
    }
   },
   "types_to_exclude": [
    "module",
    "function",
    "builtin_function_or_method",
    "instance",
    "_Feature"
   ],
   "window_display": false
  }
 },
 "nbformat": 4,
 "nbformat_minor": 4
}
